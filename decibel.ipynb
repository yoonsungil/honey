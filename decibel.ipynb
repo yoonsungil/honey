{
 "cells": [
  {
   "cell_type": "code",
   "execution_count": 8,
   "id": "e30fd698",
   "metadata": {},
   "outputs": [
    {
     "name": "stdout",
     "output_type": "stream",
     "text": [
      "Collecting tk_tools\n",
      "  Downloading tk_tools-0.16.0-py3-none-any.whl (173 kB)\n",
      "Collecting engineering-notation>=0.5\n",
      "  Downloading engineering_notation-0.7.0-py3-none-any.whl (5.7 kB)\n",
      "Installing collected packages: engineering-notation, tk-tools\n",
      "Successfully installed engineering-notation-0.7.0 tk-tools-0.16.0\n"
     ]
    }
   ],
   "source": [
    "!pip install tk_tools"
   ]
  },
  {
   "cell_type": "code",
   "execution_count": 1,
   "id": "aee8fbd2",
   "metadata": {},
   "outputs": [
    {
     "name": "stdout",
     "output_type": "stream",
     "text": [
      "[  0.           0.          -0.23430179 ... -26.72556953 -50.36816179\n",
      " -50.56671279]\n",
      "[  -3.74882868  -19.63652734  -28.7860489  ... -120.43085733 -160.56160804\n",
      " -220.17579578]\n",
      "[ 201.73384317  685.17584813  952.12280835 ... -180.17131202 -142.4990749\n",
      "  -15.33527127]\n",
      "[  76.1480825   221.82266981  219.12242833 ... -178.97912795 -140.09721653\n",
      "  -71.10551951]\n",
      "[  64.66729467  247.00094495  382.92145264 ... -122.76516177  -44.3371385\n",
      "  -56.49568395]\n",
      "[ 45.45454771 271.30517307 463.99076036 ...  23.29444177  48.42507333\n",
      "  -1.2365165 ]\n",
      "[ 102.85848682  209.61248846  256.98580359 ... -183.95843996 -237.89795523\n",
      " -308.73891971]\n",
      "[ 209.46580232  652.07613526  928.38783029 ... -199.50413101 -204.02925573\n",
      " -120.98742058]\n",
      "[ 125.58576067  360.72899329  488.97201437 ...  -67.07181314 -125.06279866\n",
      "  -89.29802135]\n",
      "[ 228.44424749  749.34805107 1044.30955821 ...  -55.98263856  -54.87951036\n",
      "  -21.06740098]\n",
      "[ 232.19307617  669.40631669  908.37126701 ...  -85.14846859 -174.57473981\n",
      " -235.42050276]\n",
      "[ 266.63543964  837.77965705 1157.29245673 ...  -76.30285968 -103.38160288\n",
      "  -17.53560508]\n",
      "[ 60.918466   178.16104122 177.76727976 ... -69.05717368 -74.56845471\n",
      " -41.5532598 ]\n",
      "[ -57.16963732 -208.66509744 -395.27723403 ... -262.57621022 -160.4532402\n",
      " -178.77765713]\n",
      "[ 239.92503531  800.08355664 1155.0246207  ... -235.00441692 -249.36515608\n",
      " -263.9277065 ]\n",
      "[  68.41612335  262.65434182  388.52996105 ... -154.89588095 -144.95240238\n",
      "  -80.42592593]\n",
      "[ 125.82006246  406.91293265  517.36502942 ... -144.0504787   -91.93982248\n",
      " -119.13830544]\n",
      "[  30.459233    148.24172317  265.32307241 ... -188.43871996 -325.95967442\n",
      " -417.33213222]\n",
      "[-148.54733632 -489.14471054 -779.28686441 ... -130.55573587 -203.33468003\n",
      " -184.42512101]\n",
      "[ -57.16963732 -173.75413038 -249.57819497 ... -258.15519568 -322.4936872\n",
      " -263.85104651]\n",
      "[  87.62887032  291.77092234  359.18837313 ... -390.48283243 -376.18668072\n",
      " -227.96101552]\n",
      "[ -57.16963732 -121.03622712 -130.4510178  ...   98.94292212   15.10034107\n",
      "  -32.48729956]\n",
      "[ -57.16963732 -204.68196697 -303.2149666  ...   68.27420367  -56.94400971\n",
      "  -48.58775949]\n",
      "[-175.02343885 -583.04675483 -832.44940479 ...  -51.04116785 -114.62460445\n",
      "  -73.09874506]\n",
      "[-160.02812414 -536.13138743 -813.66436582 ...  145.05034909  114.01880364\n",
      "   45.48002731]\n",
      "[-182.98969979 -504.75328233 -629.02708249 ... -184.08495558 -164.30316721\n",
      "  -96.8158059 ]\n",
      "[ -99.10965814 -357.9703462  -525.77524368 ...  -12.84164101 -149.13881404\n",
      " -193.56518188]\n",
      "[-118.32240511 -406.0653719  -647.36068201 ...   40.13482343  113.14029491\n",
      "  203.43606348]\n",
      "[ 30.459233   106.30170235 119.29804873 ...  78.07255195   1.86625436\n",
      " -52.58102805]\n",
      "[-144.79850764 -462.24482764 -753.89717329 ...  117.15680649  117.06005531\n",
      "   94.76118779]\n",
      "[ -315.83881602  -983.68854803 -1328.61332926 ...   169.07182055\n",
      "   207.76191514   159.79543196]\n",
      "[-18.97844518 -13.15757237  58.06670239 ... 398.35607861 452.39582548\n",
      " 348.89630738]\n",
      "[ -60.918466   -296.24914454 -598.56717831 ...   17.81593936  -30.57757361\n",
      "    6.78700503]\n",
      "[-201.73384317 -639.72130042 -935.50368351 ...   15.96639457   60.13730916\n",
      "   83.4078477 ]\n",
      "[-114.33927464 -298.77348797 -269.65473166 ...  176.30285411  212.34301518\n",
      "  195.84578812]\n",
      "[ -281.86505614 -1007.02704631 -1521.41970823 ...   248.80107218\n",
      "   118.85689765   -36.92715073]\n",
      "[ -45.92315129 -142.72646164 -304.84427403 ...  151.84247255  185.45059573\n",
      "  179.49961865]\n",
      "[-182.98969979 -569.65487879 -785.3797201  ...  -52.24683811  -66.65649328\n",
      "  -21.3442719 ]\n",
      "[-197.98501449 -597.35749923 -793.79232193 ...  334.18621558  282.41097803\n",
      "  297.42064854]\n",
      "[ -60.918466   -170.66338387 -260.79976066 ...  122.75234495  228.90014818\n",
      "  217.57232587]\n",
      "[-224.69541882 -684.25697603 -892.76567255 ...   79.89088109  189.12128867\n",
      "  208.15812269]\n",
      "[-186.73852846 -581.0908434  -808.3184118  ...  -12.09987116   -8.08289166\n",
      "   93.68331747]\n",
      "[ -358.24744043 -1023.62783234 -1306.35415924 ...   290.79552605\n",
      "   250.16019131   186.35800528]\n",
      "[ 95.36082947 251.17355213 270.64144503 ...  -1.75476545 -65.72452946\n",
      " -83.97512267]\n",
      "[ -358.01313863 -1065.0727633  -1409.70394239 ...   275.02978909\n",
      "   236.30426007   153.06565389]\n",
      "[-110.59044597 -386.21287971 -596.69363895 ...   82.83364404   87.59241684\n",
      "   22.73514339]\n",
      "[-2.93345844e+02 -9.89346429e+02 -1.43836516e+03 ... -4.88543327e+01\n",
      "  3.95865358e-01 -7.50105192e+00]\n",
      "[ -281.86505614  -797.561244   -1010.15895014 ...    -7.69569602\n",
      "    60.74874181    46.32902562]\n",
      "[ -87.62887032 -360.42134749 -607.10818831 ...   93.70049351  240.10887624\n",
      "  254.86758035]\n",
      "[ 30.459233   212.90901784 428.6782775  ... 208.86562049 143.92317658\n",
      "  93.54473772]\n",
      "[ -64.66729467 -243.48641806 -348.78470045 ...  353.2045342   317.54955449\n",
      "  300.63584414]\n",
      "[ -255.15465181  -836.01322608 -1195.74002403 ...    20.52023862\n",
      "    23.75329435    88.34744376]\n",
      "[ -300.84350131  -902.33081716 -1225.56929336 ...   421.78219653\n",
      "   386.0228573    353.65976843]\n",
      "[ -274.13309699  -865.10332033 -1182.58591801 ...   268.97610365\n",
      "   292.85246263   260.38356284]\n",
      "[ -281.86505614  -991.79742981 -1451.28197711 ...   159.55696452\n",
      "   216.60875727   184.19769385]\n",
      "[-121.836932   -371.55169895 -490.33958531 ...  288.29283355  224.7195971\n",
      "  178.72399793]\n",
      "[-205.71697364 -651.88665668 -906.25187612 ...  191.39137835  205.55013855\n",
      "  256.15463293]\n",
      "[-232.42737796 -696.61181087 -869.95159925 ...  358.15472956  256.73969214\n",
      "  229.93340894]\n",
      "[ -304.82663178  -967.68268027 -1373.37017838 ...   284.67497753\n",
      "   286.33533524   234.6192664 ]\n",
      "[-243.90816578 -728.60317305 -949.26003583 ...  213.11476057  220.59458564\n",
      "  162.51558125]\n",
      "[ -266.40113784  -916.94717658 -1241.94495423 ...   252.6861482\n",
      "   260.10785342   264.26736531]\n",
      "[-125.82006246 -444.869823   -635.52647675 ...  310.89281337  323.28079356\n",
      "  242.25033316]\n",
      "[-121.6026302  -363.79325353 -451.76360796 ...  274.4203634   286.26501881\n",
      "  262.37898484]\n",
      "[ -232.19307617  -749.53752965 -1017.0078342  ...   361.14212798\n",
      "   417.93035772   384.19902025]\n",
      "[ -335.05156299 -1035.53240241 -1359.24484896 ...   275.64496254\n",
      "   260.43230888   343.60069797]\n",
      "[ -331.30273431  -989.65407433 -1301.01623492 ...  -119.52425785\n",
      "  -179.98860857  -131.59179394]\n",
      "[-156.27929546 -539.69073752 -780.23710241 ...  161.92909069  134.44940486\n",
      "   88.54411043]\n",
      "[-125.82006246 -364.97291183 -451.7055205  ... -141.81232853  -89.85986868\n",
      "    2.24682323]\n",
      "[-118.32240511 -463.46931102 -711.25375807 ...  156.26702958  146.24381659\n",
      "  103.21728136]\n",
      "[ -419.16590642 -1304.64736038 -1762.15005082 ...   214.14173305\n",
      "   259.29530442   254.5624352 ]\n",
      "[ -346.53235081 -1075.02142194 -1438.46363913 ...   297.82546694\n",
      "   286.87719438   248.35550192]\n",
      "[ -270.38426831  -792.28028614 -1018.45289572 ...   -13.422505\n",
      "    39.78567405    55.6023892 ]\n",
      "[-125.82006246 -448.61865168 -681.87340841 ...  323.84353273  340.70556492\n",
      "  336.1633849 ]\n",
      "[-129.56889114 -353.68160258 -388.42930384 ...  216.64039068  187.63515267\n",
      "  112.0259393 ]\n",
      "[ -350.51548128 -1117.88031299 -1553.96551429 ...   152.5783388\n",
      "   238.61849583   194.15177372]\n",
      "[-144.56420585 -427.30737431 -570.4962039  ...  309.5960557   285.55997971\n",
      "  326.61539884]\n",
      "[ -499.0628176  -1488.70261842 -1953.66310933 ...   122.18615967\n",
      "   589.47053321   425.10594452]\n",
      "[ 194.23618582 -111.59490106 -847.59308254 ...  209.72227134  225.58522339\n",
      "  262.23652852]\n",
      "[-171.50891196 -598.58198261 -911.41133264 ...   51.18560341  112.15732134\n",
      "  144.42620618]\n",
      "[ -30.459233   -151.99055184 -539.64564798 ...  151.94243146  291.888986\n",
      "  211.46641182]\n",
      "[ -26.71040432 -159.29873062 -167.60747148 ...  134.33753577  143.3795033\n",
      "  191.28025434]\n",
      "[-171.50891196 -560.39079046 -781.03970584 ...  114.21234781   87.44915441\n",
      "  117.86518953]\n"
     ]
    },
    {
     "ename": "KeyboardInterrupt",
     "evalue": "",
     "output_type": "error",
     "traceback": [
      "\u001b[1;31m---------------------------------------------------------------------------\u001b[0m",
      "\u001b[1;31mKeyboardInterrupt\u001b[0m                         Traceback (most recent call last)",
      "\u001b[1;32m~\\AppData\\Local\\Temp\\ipykernel_23344\\2021716753.py\u001b[0m in \u001b[0;36m<cell line: 122>\u001b[1;34m()\u001b[0m\n\u001b[0;32m    121\u001b[0m \u001b[1;33m\u001b[0m\u001b[0m\n\u001b[0;32m    122\u001b[0m \u001b[1;32mif\u001b[0m \u001b[0m__name__\u001b[0m \u001b[1;33m==\u001b[0m \u001b[1;34m'__main__'\u001b[0m\u001b[1;33m:\u001b[0m\u001b[1;33m\u001b[0m\u001b[1;33m\u001b[0m\u001b[0m\n\u001b[1;32m--> 123\u001b[1;33m     \u001b[0mmain\u001b[0m\u001b[1;33m(\u001b[0m\u001b[1;33m)\u001b[0m\u001b[1;33m\u001b[0m\u001b[1;33m\u001b[0m\u001b[0m\n\u001b[0m",
      "\u001b[1;32m~\\AppData\\Local\\Temp\\ipykernel_23344\\2021716753.py\u001b[0m in \u001b[0;36mmain\u001b[1;34m()\u001b[0m\n\u001b[0;32m    117\u001b[0m     \u001b[1;32mwith\u001b[0m \u001b[0mMeter\u001b[0m\u001b[1;33m(\u001b[0m\u001b[1;33m)\u001b[0m \u001b[1;32mas\u001b[0m \u001b[0mmeter\u001b[0m\u001b[1;33m:\u001b[0m\u001b[1;33m\u001b[0m\u001b[1;33m\u001b[0m\u001b[0m\n\u001b[0;32m    118\u001b[0m         \u001b[0mgui\u001b[0m \u001b[1;33m=\u001b[0m \u001b[0mGUI\u001b[0m\u001b[1;33m(\u001b[0m\u001b[0mmeter\u001b[0m\u001b[1;33m)\u001b[0m\u001b[1;33m\u001b[0m\u001b[1;33m\u001b[0m\u001b[0m\n\u001b[1;32m--> 119\u001b[1;33m         \u001b[0mgui\u001b[0m\u001b[1;33m.\u001b[0m\u001b[0mrun\u001b[0m\u001b[1;33m(\u001b[0m\u001b[1;33m)\u001b[0m\u001b[1;33m\u001b[0m\u001b[1;33m\u001b[0m\u001b[0m\n\u001b[0m\u001b[0;32m    120\u001b[0m \u001b[1;33m\u001b[0m\u001b[0m\n\u001b[0;32m    121\u001b[0m \u001b[1;33m\u001b[0m\u001b[0m\n",
      "\u001b[1;32m~\\AppData\\Local\\Temp\\ipykernel_23344\\2021716753.py\u001b[0m in \u001b[0;36mrun\u001b[1;34m(self)\u001b[0m\n\u001b[0;32m    104\u001b[0m     \u001b[1;32mdef\u001b[0m \u001b[0mrun\u001b[0m\u001b[1;33m(\u001b[0m\u001b[0mself\u001b[0m\u001b[1;33m)\u001b[0m \u001b[1;33m->\u001b[0m \u001b[1;32mNone\u001b[0m\u001b[1;33m:\u001b[0m\u001b[1;33m\u001b[0m\u001b[1;33m\u001b[0m\u001b[0m\n\u001b[0;32m    105\u001b[0m         \u001b[1;32mwhile\u001b[0m \u001b[1;32mnot\u001b[0m \u001b[0mself\u001b[0m\u001b[1;33m.\u001b[0m\u001b[0mapp_closed\u001b[0m\u001b[1;33m:\u001b[0m\u001b[1;33m\u001b[0m\u001b[1;33m\u001b[0m\u001b[0m\n\u001b[1;32m--> 106\u001b[1;33m             \u001b[0mnew_decibel\u001b[0m \u001b[1;33m=\u001b[0m \u001b[0mself\u001b[0m\u001b[1;33m.\u001b[0m\u001b[0mmeter\u001b[0m\u001b[1;33m.\u001b[0m\u001b[0mlisten\u001b[0m\u001b[1;33m(\u001b[0m\u001b[0mself\u001b[0m\u001b[1;33m.\u001b[0m\u001b[0moffset\u001b[0m\u001b[1;33m.\u001b[0m\u001b[0mget\u001b[0m\u001b[1;33m(\u001b[0m\u001b[1;33m)\u001b[0m\u001b[1;33m)\u001b[0m\u001b[1;33m\u001b[0m\u001b[1;33m\u001b[0m\u001b[0m\n\u001b[0m\u001b[0;32m    107\u001b[0m             \u001b[0mself\u001b[0m\u001b[1;33m.\u001b[0m\u001b[0mupdate\u001b[0m\u001b[1;33m(\u001b[0m\u001b[0mnew_decibel\u001b[0m\u001b[1;33m,\u001b[0m \u001b[0mself\u001b[0m\u001b[1;33m.\u001b[0m\u001b[0mmeter\u001b[0m\u001b[1;33m.\u001b[0m\u001b[0mmax_decibel\u001b[0m\u001b[1;33m)\u001b[0m\u001b[1;33m\u001b[0m\u001b[1;33m\u001b[0m\u001b[0m\n\u001b[0;32m    108\u001b[0m             \u001b[0mself\u001b[0m\u001b[1;33m.\u001b[0m\u001b[0mroot\u001b[0m\u001b[1;33m.\u001b[0m\u001b[0mupdate\u001b[0m\u001b[1;33m(\u001b[0m\u001b[1;33m)\u001b[0m\u001b[1;33m\u001b[0m\u001b[1;33m\u001b[0m\u001b[0m\n",
      "\u001b[1;32m~\\AppData\\Local\\Temp\\ipykernel_23344\\2021716753.py\u001b[0m in \u001b[0;36mlisten\u001b[1;34m(self, offset)\u001b[0m\n\u001b[0;32m     57\u001b[0m \u001b[1;33m\u001b[0m\u001b[0m\n\u001b[0;32m     58\u001b[0m     \u001b[1;32mdef\u001b[0m \u001b[0mlisten\u001b[0m\u001b[1;33m(\u001b[0m\u001b[0mself\u001b[0m\u001b[1;33m,\u001b[0m \u001b[0moffset\u001b[0m\u001b[1;33m:\u001b[0m \u001b[0mint\u001b[0m\u001b[1;33m)\u001b[0m \u001b[1;33m->\u001b[0m \u001b[0mfloat\u001b[0m\u001b[1;33m:\u001b[0m\u001b[1;33m\u001b[0m\u001b[1;33m\u001b[0m\u001b[0m\n\u001b[1;32m---> 59\u001b[1;33m         \u001b[0mblock\u001b[0m \u001b[1;33m=\u001b[0m \u001b[0mself\u001b[0m\u001b[1;33m.\u001b[0m\u001b[0mstream\u001b[0m\u001b[1;33m.\u001b[0m\u001b[0mread\u001b[0m\u001b[1;33m(\u001b[0m\u001b[0mCHUNK\u001b[0m\u001b[1;33m)\u001b[0m\u001b[1;33m\u001b[0m\u001b[1;33m\u001b[0m\u001b[0m\n\u001b[0m\u001b[0;32m     60\u001b[0m         \u001b[0mdecoded_block\u001b[0m \u001b[1;33m=\u001b[0m \u001b[0mnp\u001b[0m\u001b[1;33m.\u001b[0m\u001b[0mfrombuffer\u001b[0m\u001b[1;33m(\u001b[0m\u001b[0mblock\u001b[0m\u001b[1;33m,\u001b[0m \u001b[0mdtype\u001b[0m\u001b[1;33m=\u001b[0m\u001b[0mnp\u001b[0m\u001b[1;33m.\u001b[0m\u001b[0mint16\u001b[0m\u001b[1;33m)\u001b[0m\u001b[1;33m\u001b[0m\u001b[1;33m\u001b[0m\u001b[0m\n\u001b[0;32m     61\u001b[0m         \u001b[0my\u001b[0m \u001b[1;33m=\u001b[0m \u001b[0mlfilter\u001b[0m\u001b[1;33m(\u001b[0m\u001b[0mself\u001b[0m\u001b[1;33m.\u001b[0m\u001b[0mnumerator\u001b[0m\u001b[1;33m,\u001b[0m \u001b[0mself\u001b[0m\u001b[1;33m.\u001b[0m\u001b[0mdenominator\u001b[0m\u001b[1;33m,\u001b[0m \u001b[0mdecoded_block\u001b[0m\u001b[1;33m)\u001b[0m\u001b[1;33m\u001b[0m\u001b[1;33m\u001b[0m\u001b[0m\n",
      "\u001b[1;32m~\\anaconda3\\lib\\site-packages\\pyaudio.py\u001b[0m in \u001b[0;36mread\u001b[1;34m(self, num_frames, exception_on_overflow)\u001b[0m\n\u001b[0;32m    610\u001b[0m                           paCanNotReadFromAnOutputOnlyStream)\n\u001b[0;32m    611\u001b[0m \u001b[1;33m\u001b[0m\u001b[0m\n\u001b[1;32m--> 612\u001b[1;33m         \u001b[1;32mreturn\u001b[0m \u001b[0mpa\u001b[0m\u001b[1;33m.\u001b[0m\u001b[0mread_stream\u001b[0m\u001b[1;33m(\u001b[0m\u001b[0mself\u001b[0m\u001b[1;33m.\u001b[0m\u001b[0m_stream\u001b[0m\u001b[1;33m,\u001b[0m \u001b[0mnum_frames\u001b[0m\u001b[1;33m,\u001b[0m \u001b[0mexception_on_overflow\u001b[0m\u001b[1;33m)\u001b[0m\u001b[1;33m\u001b[0m\u001b[1;33m\u001b[0m\u001b[0m\n\u001b[0m\u001b[0;32m    613\u001b[0m \u001b[1;33m\u001b[0m\u001b[0m\n\u001b[0;32m    614\u001b[0m     \u001b[1;32mdef\u001b[0m \u001b[0mget_read_available\u001b[0m\u001b[1;33m(\u001b[0m\u001b[0mself\u001b[0m\u001b[1;33m)\u001b[0m\u001b[1;33m:\u001b[0m\u001b[1;33m\u001b[0m\u001b[1;33m\u001b[0m\u001b[0m\n",
      "\u001b[1;31mKeyboardInterrupt\u001b[0m: "
     ]
    }
   ],
   "source": [
    "import tkinter as tk\n",
    "import numpy as np\n",
    "import pyaudio\n",
    "import tk_tools\n",
    "from numpy.polynomial import Polynomial\n",
    "from scipy.signal import bilinear, lfilter\n",
    "\n",
    "CHUNKS = [4096, 9600]\n",
    "CHUNK = CHUNKS[1]\n",
    "FORMAT = pyaudio.paInt16\n",
    "CHANNEL = 1\n",
    "RATES = [44100, 48000]\n",
    "RATE = RATES[1]\n",
    "\n",
    "\n",
    "def A_weighting(fs: float) -> tuple[np.ndarray, np.ndarray]:\n",
    "    f1 = 20.598997\n",
    "    f2 = 107.65265\n",
    "    f3 = 737.86223\n",
    "    f4 = 12194.217\n",
    "    a1000 = 1.9997\n",
    "\n",
    "    nums = Polynomial(((2*np.pi * f4)**2 * 10**(a1000 / 20), 0,0,0,0))\n",
    "    dens = (\n",
    "        Polynomial((1, 4*np.pi * f4, (2*np.pi * f4)**2)) *\n",
    "        Polynomial((1, 4*np.pi * f1, (2*np.pi * f1)**2)) *\n",
    "        Polynomial((1, 2*np.pi * f3)) *\n",
    "        Polynomial((1, 2*np.pi * f2))\n",
    "    )\n",
    "    return bilinear(nums.coef, dens.coef, fs)\n",
    "\n",
    "\n",
    "def rms_flat(a: np.ndarray) -> float:\n",
    "    return np.sqrt(a.dot(a) / len(a))\n",
    "\n",
    "\n",
    "class Meter:\n",
    "    def __init__(self) -> None:\n",
    "        self.pa = pyaudio.PyAudio()\n",
    "        self.stream = self.pa.open(\n",
    "            format=FORMAT,\n",
    "            channels=CHANNEL,\n",
    "            rate=RATE,\n",
    "            input=True,\n",
    "            frames_per_buffer=CHUNK,\n",
    "        )\n",
    "        self.numerator, self.denominator = A_weighting(RATE)\n",
    "        self.max_decibel = 0\n",
    "\n",
    "    def __enter__(self) -> 'Meter':\n",
    "        return self\n",
    "\n",
    "    def __exit__(self, exc_type, exc_val, exc_tb) -> None:\n",
    "        self.stream.stop_stream()\n",
    "        self.stream.close()\n",
    "        self.pa.terminate()\n",
    "\n",
    "    def listen(self, offset: int) -> float:\n",
    "        block = self.stream.read(CHUNK)\n",
    "        decoded_block = np.frombuffer(block, dtype=np.int16)\n",
    "        y = lfilter(self.numerator, self.denominator, decoded_block)\n",
    "        new_decibel = 20*np.log10(rms_flat(y)) + offset\n",
    "        self.max_decibel = max(self.max_decibel, new_decibel)\n",
    "        \n",
    "        return new_decibel\n",
    "\n",
    "\n",
    "class GUI:\n",
    "    def __init__(self, meter: Meter) -> None:\n",
    "        self.meter = meter\n",
    "\n",
    "        self.root = root = tk.Tk()\n",
    "        root.title('Decibel Meter')\n",
    "        root.grid()\n",
    "        root.grid_rowconfigure(index=0, weight=1)\n",
    "        root.grid_rowconfigure(index=1, weight=1)\n",
    "        root.grid_columnconfigure(index=0, weight=1)\n",
    "        root.grid_columnconfigure(index=3, weight=1)\n",
    "        root.protocol('WM_DELETE_WINDOW', self.close)\n",
    "        self.app_closed = False\n",
    "\n",
    "        self.gaugedb = tk_tools.RotaryScale(root, max_value=120, unit=' dBA')\n",
    "        # This control does not respect resizing via tk.NSEW.\n",
    "        self.gaugedb.grid(row=0, column=0, rowspan=2, sticky=tk.E)\n",
    "\n",
    "        self.maxdb_display = tk_tools.SevenSegmentDigits(root, digits=3, digit_color='#00ff00', background='black')\n",
    "        self.maxdb_display.grid(row=0, column=1, sticky=tk.S, padx=5)\n",
    "        tk.Label(root, text='Max').grid(row=1, column=1, sticky=tk.N, padx=5)\n",
    "\n",
    "        self.led = tk_tools.Led(root, size=50)\n",
    "        self.led.to_red(on=False)\n",
    "        self.led.grid(row=0, column=2, sticky=tk.S, padx=5)\n",
    "        tk.Label(root, text='Too Loud').grid(row=1, column=2, sticky=tk.N, padx=5)\n",
    "\n",
    "        self.offset = tk.IntVar(root, value=0, name='offset')\n",
    "        spinbox = tk.Spinbox(root, from_=-20, to=20, textvariable=self.offset, state='readonly', width=12)\n",
    "        spinbox.grid(row=0, column=3, sticky=tk.SW, padx=5)\n",
    "        tk.Label(root, text='Calibration (dB)').grid(row=1, column=3, sticky=tk.NW, padx=5)\n",
    "\n",
    "    def close(self) -> None:\n",
    "        self.app_closed = True\n",
    "\n",
    "    def run(self) -> None:\n",
    "        while not self.app_closed:\n",
    "            new_decibel = self.meter.listen(self.offset.get())\n",
    "            self.update(new_decibel, self.meter.max_decibel)\n",
    "            self.root.update()\n",
    "\n",
    "    def update(self, new_decibel: float, max_decibel: float) -> None:\n",
    "        self.gaugedb.set_value(np.around(new_decibel, 1))\n",
    "        self.maxdb_display.set_value(f'{max_decibel:.1f}')\n",
    "        self.led.to_red(on=new_decibel > 85)\n",
    "\n",
    "\n",
    "def main() -> None:\n",
    "    with Meter() as meter:\n",
    "        gui = GUI(meter)\n",
    "        gui.run()\n",
    "\n",
    "\n",
    "if __name__ == '__main__':\n",
    "    main()"
   ]
  },
  {
   "cell_type": "code",
   "execution_count": 36,
   "id": "934eab46",
   "metadata": {},
   "outputs": [
    {
     "name": "stderr",
     "output_type": "stream",
     "text": [
      "C:\\Users\\y2657\\AppData\\Local\\Temp\\ipykernel_16480\\844480076.py:8: FutureWarning: Pass sr=16000 as keyword args. From version 0.10 passing these as positional arguments will result in an error\n",
      "  y, sr = librosa.load(data,16000)\n"
     ]
    }
   ],
   "source": [
    "import numpy as np\n",
    "import pyaudio\n",
    "from numpy.polynomial import Polynomial\n",
    "from scipy.signal import bilinear, lfilter\n",
    "import librosa\n",
    "\n",
    "data = 'data/4차년도/5e27f90b5807b852d9e0157b.wav'\n",
    "y, sr = librosa.load(data,16000)"
   ]
  },
  {
   "cell_type": "code",
   "execution_count": 2,
   "id": "19743a9d",
   "metadata": {},
   "outputs": [
    {
     "name": "stdout",
     "output_type": "stream",
     "text": [
      "[0.         0.         0.         ... 0.00102864 0.00112351 0.00130197]\n"
     ]
    }
   ],
   "source": [
    "print(y)"
   ]
  },
  {
   "cell_type": "code",
   "execution_count": 7,
   "id": "f2a94fb5",
   "metadata": {},
   "outputs": [],
   "source": [
    "test = np.frombuffer(y, dtype = np.int16)"
   ]
  },
  {
   "cell_type": "code",
   "execution_count": 19,
   "id": "62a504a2",
   "metadata": {},
   "outputs": [],
   "source": [
    "f1 = 20.598997\n",
    "f2 = 107.65265\n",
    "f3 = 737.86223\n",
    "f4 = 12194.217\n",
    "a1000 = 1.9997\n",
    "\n",
    "nums = Polynomial(((2*np.pi * f4)**2 * 10**(a1000 / 20), 0,0,0,0))\n",
    "dens = (\n",
    "    Polynomial((1, 4*np.pi * f4, (2*np.pi * f4)**2)) *\n",
    "    Polynomial((1, 4*np.pi * f1, (2*np.pi * f1)**2)) *\n",
    "    Polynomial((1, 2*np.pi * f3)) *\n",
    "    Polynomial((1, 2*np.pi * f2)))\n",
    "a = bilinear(nums.coef, dens.coef, 48000)"
   ]
  },
  {
   "cell_type": "code",
   "execution_count": 30,
   "id": "c070fd91",
   "metadata": {},
   "outputs": [],
   "source": [
    "y = y.astype(np.int16)"
   ]
  },
  {
   "cell_type": "code",
   "execution_count": 31,
   "id": "5834828b",
   "metadata": {},
   "outputs": [],
   "source": [
    "b = lfilter(nums.coef, dens.coef, y)"
   ]
  },
  {
   "cell_type": "code",
   "execution_count": 34,
   "id": "49a726ec",
   "metadata": {},
   "outputs": [
    {
     "name": "stderr",
     "output_type": "stream",
     "text": [
      "C:\\Users\\y2657\\AppData\\Local\\Temp\\ipykernel_16480\\128507497.py:1: RuntimeWarning: divide by zero encountered in log10\n",
      "  new_decibel = 20*np.log10(rms_flat(b))\n"
     ]
    }
   ],
   "source": [
    "new_decibel = 20*np.log10(rms_flat(b))"
   ]
  },
  {
   "cell_type": "code",
   "execution_count": 12,
   "id": "e4866407",
   "metadata": {},
   "outputs": [],
   "source": [
    "def rms_flat(a: np.ndarray) -> float:\n",
    "    return np.sqrt(a.dot(a) / len(a))"
   ]
  },
  {
   "cell_type": "code",
   "execution_count": 5,
   "id": "34636c14",
   "metadata": {},
   "outputs": [],
   "source": [
    "data = 'data/4차년도/5e27f90b5807b852d9e0157b.wav'\n",
    "y, sr = librosa.load(data,sr = 16000)"
   ]
  },
  {
   "cell_type": "code",
   "execution_count": 1,
   "id": "f1dd0529",
   "metadata": {},
   "outputs": [],
   "source": [
    "import librosa\n",
    "import numpy as np"
   ]
  },
  {
   "cell_type": "code",
   "execution_count": 13,
   "id": "f208c0fd",
   "metadata": {},
   "outputs": [],
   "source": [
    "def compute_power_db(x, sr, win_len_sec=0.1, power_ref=10**(-6)):\n",
    "    win_len = round(win_len_sec * sr)\n",
    "    print(win_len)\n",
    "    win = np.ones(win_len) / win_len\n",
    "    print(win)\n",
    "    power_db = 10 * np.log10(np.convolve(x**2, win, mode='same') / power_ref)\n",
    "    return power_db"
   ]
  },
  {
   "cell_type": "code",
   "execution_count": 14,
   "id": "5f7f79e5",
   "metadata": {},
   "outputs": [
    {
     "name": "stdout",
     "output_type": "stream",
     "text": [
      "1600\n",
      "[0.000625 0.000625 0.000625 ... 0.000625 0.000625 0.000625]\n"
     ]
    },
    {
     "name": "stderr",
     "output_type": "stream",
     "text": [
      "C:\\Users\\y2657\\AppData\\Local\\Temp\\ipykernel_15804\\3944047039.py:6: RuntimeWarning: divide by zero encountered in log10\n",
      "  power_db = 10 * np.log10(np.convolve(x**2, win, mode='same') / power_ref)\n"
     ]
    }
   ],
   "source": [
    "power_db = compute_power_db(x=y, sr=sr)"
   ]
  },
  {
   "cell_type": "code",
   "execution_count": 15,
   "id": "3bd918a3",
   "metadata": {},
   "outputs": [
    {
     "data": {
      "text/plain": [
       "array([0.        , 0.        , 0.        , ..., 0.00102864, 0.00112351,\n",
       "       0.00130197], dtype=float32)"
      ]
     },
     "execution_count": 15,
     "metadata": {},
     "output_type": "execute_result"
    }
   ],
   "source": [
    "y"
   ]
  },
  {
   "cell_type": "code",
   "execution_count": 86,
   "id": "b2414ed8",
   "metadata": {},
   "outputs": [
    {
     "data": {
      "text/plain": [
       "[8, 9, 12, 42, 34, 11, 22, 39, 35, 36, 11]"
      ]
     },
     "execution_count": 86,
     "metadata": {},
     "output_type": "execute_result"
    }
   ],
   "source": [
    "d = []\n",
    "for i in range(y_len):\n",
    "    db_max = power_db[i*sr:(i+1)*sr]\n",
    "    db_max = np.max(db_max)\n",
    "    d.append(int(db_max))\n",
    "    \n",
    "d"
   ]
  },
  {
   "cell_type": "code",
   "execution_count": 42,
   "id": "0fe7dbbc",
   "metadata": {},
   "outputs": [],
   "source": [
    "import matplotlib.pyplot as plt"
   ]
  },
  {
   "cell_type": "code",
   "execution_count": 75,
   "id": "781a9ab6",
   "metadata": {},
   "outputs": [
    {
     "data": {
      "image/png": "[encoded data removed]",
      "text/plain": [
       "<Figure size 432x288 with 1 Axes>"
      ]
     },
     "metadata": {
      "needs_background": "light"
     },
     "output_type": "display_data"
    }
   ],
   "source": [
    "plt.plot(power_db)\n",
    "# plt.ylim([50,110])\n",
    "plt.show()"
   ]
  },
  {
   "cell_type": "code",
   "execution_count": null,
   "id": "0b0765f8",
   "metadata": {},
   "outputs": [],
   "source": []
  }
 ],
 "metadata": {
  "kernelspec": {
   "display_name": "Python 3 (ipykernel)",
   "language": "python",
   "name": "python3"
  },
  "language_info": {
   "codemirror_mode": {
    "name": "ipython",
    "version": 3
   },
   "file_extension": ".py",
   "mimetype": "text/x-python",
   "name": "python",
   "nbconvert_exporter": "python",
   "pygments_lexer": "ipython3",
   "version": "3.9.12"
  }
 },
 "nbformat": 4,
 "nbformat_minor": 5
}
