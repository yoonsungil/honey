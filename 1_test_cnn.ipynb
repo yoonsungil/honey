{
 "cells": [
  {
   "cell_type": "code",
   "execution_count": 1,
   "id": "56e1941b",
   "metadata": {},
   "outputs": [],
   "source": [
    "import librosa\n",
    "import librosa.display as dsp\n",
    "import pandas as pd\n",
    "import numpy as np\n",
    "import matplotlib.pyplot as plt\n",
    "from tqdm import tqdm\n",
    "from IPython.display import Audio\n",
    "import os\n",
    "from sklearn.preprocessing import LabelEncoder"
   ]
  },
  {
   "cell_type": "code",
   "execution_count": 13,
   "id": "a36eb20f",
   "metadata": {},
   "outputs": [],
   "source": [
    "df = pd.read_csv('data.csv', encoding='cp949', index_col=0)"
   ]
  },
  {
   "cell_type": "code",
   "execution_count": 14,
   "id": "7cd7561e",
   "metadata": {},
   "outputs": [],
   "source": [
    "df1=df.copy()"
   ]
  },
  {
   "cell_type": "code",
   "execution_count": 15,
   "id": "cbba9b63",
   "metadata": {},
   "outputs": [],
   "source": [
    "le = LabelEncoder()"
   ]
  },
  {
   "cell_type": "code",
   "execution_count": 16,
   "id": "217f8bc6",
   "metadata": {},
   "outputs": [],
   "source": [
    "le.fit(df1['상황'])\n",
    "labels = le.transform(df1['상황'])"
   ]
  },
  {
   "cell_type": "code",
   "execution_count": 17,
   "id": "4be0643c",
   "metadata": {},
   "outputs": [],
   "source": [
    "df1['label'] = labels"
   ]
  },
  {
   "cell_type": "code",
   "execution_count": 18,
   "id": "817c8cff",
   "metadata": {},
   "outputs": [
    {
     "data": {
      "text/html": [
       "<div>\n",
       "<style scoped>\n",
       "    .dataframe tbody tr th:only-of-type {\n",
       "        vertical-align: middle;\n",
       "    }\n",
       "\n",
       "    .dataframe tbody tr th {\n",
       "        vertical-align: top;\n",
       "    }\n",
       "\n",
       "    .dataframe thead th {\n",
       "        text-align: right;\n",
       "    }\n",
       "</style>\n",
       "<table border=\"1\" class=\"dataframe\">\n",
       "  <thead>\n",
       "    <tr style=\"text-align: right;\">\n",
       "      <th></th>\n",
       "      <th>wav_id</th>\n",
       "      <th>상황</th>\n",
       "      <th>발화문</th>\n",
       "    </tr>\n",
       "  </thead>\n",
       "  <tbody>\n",
       "    <tr>\n",
       "      <th>0</th>\n",
       "      <td>5ed10dbc2880d70f286121c3</td>\n",
       "      <td>disgust</td>\n",
       "      <td>개를 예쁘다고 사놓고 끝까지 키우지도 않고 버리는 사람들이 엄청 많아졌대.</td>\n",
       "    </tr>\n",
       "    <tr>\n",
       "      <th>1</th>\n",
       "      <td>5ecb60ef9aa8ea0eec53edb1</td>\n",
       "      <td>disgust</td>\n",
       "      <td>지금도 그대로 있어. 치우는 사람이 없어.</td>\n",
       "    </tr>\n",
       "    <tr>\n",
       "      <th>2</th>\n",
       "      <td>5f052858b140144dfcfef768</td>\n",
       "      <td>sad</td>\n",
       "      <td>맞아. 무기력증인 것 같아. 한동안 정말 바빴었거든.</td>\n",
       "    </tr>\n",
       "    <tr>\n",
       "      <th>3</th>\n",
       "      <td>5f0e72c4b140144dfcff3fa5</td>\n",
       "      <td>sad</td>\n",
       "      <td>오늘이 발표날인데 연락이 없더라고. 그래서 알아봤더니 명단에 내 이름이 없대.</td>\n",
       "    </tr>\n",
       "    <tr>\n",
       "      <th>4</th>\n",
       "      <td>5ed10ddd7e21a10eee2537ce</td>\n",
       "      <td>disgust</td>\n",
       "      <td>그치. 개 키우는 사람이 늘어나니까 그만큼 버리는 사람도 늘어나는 거야!</td>\n",
       "    </tr>\n",
       "    <tr>\n",
       "      <th>...</th>\n",
       "      <td>...</td>\n",
       "      <td>...</td>\n",
       "      <td>...</td>\n",
       "    </tr>\n",
       "    <tr>\n",
       "      <th>29380</th>\n",
       "      <td>5fbe313c44697678c497c05a</td>\n",
       "      <td>fear</td>\n",
       "      <td>나 엘리베이터에 갇혔어.</td>\n",
       "    </tr>\n",
       "    <tr>\n",
       "      <th>29381</th>\n",
       "      <td>5fbe251044697678c497bfb8</td>\n",
       "      <td>angry</td>\n",
       "      <td>하지만 기분이 나쁜 걸 어떡해?</td>\n",
       "    </tr>\n",
       "    <tr>\n",
       "      <th>29382</th>\n",
       "      <td>5fbe31584c55eb78bd7cee7f</td>\n",
       "      <td>fear</td>\n",
       "      <td>자취방 엘리베이턴데 정전인가봐.</td>\n",
       "    </tr>\n",
       "    <tr>\n",
       "      <th>29383</th>\n",
       "      <td>5fbe2f8544697678c497c047</td>\n",
       "      <td>happiness</td>\n",
       "      <td>나 드디어 프로젝트 끝났어!</td>\n",
       "    </tr>\n",
       "    <tr>\n",
       "      <th>29384</th>\n",
       "      <td>5fbe36714c55eb78bd7ceea3</td>\n",
       "      <td>disgust</td>\n",
       "      <td>걱정해줘서 고마워.</td>\n",
       "    </tr>\n",
       "  </tbody>\n",
       "</table>\n",
       "<p>29385 rows × 3 columns</p>\n",
       "</div>"
      ],
      "text/plain": [
       "                         wav_id         상황  \\\n",
       "0      5ed10dbc2880d70f286121c3    disgust   \n",
       "1      5ecb60ef9aa8ea0eec53edb1    disgust   \n",
       "2      5f052858b140144dfcfef768        sad   \n",
       "3      5f0e72c4b140144dfcff3fa5        sad   \n",
       "4      5ed10ddd7e21a10eee2537ce    disgust   \n",
       "...                         ...        ...   \n",
       "29380  5fbe313c44697678c497c05a       fear   \n",
       "29381  5fbe251044697678c497bfb8      angry   \n",
       "29382  5fbe31584c55eb78bd7cee7f       fear   \n",
       "29383  5fbe2f8544697678c497c047  happiness   \n",
       "29384  5fbe36714c55eb78bd7ceea3    disgust   \n",
       "\n",
       "                                               발화문  \n",
       "0        개를 예쁘다고 사놓고 끝까지 키우지도 않고 버리는 사람들이 엄청 많아졌대.  \n",
       "1                          지금도 그대로 있어. 치우는 사람이 없어.  \n",
       "2                    맞아. 무기력증인 것 같아. 한동안 정말 바빴었거든.  \n",
       "3      오늘이 발표날인데 연락이 없더라고. 그래서 알아봤더니 명단에 내 이름이 없대.  \n",
       "4         그치. 개 키우는 사람이 늘어나니까 그만큼 버리는 사람도 늘어나는 거야!  \n",
       "...                                            ...  \n",
       "29380                                나 엘리베이터에 갇혔어.  \n",
       "29381                            하지만 기분이 나쁜 걸 어떡해?  \n",
       "29382                            자취방 엘리베이턴데 정전인가봐.  \n",
       "29383                              나 드디어 프로젝트 끝났어!  \n",
       "29384                                   걱정해줘서 고마워.  \n",
       "\n",
       "[29385 rows x 3 columns]"
      ]
     },
     "execution_count": 18,
     "metadata": {},
     "output_type": "execute_result"
    }
   ],
   "source": [
    "df1[['wav_id', '상황','발화문']]"
   ]
  },
  {
   "cell_type": "code",
   "execution_count": 19,
   "id": "492f73d1",
   "metadata": {},
   "outputs": [
    {
     "data": {
      "text/plain": [
       "array(['disgust', 'sad', 'anger', 'fear', 'neutral', 'happiness',\n",
       "       'sadness', 'angry', 'surprise'], dtype=object)"
      ]
     },
     "execution_count": 19,
     "metadata": {},
     "output_type": "execute_result"
    }
   ],
   "source": [
    "df1['상황'].unique()"
   ]
  },
  {
   "cell_type": "code",
   "execution_count": 9,
   "id": "eee70afa",
   "metadata": {},
   "outputs": [],
   "source": [
    "def wavdataset():\n",
    "    wpath = 'data/5차_wav/'\n",
    "    dataset=[]\n",
    "    for file in tqdm(os.listdir(wpath), colour='green'):\n",
    "        if 'wav' in file:\n",
    "            abs_file_path = os.path.join(wpath,file)\n",
    "            data, sr = librosa.load(abs_file_path,sr = 16000)\n",
    "            class_label = df1[df1.wav_id == file.rstrip('.wav')].label\n",
    "            dataset.append([file,data,class_label])\n",
    "    print('생성완료')\n",
    "    return pd.DataFrame(dataset,columns=['name','data','class_label'])"
   ]
  },
  {
   "cell_type": "code",
   "execution_count": 10,
   "id": "5e393991",
   "metadata": {
    "scrolled": true
   },
   "outputs": [
    {
     "name": "stderr",
     "output_type": "stream",
     "text": [
      "100%|\u001b[32m██████████████████████████████████████████████████████████████████████████\u001b[0m| 29385/29385 [1:30:33<00:00,  5.41it/s]\u001b[0m"
     ]
    },
    {
     "name": "stdout",
     "output_type": "stream",
     "text": [
      "생성완료\n"
     ]
    },
    {
     "name": "stderr",
     "output_type": "stream",
     "text": [
      "\n"
     ]
    }
   ],
   "source": [
    "wavdata = wavdataset()"
   ]
  },
  {
   "cell_type": "code",
   "execution_count": 11,
   "id": "21e681e6",
   "metadata": {},
   "outputs": [
    {
     "data": {
      "text/html": [
       "<div>\n",
       "<style scoped>\n",
       "    .dataframe tbody tr th:only-of-type {\n",
       "        vertical-align: middle;\n",
       "    }\n",
       "\n",
       "    .dataframe tbody tr th {\n",
       "        vertical-align: top;\n",
       "    }\n",
       "\n",
       "    .dataframe thead th {\n",
       "        text-align: right;\n",
       "    }\n",
       "</style>\n",
       "<table border=\"1\" class=\"dataframe\">\n",
       "  <thead>\n",
       "    <tr style=\"text-align: right;\">\n",
       "      <th></th>\n",
       "      <th>name</th>\n",
       "      <th>data</th>\n",
       "      <th>class_label</th>\n",
       "    </tr>\n",
       "  </thead>\n",
       "  <tbody>\n",
       "    <tr>\n",
       "      <th>0</th>\n",
       "      <td>5ebd3dd7c38c123b9ec6deba.wav</td>\n",
       "      <td>[0.0, 0.0, 0.0, 0.0, 0.0, 0.0, 0.0, 0.0, 0.0, ...</td>\n",
       "      <td>Series([], Name: label, dtype: int32)</td>\n",
       "    </tr>\n",
       "    <tr>\n",
       "      <th>1</th>\n",
       "      <td>5ebd3df2c38c123b9ec6debb.wav</td>\n",
       "      <td>[0.0, 0.0, 0.0, 0.0, 0.0, 0.0, 0.0, 0.0, 0.0, ...</td>\n",
       "      <td>7785    6\n",
       "Name: label, dtype: int32</td>\n",
       "    </tr>\n",
       "    <tr>\n",
       "      <th>2</th>\n",
       "      <td>5ebd3e398849ac3aacea582d.wav</td>\n",
       "      <td>[0.0, 0.0, 0.0, 0.0, 0.0, 0.0, 0.0, 0.0, 0.0, ...</td>\n",
       "      <td>7818    6\n",
       "Name: label, dtype: int32</td>\n",
       "    </tr>\n",
       "    <tr>\n",
       "      <th>3</th>\n",
       "      <td>5ebd3eb67bef803b4851e081.wav</td>\n",
       "      <td>[0.0, 0.0, 0.0, 0.0, 0.0, 0.0, 0.0, 0.0, 0.0, ...</td>\n",
       "      <td>819    6\n",
       "Name: label, dtype: int32</td>\n",
       "    </tr>\n",
       "    <tr>\n",
       "      <th>4</th>\n",
       "      <td>5ebd3f0cf2fe7a3b1d545225.wav</td>\n",
       "      <td>[0.0, 0.0, 0.0, 0.0, 0.0, 0.0, 0.0, 0.0, 0.0, ...</td>\n",
       "      <td>7882    6\n",
       "Name: label, dtype: int32</td>\n",
       "    </tr>\n",
       "    <tr>\n",
       "      <th>...</th>\n",
       "      <td>...</td>\n",
       "      <td>...</td>\n",
       "      <td>...</td>\n",
       "    </tr>\n",
       "    <tr>\n",
       "      <th>29380</th>\n",
       "      <td>5fbe35bfcb503578af9eedb2.wav</td>\n",
       "      <td>[0.0, 0.0, 0.0, 0.0, 0.0, 0.0, 0.0, 0.0, 0.0, ...</td>\n",
       "      <td>29346    1\n",
       "Name: label, dtype: int32</td>\n",
       "    </tr>\n",
       "    <tr>\n",
       "      <th>29381</th>\n",
       "      <td>5fbe361844697678c497c07e.wav</td>\n",
       "      <td>[0.0, 0.0, 0.0, 0.0, 0.0, 0.0, 0.0, 0.0, 0.0, ...</td>\n",
       "      <td>29353    2\n",
       "Name: label, dtype: int32</td>\n",
       "    </tr>\n",
       "    <tr>\n",
       "      <th>29382</th>\n",
       "      <td>5fbe364744697678c497c07f.wav</td>\n",
       "      <td>[0.0, 0.0, 0.0, 0.0, 0.0, 0.0, 0.0, 0.0, 0.0, ...</td>\n",
       "      <td>29335    2\n",
       "Name: label, dtype: int32</td>\n",
       "    </tr>\n",
       "    <tr>\n",
       "      <th>29383</th>\n",
       "      <td>5fbe3656cb503578af9eedb4.wav</td>\n",
       "      <td>[0.0, 0.0, 0.0, 0.0, 0.0, 0.0, 0.0, 0.0, 0.0, ...</td>\n",
       "      <td>29363    2\n",
       "Name: label, dtype: int32</td>\n",
       "    </tr>\n",
       "    <tr>\n",
       "      <th>29384</th>\n",
       "      <td>5fbe36714c55eb78bd7ceea3.wav</td>\n",
       "      <td>[0.0, 0.0, 0.0, 0.0, 0.0, 0.0, 0.0, 0.0, 0.0, ...</td>\n",
       "      <td>29384    2\n",
       "Name: label, dtype: int32</td>\n",
       "    </tr>\n",
       "  </tbody>\n",
       "</table>\n",
       "<p>29385 rows × 3 columns</p>\n",
       "</div>"
      ],
      "text/plain": [
       "                               name  \\\n",
       "0      5ebd3dd7c38c123b9ec6deba.wav   \n",
       "1      5ebd3df2c38c123b9ec6debb.wav   \n",
       "2      5ebd3e398849ac3aacea582d.wav   \n",
       "3      5ebd3eb67bef803b4851e081.wav   \n",
       "4      5ebd3f0cf2fe7a3b1d545225.wav   \n",
       "...                             ...   \n",
       "29380  5fbe35bfcb503578af9eedb2.wav   \n",
       "29381  5fbe361844697678c497c07e.wav   \n",
       "29382  5fbe364744697678c497c07f.wav   \n",
       "29383  5fbe3656cb503578af9eedb4.wav   \n",
       "29384  5fbe36714c55eb78bd7ceea3.wav   \n",
       "\n",
       "                                                    data  \\\n",
       "0      [0.0, 0.0, 0.0, 0.0, 0.0, 0.0, 0.0, 0.0, 0.0, ...   \n",
       "1      [0.0, 0.0, 0.0, 0.0, 0.0, 0.0, 0.0, 0.0, 0.0, ...   \n",
       "2      [0.0, 0.0, 0.0, 0.0, 0.0, 0.0, 0.0, 0.0, 0.0, ...   \n",
       "3      [0.0, 0.0, 0.0, 0.0, 0.0, 0.0, 0.0, 0.0, 0.0, ...   \n",
       "4      [0.0, 0.0, 0.0, 0.0, 0.0, 0.0, 0.0, 0.0, 0.0, ...   \n",
       "...                                                  ...   \n",
       "29380  [0.0, 0.0, 0.0, 0.0, 0.0, 0.0, 0.0, 0.0, 0.0, ...   \n",
       "29381  [0.0, 0.0, 0.0, 0.0, 0.0, 0.0, 0.0, 0.0, 0.0, ...   \n",
       "29382  [0.0, 0.0, 0.0, 0.0, 0.0, 0.0, 0.0, 0.0, 0.0, ...   \n",
       "29383  [0.0, 0.0, 0.0, 0.0, 0.0, 0.0, 0.0, 0.0, 0.0, ...   \n",
       "29384  [0.0, 0.0, 0.0, 0.0, 0.0, 0.0, 0.0, 0.0, 0.0, ...   \n",
       "\n",
       "                                 class_label  \n",
       "0      Series([], Name: label, dtype: int32)  \n",
       "1        7785    6\n",
       "Name: label, dtype: int32  \n",
       "2        7818    6\n",
       "Name: label, dtype: int32  \n",
       "3         819    6\n",
       "Name: label, dtype: int32  \n",
       "4        7882    6\n",
       "Name: label, dtype: int32  \n",
       "...                                      ...  \n",
       "29380   29346    1\n",
       "Name: label, dtype: int32  \n",
       "29381   29353    2\n",
       "Name: label, dtype: int32  \n",
       "29382   29335    2\n",
       "Name: label, dtype: int32  \n",
       "29383   29363    2\n",
       "Name: label, dtype: int32  \n",
       "29384   29384    2\n",
       "Name: label, dtype: int32  \n",
       "\n",
       "[29385 rows x 3 columns]"
      ]
     },
     "execution_count": 11,
     "metadata": {},
     "output_type": "execute_result"
    }
   ],
   "source": [
    "wavdata"
   ]
  },
  {
   "cell_type": "code",
   "execution_count": 12,
   "id": "071367e2",
   "metadata": {},
   "outputs": [],
   "source": [
    "w = wavdata['name']"
   ]
  },
  {
   "cell_type": "code",
   "execution_count": 13,
   "id": "d0d0a110",
   "metadata": {},
   "outputs": [
    {
     "name": "stderr",
     "output_type": "stream",
     "text": [
      "100%|███████████████████████████████████████████████████████████████████████████| 29385/29385 [00:37<00:00, 783.08it/s]\n"
     ]
    }
   ],
   "source": [
    "label=[]\n",
    "for i in tqdm(w):\n",
    "    label.append(list(df1[df1.wav_id == i.replace('.wav','')].label))"
   ]
  },
  {
   "cell_type": "code",
   "execution_count": 14,
   "id": "06d0f95a",
   "metadata": {},
   "outputs": [],
   "source": [
    "label = (sum(label,[]))"
   ]
  },
  {
   "cell_type": "code",
   "execution_count": 15,
   "id": "e6a020c5",
   "metadata": {},
   "outputs": [],
   "source": [
    "wavdata['label'] = label"
   ]
  },
  {
   "cell_type": "code",
   "execution_count": 16,
   "id": "b2667987",
   "metadata": {},
   "outputs": [
    {
     "data": {
      "text/html": [
       "<div>\n",
       "<style scoped>\n",
       "    .dataframe tbody tr th:only-of-type {\n",
       "        vertical-align: middle;\n",
       "    }\n",
       "\n",
       "    .dataframe tbody tr th {\n",
       "        vertical-align: top;\n",
       "    }\n",
       "\n",
       "    .dataframe thead th {\n",
       "        text-align: right;\n",
       "    }\n",
       "</style>\n",
       "<table border=\"1\" class=\"dataframe\">\n",
       "  <thead>\n",
       "    <tr style=\"text-align: right;\">\n",
       "      <th></th>\n",
       "      <th>name</th>\n",
       "      <th>data</th>\n",
       "      <th>class_label</th>\n",
       "      <th>label</th>\n",
       "    </tr>\n",
       "  </thead>\n",
       "  <tbody>\n",
       "    <tr>\n",
       "      <th>0</th>\n",
       "      <td>5ebd3dd7c38c123b9ec6deba.wav</td>\n",
       "      <td>[0.0, 0.0, 0.0, 0.0, 0.0, 0.0, 0.0, 0.0, 0.0, ...</td>\n",
       "      <td>Series([], Name: label, dtype: int32)</td>\n",
       "      <td>6</td>\n",
       "    </tr>\n",
       "    <tr>\n",
       "      <th>1</th>\n",
       "      <td>5ebd3df2c38c123b9ec6debb.wav</td>\n",
       "      <td>[0.0, 0.0, 0.0, 0.0, 0.0, 0.0, 0.0, 0.0, 0.0, ...</td>\n",
       "      <td>7785    6\n",
       "Name: label, dtype: int32</td>\n",
       "      <td>6</td>\n",
       "    </tr>\n",
       "    <tr>\n",
       "      <th>2</th>\n",
       "      <td>5ebd3e398849ac3aacea582d.wav</td>\n",
       "      <td>[0.0, 0.0, 0.0, 0.0, 0.0, 0.0, 0.0, 0.0, 0.0, ...</td>\n",
       "      <td>7818    6\n",
       "Name: label, dtype: int32</td>\n",
       "      <td>6</td>\n",
       "    </tr>\n",
       "    <tr>\n",
       "      <th>3</th>\n",
       "      <td>5ebd3eb67bef803b4851e081.wav</td>\n",
       "      <td>[0.0, 0.0, 0.0, 0.0, 0.0, 0.0, 0.0, 0.0, 0.0, ...</td>\n",
       "      <td>819    6\n",
       "Name: label, dtype: int32</td>\n",
       "      <td>6</td>\n",
       "    </tr>\n",
       "    <tr>\n",
       "      <th>4</th>\n",
       "      <td>5ebd3f0cf2fe7a3b1d545225.wav</td>\n",
       "      <td>[0.0, 0.0, 0.0, 0.0, 0.0, 0.0, 0.0, 0.0, 0.0, ...</td>\n",
       "      <td>7882    6\n",
       "Name: label, dtype: int32</td>\n",
       "      <td>6</td>\n",
       "    </tr>\n",
       "    <tr>\n",
       "      <th>...</th>\n",
       "      <td>...</td>\n",
       "      <td>...</td>\n",
       "      <td>...</td>\n",
       "      <td>...</td>\n",
       "    </tr>\n",
       "    <tr>\n",
       "      <th>29380</th>\n",
       "      <td>5fbe35bfcb503578af9eedb2.wav</td>\n",
       "      <td>[0.0, 0.0, 0.0, 0.0, 0.0, 0.0, 0.0, 0.0, 0.0, ...</td>\n",
       "      <td>29346    1\n",
       "Name: label, dtype: int32</td>\n",
       "      <td>1</td>\n",
       "    </tr>\n",
       "    <tr>\n",
       "      <th>29381</th>\n",
       "      <td>5fbe361844697678c497c07e.wav</td>\n",
       "      <td>[0.0, 0.0, 0.0, 0.0, 0.0, 0.0, 0.0, 0.0, 0.0, ...</td>\n",
       "      <td>29353    2\n",
       "Name: label, dtype: int32</td>\n",
       "      <td>2</td>\n",
       "    </tr>\n",
       "    <tr>\n",
       "      <th>29382</th>\n",
       "      <td>5fbe364744697678c497c07f.wav</td>\n",
       "      <td>[0.0, 0.0, 0.0, 0.0, 0.0, 0.0, 0.0, 0.0, 0.0, ...</td>\n",
       "      <td>29335    2\n",
       "Name: label, dtype: int32</td>\n",
       "      <td>2</td>\n",
       "    </tr>\n",
       "    <tr>\n",
       "      <th>29383</th>\n",
       "      <td>5fbe3656cb503578af9eedb4.wav</td>\n",
       "      <td>[0.0, 0.0, 0.0, 0.0, 0.0, 0.0, 0.0, 0.0, 0.0, ...</td>\n",
       "      <td>29363    2\n",
       "Name: label, dtype: int32</td>\n",
       "      <td>2</td>\n",
       "    </tr>\n",
       "    <tr>\n",
       "      <th>29384</th>\n",
       "      <td>5fbe36714c55eb78bd7ceea3.wav</td>\n",
       "      <td>[0.0, 0.0, 0.0, 0.0, 0.0, 0.0, 0.0, 0.0, 0.0, ...</td>\n",
       "      <td>29384    2\n",
       "Name: label, dtype: int32</td>\n",
       "      <td>2</td>\n",
       "    </tr>\n",
       "  </tbody>\n",
       "</table>\n",
       "<p>29385 rows × 4 columns</p>\n",
       "</div>"
      ],
      "text/plain": [
       "                               name  \\\n",
       "0      5ebd3dd7c38c123b9ec6deba.wav   \n",
       "1      5ebd3df2c38c123b9ec6debb.wav   \n",
       "2      5ebd3e398849ac3aacea582d.wav   \n",
       "3      5ebd3eb67bef803b4851e081.wav   \n",
       "4      5ebd3f0cf2fe7a3b1d545225.wav   \n",
       "...                             ...   \n",
       "29380  5fbe35bfcb503578af9eedb2.wav   \n",
       "29381  5fbe361844697678c497c07e.wav   \n",
       "29382  5fbe364744697678c497c07f.wav   \n",
       "29383  5fbe3656cb503578af9eedb4.wav   \n",
       "29384  5fbe36714c55eb78bd7ceea3.wav   \n",
       "\n",
       "                                                    data  \\\n",
       "0      [0.0, 0.0, 0.0, 0.0, 0.0, 0.0, 0.0, 0.0, 0.0, ...   \n",
       "1      [0.0, 0.0, 0.0, 0.0, 0.0, 0.0, 0.0, 0.0, 0.0, ...   \n",
       "2      [0.0, 0.0, 0.0, 0.0, 0.0, 0.0, 0.0, 0.0, 0.0, ...   \n",
       "3      [0.0, 0.0, 0.0, 0.0, 0.0, 0.0, 0.0, 0.0, 0.0, ...   \n",
       "4      [0.0, 0.0, 0.0, 0.0, 0.0, 0.0, 0.0, 0.0, 0.0, ...   \n",
       "...                                                  ...   \n",
       "29380  [0.0, 0.0, 0.0, 0.0, 0.0, 0.0, 0.0, 0.0, 0.0, ...   \n",
       "29381  [0.0, 0.0, 0.0, 0.0, 0.0, 0.0, 0.0, 0.0, 0.0, ...   \n",
       "29382  [0.0, 0.0, 0.0, 0.0, 0.0, 0.0, 0.0, 0.0, 0.0, ...   \n",
       "29383  [0.0, 0.0, 0.0, 0.0, 0.0, 0.0, 0.0, 0.0, 0.0, ...   \n",
       "29384  [0.0, 0.0, 0.0, 0.0, 0.0, 0.0, 0.0, 0.0, 0.0, ...   \n",
       "\n",
       "                                 class_label  label  \n",
       "0      Series([], Name: label, dtype: int32)      6  \n",
       "1        7785    6\n",
       "Name: label, dtype: int32      6  \n",
       "2        7818    6\n",
       "Name: label, dtype: int32      6  \n",
       "3         819    6\n",
       "Name: label, dtype: int32      6  \n",
       "4        7882    6\n",
       "Name: label, dtype: int32      6  \n",
       "...                                      ...    ...  \n",
       "29380   29346    1\n",
       "Name: label, dtype: int32      1  \n",
       "29381   29353    2\n",
       "Name: label, dtype: int32      2  \n",
       "29382   29335    2\n",
       "Name: label, dtype: int32      2  \n",
       "29383   29363    2\n",
       "Name: label, dtype: int32      2  \n",
       "29384   29384    2\n",
       "Name: label, dtype: int32      2  \n",
       "\n",
       "[29385 rows x 4 columns]"
      ]
     },
     "execution_count": 16,
     "metadata": {},
     "output_type": "execute_result"
    }
   ],
   "source": [
    "wavdata"
   ]
  },
  {
   "cell_type": "code",
   "execution_count": 17,
   "id": "b3b60554",
   "metadata": {},
   "outputs": [
    {
     "data": {
      "text/html": [
       "<div>\n",
       "<style scoped>\n",
       "    .dataframe tbody tr th:only-of-type {\n",
       "        vertical-align: middle;\n",
       "    }\n",
       "\n",
       "    .dataframe tbody tr th {\n",
       "        vertical-align: top;\n",
       "    }\n",
       "\n",
       "    .dataframe thead th {\n",
       "        text-align: right;\n",
       "    }\n",
       "</style>\n",
       "<table border=\"1\" class=\"dataframe\">\n",
       "  <thead>\n",
       "    <tr style=\"text-align: right;\">\n",
       "      <th></th>\n",
       "      <th>name</th>\n",
       "      <th>data</th>\n",
       "      <th>label</th>\n",
       "    </tr>\n",
       "  </thead>\n",
       "  <tbody>\n",
       "    <tr>\n",
       "      <th>0</th>\n",
       "      <td>5ebd3dd7c38c123b9ec6deba.wav</td>\n",
       "      <td>[0.0, 0.0, 0.0, 0.0, 0.0, 0.0, 0.0, 0.0, 0.0, ...</td>\n",
       "      <td>6</td>\n",
       "    </tr>\n",
       "    <tr>\n",
       "      <th>1</th>\n",
       "      <td>5ebd3df2c38c123b9ec6debb.wav</td>\n",
       "      <td>[0.0, 0.0, 0.0, 0.0, 0.0, 0.0, 0.0, 0.0, 0.0, ...</td>\n",
       "      <td>6</td>\n",
       "    </tr>\n",
       "    <tr>\n",
       "      <th>2</th>\n",
       "      <td>5ebd3e398849ac3aacea582d.wav</td>\n",
       "      <td>[0.0, 0.0, 0.0, 0.0, 0.0, 0.0, 0.0, 0.0, 0.0, ...</td>\n",
       "      <td>6</td>\n",
       "    </tr>\n",
       "    <tr>\n",
       "      <th>3</th>\n",
       "      <td>5ebd3eb67bef803b4851e081.wav</td>\n",
       "      <td>[0.0, 0.0, 0.0, 0.0, 0.0, 0.0, 0.0, 0.0, 0.0, ...</td>\n",
       "      <td>6</td>\n",
       "    </tr>\n",
       "    <tr>\n",
       "      <th>4</th>\n",
       "      <td>5ebd3f0cf2fe7a3b1d545225.wav</td>\n",
       "      <td>[0.0, 0.0, 0.0, 0.0, 0.0, 0.0, 0.0, 0.0, 0.0, ...</td>\n",
       "      <td>6</td>\n",
       "    </tr>\n",
       "    <tr>\n",
       "      <th>...</th>\n",
       "      <td>...</td>\n",
       "      <td>...</td>\n",
       "      <td>...</td>\n",
       "    </tr>\n",
       "    <tr>\n",
       "      <th>29380</th>\n",
       "      <td>5fbe35bfcb503578af9eedb2.wav</td>\n",
       "      <td>[0.0, 0.0, 0.0, 0.0, 0.0, 0.0, 0.0, 0.0, 0.0, ...</td>\n",
       "      <td>1</td>\n",
       "    </tr>\n",
       "    <tr>\n",
       "      <th>29381</th>\n",
       "      <td>5fbe361844697678c497c07e.wav</td>\n",
       "      <td>[0.0, 0.0, 0.0, 0.0, 0.0, 0.0, 0.0, 0.0, 0.0, ...</td>\n",
       "      <td>2</td>\n",
       "    </tr>\n",
       "    <tr>\n",
       "      <th>29382</th>\n",
       "      <td>5fbe364744697678c497c07f.wav</td>\n",
       "      <td>[0.0, 0.0, 0.0, 0.0, 0.0, 0.0, 0.0, 0.0, 0.0, ...</td>\n",
       "      <td>2</td>\n",
       "    </tr>\n",
       "    <tr>\n",
       "      <th>29383</th>\n",
       "      <td>5fbe3656cb503578af9eedb4.wav</td>\n",
       "      <td>[0.0, 0.0, 0.0, 0.0, 0.0, 0.0, 0.0, 0.0, 0.0, ...</td>\n",
       "      <td>2</td>\n",
       "    </tr>\n",
       "    <tr>\n",
       "      <th>29384</th>\n",
       "      <td>5fbe36714c55eb78bd7ceea3.wav</td>\n",
       "      <td>[0.0, 0.0, 0.0, 0.0, 0.0, 0.0, 0.0, 0.0, 0.0, ...</td>\n",
       "      <td>2</td>\n",
       "    </tr>\n",
       "  </tbody>\n",
       "</table>\n",
       "<p>29385 rows × 3 columns</p>\n",
       "</div>"
      ],
      "text/plain": [
       "                               name  \\\n",
       "0      5ebd3dd7c38c123b9ec6deba.wav   \n",
       "1      5ebd3df2c38c123b9ec6debb.wav   \n",
       "2      5ebd3e398849ac3aacea582d.wav   \n",
       "3      5ebd3eb67bef803b4851e081.wav   \n",
       "4      5ebd3f0cf2fe7a3b1d545225.wav   \n",
       "...                             ...   \n",
       "29380  5fbe35bfcb503578af9eedb2.wav   \n",
       "29381  5fbe361844697678c497c07e.wav   \n",
       "29382  5fbe364744697678c497c07f.wav   \n",
       "29383  5fbe3656cb503578af9eedb4.wav   \n",
       "29384  5fbe36714c55eb78bd7ceea3.wav   \n",
       "\n",
       "                                                    data  label  \n",
       "0      [0.0, 0.0, 0.0, 0.0, 0.0, 0.0, 0.0, 0.0, 0.0, ...      6  \n",
       "1      [0.0, 0.0, 0.0, 0.0, 0.0, 0.0, 0.0, 0.0, 0.0, ...      6  \n",
       "2      [0.0, 0.0, 0.0, 0.0, 0.0, 0.0, 0.0, 0.0, 0.0, ...      6  \n",
       "3      [0.0, 0.0, 0.0, 0.0, 0.0, 0.0, 0.0, 0.0, 0.0, ...      6  \n",
       "4      [0.0, 0.0, 0.0, 0.0, 0.0, 0.0, 0.0, 0.0, 0.0, ...      6  \n",
       "...                                                  ...    ...  \n",
       "29380  [0.0, 0.0, 0.0, 0.0, 0.0, 0.0, 0.0, 0.0, 0.0, ...      1  \n",
       "29381  [0.0, 0.0, 0.0, 0.0, 0.0, 0.0, 0.0, 0.0, 0.0, ...      2  \n",
       "29382  [0.0, 0.0, 0.0, 0.0, 0.0, 0.0, 0.0, 0.0, 0.0, ...      2  \n",
       "29383  [0.0, 0.0, 0.0, 0.0, 0.0, 0.0, 0.0, 0.0, 0.0, ...      2  \n",
       "29384  [0.0, 0.0, 0.0, 0.0, 0.0, 0.0, 0.0, 0.0, 0.0, ...      2  \n",
       "\n",
       "[29385 rows x 3 columns]"
      ]
     },
     "execution_count": 17,
     "metadata": {},
     "output_type": "execute_result"
    }
   ],
   "source": [
    "wdata = wavdata[['name','data','label']]\n",
    "wdata"
   ]
  },
  {
   "cell_type": "code",
   "execution_count": 18,
   "id": "b9843e77",
   "metadata": {},
   "outputs": [],
   "source": [
    "data = np.array(wdata.data)\n",
    "target = np.array(wdata.label)"
   ]
  },
  {
   "cell_type": "code",
   "execution_count": 19,
   "id": "8b22860f",
   "metadata": {},
   "outputs": [],
   "source": [
    "def get_mini(data):\n",
    "    mini = 9999999\n",
    "    for i in data:\n",
    "        if len(i)<mini:\n",
    "            mini = len(i)\n",
    "    return mini\n",
    "data_mini = get_mini(data)"
   ]
  },
  {
   "cell_type": "code",
   "execution_count": 20,
   "id": "c7d810dc",
   "metadata": {},
   "outputs": [
    {
     "name": "stdout",
     "output_type": "stream",
     "text": [
      "17750\n"
     ]
    }
   ],
   "source": [
    "print(data_mini)"
   ]
  },
  {
   "cell_type": "code",
   "execution_count": 21,
   "id": "99f377d9",
   "metadata": {},
   "outputs": [],
   "source": [
    "def set_length(data, d_mini):\n",
    "    result = []\n",
    "    for i in data:\n",
    "        result.append(i[:d_mini])\n",
    "    result = np.array(result)\n",
    "    return result\n",
    "\n",
    "data1 = set_length(data, data_mini)"
   ]
  },
  {
   "cell_type": "code",
   "execution_count": 22,
   "id": "867a2272",
   "metadata": {},
   "outputs": [
    {
     "data": {
      "text/plain": [
       "17750"
      ]
     },
     "execution_count": 22,
     "metadata": {},
     "output_type": "execute_result"
    }
   ],
   "source": [
    "len(data1[0])"
   ]
  },
  {
   "cell_type": "code",
   "execution_count": 23,
   "id": "02d1e3c9",
   "metadata": {},
   "outputs": [],
   "source": [
    "def preprocess_dataset(data):\n",
    "    mfccs = []\n",
    "    mels = []\n",
    "    for i in tqdm(data):\n",
    "        mfcc = librosa.feature.mfcc(y=i,sr=16000,n_mfcc=40)\n",
    "        mfccs.append(mfcc)\n",
    "        \n",
    "        mel = librosa.feature.melspectrogram(y=i, sr=16000, n_mels=40)\n",
    "        mel = librosa.power_to_db(mel, ref=np.max)\n",
    "        mels.append(mel)\n",
    "        \n",
    "        \n",
    "    return mfccs, mels"
   ]
  },
  {
   "cell_type": "code",
   "execution_count": 24,
   "id": "350b6009",
   "metadata": {},
   "outputs": [
    {
     "name": "stderr",
     "output_type": "stream",
     "text": [
      "100%|███████████████████████████████████████████████████████████████████████████| 29385/29385 [03:40<00:00, 133.52it/s]\n"
     ]
    }
   ],
   "source": [
    "data_mfcc, data_mels = preprocess_dataset(data1)"
   ]
  },
  {
   "cell_type": "code",
   "execution_count": 25,
   "id": "c48f1f4b",
   "metadata": {},
   "outputs": [],
   "source": [
    "data_mfcc = np.array(data_mfcc)\n",
    "data_mels = np.array(data_mels)"
   ]
  },
  {
   "cell_type": "code",
   "execution_count": 26,
   "id": "3f76f46f",
   "metadata": {},
   "outputs": [],
   "source": [
    "data_mfcc = data_mfcc.reshape(-1, data_mfcc.shape[1],data_mfcc.shape[2], 1)\n",
    "data_mels = data_mels.reshape(-1, data_mels.shape[1],data_mels.shape[2], 1)"
   ]
  },
  {
   "cell_type": "code",
   "execution_count": 27,
   "id": "c5f207e7",
   "metadata": {},
   "outputs": [
    {
     "name": "stdout",
     "output_type": "stream",
     "text": [
      "(29385, 40, 35, 1)\n",
      "(29385, 40, 35, 1)\n"
     ]
    }
   ],
   "source": [
    "print(data_mfcc.shape)\n",
    "print(data_mels.shape)"
   ]
  },
  {
   "cell_type": "code",
   "execution_count": 28,
   "id": "85202b8c",
   "metadata": {},
   "outputs": [],
   "source": [
    "from sklearn.model_selection import train_test_split"
   ]
  },
  {
   "cell_type": "code",
   "execution_count": 29,
   "id": "062bdb40",
   "metadata": {},
   "outputs": [],
   "source": [
    "train_mfcc , test_mfcc, y_train, y_test = train_test_split(data_mfcc, target, test_size=0.3, stratify=target)"
   ]
  },
  {
   "cell_type": "code",
   "execution_count": 30,
   "id": "fd01bde6",
   "metadata": {},
   "outputs": [],
   "source": [
    "train_mels, test_mels, train_y,test_y = train_test_split(data_mels, target, test_size=0.3, stratify=target)"
   ]
  },
  {
   "cell_type": "code",
   "execution_count": 31,
   "id": "87faaefc",
   "metadata": {},
   "outputs": [
    {
     "name": "stdout",
     "output_type": "stream",
     "text": [
      "(20569, 40, 35, 1)\n",
      "(20569, 40, 35, 1)\n"
     ]
    }
   ],
   "source": [
    "print(train_mfcc.shape)\n",
    "print(train_mels.shape)"
   ]
  },
  {
   "cell_type": "code",
   "execution_count": 48,
   "id": "289c6d66",
   "metadata": {},
   "outputs": [
    {
     "data": {
      "text/plain": [
       "29385"
      ]
     },
     "execution_count": 48,
     "metadata": {},
     "output_type": "execute_result"
    }
   ],
   "source": [
    "len(data_mels)"
   ]
  },
  {
   "cell_type": "code",
   "execution_count": 32,
   "id": "40236bf1",
   "metadata": {},
   "outputs": [],
   "source": [
    "# np.save('train_mfcc',train_mfcc)\n",
    "# np.save('test_mfcc',test_mfcc)\n",
    "# np.save('y_train',y_train)\n",
    "# np.save('y_test',y_test)\n",
    "# np.save('train_mels',train_mels)\n",
    "# np.save('test_mels',test_mels)\n",
    "# np.save('train_y',train_y)\n",
    "# np.save('test_y',test_y)"
   ]
  },
  {
   "cell_type": "code",
   "execution_count": 18,
   "id": "69197375",
   "metadata": {},
   "outputs": [],
   "source": [
    "train_mfcc = np.load('train_mfcc.npy')\n",
    "test_mfcc = np.load('test_mfcc.npy')\n",
    "y_train_mfcc = np.load('y_train.npy')\n",
    "y_test_mfcc = np.load('y_test.npy')\n",
    "train_mels = np.load('train_mels.npy')\n",
    "test_mels = np.load('test_mels.npy')\n",
    "train_y_mels = np.load('train_y.npy')\n",
    "test_y_mels = np.load('test_y.npy')"
   ]
  },
  {
   "cell_type": "code",
   "execution_count": 3,
   "id": "77b54c75",
   "metadata": {},
   "outputs": [],
   "source": [
    "import tensorflow as tf\n",
    "from tensorflow.keras.models import Sequential, Model\n",
    "from tensorflow.keras.layers import Dense, Dropout, Flatten, GlobalAveragePooling2D, Conv2D, MaxPool2D, ZeroPadding2D, BatchNormalization, Input, DepthwiseConv2D, Add, LeakyReLU, ReLU\n",
    "from tensorflow.keras.optimizers import Adam, SGD"
   ]
  },
  {
   "cell_type": "code",
   "execution_count": 4,
   "id": "f2cab57d",
   "metadata": {},
   "outputs": [],
   "source": [
    "def residual_block(x, filters_in, filters_out):\n",
    "    shortcut = x\n",
    "    x = BatchNormalization()(x)\n",
    "    x = ReLU()(x)\n",
    "    x = Conv2D(filters_in, kernel_size=(1, 1), strides=(1, 1), padding=\"same\",kernel_initializer='he_normal')(x)\n",
    "\n",
    "    x = BatchNormalization()(x)\n",
    "    x = ReLU()(x)    \n",
    "    x = Conv2D(filters_in, kernel_size=(3, 3), strides=(1, 1), padding=\"same\",kernel_initializer='he_normal')(x)\n",
    "\n",
    "    x = BatchNormalization()(x)\n",
    "    x = ReLU()(x)  \n",
    "    x = Conv2D(filters_out, kernel_size=(1, 1), strides=(1, 1), padding=\"same\",kernel_initializer='he_normal')(x)\n",
    "\n",
    "    shortcut_channel = x.shape.as_list()[0]\n",
    "    \n",
    "    if shortcut_channel != filters_out:\n",
    "        shortcut = Conv2D(filters_out, kernel_size=(1, 1), strides=(1, 1), padding=\"same\",kernel_initializer='he_normal')(shortcut)\n",
    "        \n",
    "    x = Add()([x, shortcut])\n",
    "    return ReLU()(x)"
   ]
  },
  {
   "cell_type": "code",
   "execution_count": 5,
   "id": "5b0486a3",
   "metadata": {},
   "outputs": [
    {
     "name": "stdout",
     "output_type": "stream",
     "text": [
      "Model: \"model\"\n",
      "__________________________________________________________________________________________________\n",
      " Layer (type)                   Output Shape         Param #     Connected to                     \n",
      "==================================================================================================\n",
      " input_1 (InputLayer)           [(None, 40, 35, 1)]  0           []                               \n",
      "                                                                                                  \n",
      " conv2d (Conv2D)                (None, 40, 35, 16)   160         ['input_1[0][0]']                \n",
      "                                                                                                  \n",
      " batch_normalization (BatchNorm  (None, 40, 35, 16)  64          ['conv2d[0][0]']                 \n",
      " alization)                                                                                       \n",
      "                                                                                                  \n",
      " re_lu (ReLU)                   (None, 40, 35, 16)   0           ['batch_normalization[0][0]']    \n",
      "                                                                                                  \n",
      " max_pooling2d (MaxPooling2D)   (None, 20, 17, 16)   0           ['re_lu[0][0]']                  \n",
      "                                                                                                  \n",
      " batch_normalization_1 (BatchNo  (None, 20, 17, 16)  64          ['max_pooling2d[0][0]']          \n",
      " rmalization)                                                                                     \n",
      "                                                                                                  \n",
      " re_lu_1 (ReLU)                 (None, 20, 17, 16)   0           ['batch_normalization_1[0][0]']  \n",
      "                                                                                                  \n",
      " conv2d_1 (Conv2D)              (None, 20, 17, 16)   272         ['re_lu_1[0][0]']                \n",
      "                                                                                                  \n",
      " batch_normalization_2 (BatchNo  (None, 20, 17, 16)  64          ['conv2d_1[0][0]']               \n",
      " rmalization)                                                                                     \n",
      "                                                                                                  \n",
      " re_lu_2 (ReLU)                 (None, 20, 17, 16)   0           ['batch_normalization_2[0][0]']  \n",
      "                                                                                                  \n",
      " conv2d_2 (Conv2D)              (None, 20, 17, 16)   2320        ['re_lu_2[0][0]']                \n",
      "                                                                                                  \n",
      " batch_normalization_3 (BatchNo  (None, 20, 17, 16)  64          ['conv2d_2[0][0]']               \n",
      " rmalization)                                                                                     \n",
      "                                                                                                  \n",
      " re_lu_3 (ReLU)                 (None, 20, 17, 16)   0           ['batch_normalization_3[0][0]']  \n",
      "                                                                                                  \n",
      " conv2d_3 (Conv2D)              (None, 20, 17, 32)   544         ['re_lu_3[0][0]']                \n",
      "                                                                                                  \n",
      " conv2d_4 (Conv2D)              (None, 20, 17, 32)   544         ['max_pooling2d[0][0]']          \n",
      "                                                                                                  \n",
      " add (Add)                      (None, 20, 17, 32)   0           ['conv2d_3[0][0]',               \n",
      "                                                                  'conv2d_4[0][0]']               \n",
      "                                                                                                  \n",
      " re_lu_4 (ReLU)                 (None, 20, 17, 32)   0           ['add[0][0]']                    \n",
      "                                                                                                  \n",
      " max_pooling2d_1 (MaxPooling2D)  (None, 10, 8, 32)   0           ['re_lu_4[0][0]']                \n",
      "                                                                                                  \n",
      " batch_normalization_4 (BatchNo  (None, 10, 8, 32)   128         ['max_pooling2d_1[0][0]']        \n",
      " rmalization)                                                                                     \n",
      "                                                                                                  \n",
      " re_lu_5 (ReLU)                 (None, 10, 8, 32)    0           ['batch_normalization_4[0][0]']  \n",
      "                                                                                                  \n",
      " conv2d_5 (Conv2D)              (None, 10, 8, 32)    1056        ['re_lu_5[0][0]']                \n",
      "                                                                                                  \n",
      " batch_normalization_5 (BatchNo  (None, 10, 8, 32)   128         ['conv2d_5[0][0]']               \n",
      " rmalization)                                                                                     \n",
      "                                                                                                  \n",
      " re_lu_6 (ReLU)                 (None, 10, 8, 32)    0           ['batch_normalization_5[0][0]']  \n",
      "                                                                                                  \n",
      " conv2d_6 (Conv2D)              (None, 10, 8, 32)    9248        ['re_lu_6[0][0]']                \n",
      "                                                                                                  \n",
      " batch_normalization_6 (BatchNo  (None, 10, 8, 32)   128         ['conv2d_6[0][0]']               \n",
      " rmalization)                                                                                     \n",
      "                                                                                                  \n",
      " re_lu_7 (ReLU)                 (None, 10, 8, 32)    0           ['batch_normalization_6[0][0]']  \n",
      "                                                                                                  \n",
      " conv2d_7 (Conv2D)              (None, 10, 8, 32)    1056        ['re_lu_7[0][0]']                \n",
      "                                                                                                  \n",
      " conv2d_8 (Conv2D)              (None, 10, 8, 32)    1056        ['max_pooling2d_1[0][0]']        \n",
      "                                                                                                  \n",
      " add_1 (Add)                    (None, 10, 8, 32)    0           ['conv2d_7[0][0]',               \n",
      "                                                                  'conv2d_8[0][0]']               \n",
      "                                                                                                  \n",
      " re_lu_8 (ReLU)                 (None, 10, 8, 32)    0           ['add_1[0][0]']                  \n",
      "                                                                                                  \n",
      " batch_normalization_7 (BatchNo  (None, 10, 8, 32)   128         ['re_lu_8[0][0]']                \n",
      " rmalization)                                                                                     \n",
      "                                                                                                  \n",
      " re_lu_9 (ReLU)                 (None, 10, 8, 32)    0           ['batch_normalization_7[0][0]']  \n",
      "                                                                                                  \n",
      " conv2d_9 (Conv2D)              (None, 10, 8, 32)    1056        ['re_lu_9[0][0]']                \n",
      "                                                                                                  \n",
      " batch_normalization_8 (BatchNo  (None, 10, 8, 32)   128         ['conv2d_9[0][0]']               \n",
      " rmalization)                                                                                     \n",
      "                                                                                                  \n",
      " re_lu_10 (ReLU)                (None, 10, 8, 32)    0           ['batch_normalization_8[0][0]']  \n"
     ]
    },
    {
     "name": "stdout",
     "output_type": "stream",
     "text": [
      "                                                                                                  \n",
      " conv2d_10 (Conv2D)             (None, 10, 8, 32)    9248        ['re_lu_10[0][0]']               \n",
      "                                                                                                  \n",
      " batch_normalization_9 (BatchNo  (None, 10, 8, 32)   128         ['conv2d_10[0][0]']              \n",
      " rmalization)                                                                                     \n",
      "                                                                                                  \n",
      " re_lu_11 (ReLU)                (None, 10, 8, 32)    0           ['batch_normalization_9[0][0]']  \n",
      "                                                                                                  \n",
      " conv2d_11 (Conv2D)             (None, 10, 8, 64)    2112        ['re_lu_11[0][0]']               \n",
      "                                                                                                  \n",
      " conv2d_12 (Conv2D)             (None, 10, 8, 64)    2112        ['re_lu_8[0][0]']                \n",
      "                                                                                                  \n",
      " add_2 (Add)                    (None, 10, 8, 64)    0           ['conv2d_11[0][0]',              \n",
      "                                                                  'conv2d_12[0][0]']              \n",
      "                                                                                                  \n",
      " re_lu_12 (ReLU)                (None, 10, 8, 64)    0           ['add_2[0][0]']                  \n",
      "                                                                                                  \n",
      " max_pooling2d_2 (MaxPooling2D)  (None, 5, 4, 64)    0           ['re_lu_12[0][0]']               \n",
      "                                                                                                  \n",
      " batch_normalization_10 (BatchN  (None, 5, 4, 64)    256         ['max_pooling2d_2[0][0]']        \n",
      " ormalization)                                                                                    \n",
      "                                                                                                  \n",
      " re_lu_13 (ReLU)                (None, 5, 4, 64)     0           ['batch_normalization_10[0][0]'] \n",
      "                                                                                                  \n",
      " conv2d_13 (Conv2D)             (None, 5, 4, 64)     4160        ['re_lu_13[0][0]']               \n",
      "                                                                                                  \n",
      " batch_normalization_11 (BatchN  (None, 5, 4, 64)    256         ['conv2d_13[0][0]']              \n",
      " ormalization)                                                                                    \n",
      "                                                                                                  \n",
      " re_lu_14 (ReLU)                (None, 5, 4, 64)     0           ['batch_normalization_11[0][0]'] \n",
      "                                                                                                  \n",
      " conv2d_14 (Conv2D)             (None, 5, 4, 64)     36928       ['re_lu_14[0][0]']               \n",
      "                                                                                                  \n",
      " batch_normalization_12 (BatchN  (None, 5, 4, 64)    256         ['conv2d_14[0][0]']              \n",
      " ormalization)                                                                                    \n",
      "                                                                                                  \n",
      " re_lu_15 (ReLU)                (None, 5, 4, 64)     0           ['batch_normalization_12[0][0]'] \n",
      "                                                                                                  \n",
      " conv2d_15 (Conv2D)             (None, 5, 4, 64)     4160        ['re_lu_15[0][0]']               \n",
      "                                                                                                  \n",
      " conv2d_16 (Conv2D)             (None, 5, 4, 64)     4160        ['max_pooling2d_2[0][0]']        \n",
      "                                                                                                  \n",
      " add_3 (Add)                    (None, 5, 4, 64)     0           ['conv2d_15[0][0]',              \n",
      "                                                                  'conv2d_16[0][0]']              \n",
      "                                                                                                  \n",
      " re_lu_16 (ReLU)                (None, 5, 4, 64)     0           ['add_3[0][0]']                  \n",
      "                                                                                                  \n",
      " max_pooling2d_3 (MaxPooling2D)  (None, 2, 2, 64)    0           ['re_lu_16[0][0]']               \n",
      "                                                                                                  \n",
      " global_average_pooling2d (Glob  (None, 64)          0           ['max_pooling2d_3[0][0]']        \n",
      " alAveragePooling2D)                                                                              \n",
      "                                                                                                  \n",
      " flatten (Flatten)              (None, 64)           0           ['global_average_pooling2d[0][0]'\n",
      "                                                                 ]                                \n",
      "                                                                                                  \n",
      " dense (Dense)                  (None, 32)           2080        ['flatten[0][0]']                \n",
      "                                                                                                  \n",
      " batch_normalization_13 (BatchN  (None, 32)          128         ['dense[0][0]']                  \n",
      " ormalization)                                                                                    \n",
      "                                                                                                  \n",
      " re_lu_17 (ReLU)                (None, 32)           0           ['batch_normalization_13[0][0]'] \n",
      "                                                                                                  \n",
      " dropout (Dropout)              (None, 32)           0           ['re_lu_17[0][0]']               \n",
      "                                                                                                  \n",
      " dense_1 (Dense)                (None, 10)           330         ['dropout[0][0]']                \n",
      "                                                                                                  \n",
      "==================================================================================================\n",
      "Total params: 84,522\n",
      "Trainable params: 83,562\n",
      "Non-trainable params: 960\n",
      "__________________________________________________________________________________________________\n"
     ]
    }
   ],
   "source": [
    "def build_model():\n",
    "\n",
    "    inputs = tf.keras.layers.Input(shape=(40,35,1))\n",
    "\n",
    "    outputs = Conv2D(16,(3,3),activation=None,padding='same',kernel_initializer='he_normal')(inputs)\n",
    "    outputs = BatchNormalization()(outputs)\n",
    "    outputs = ReLU()(outputs)\n",
    "    outputs = MaxPool2D((2,2))(outputs)\n",
    "\n",
    "    outputs = residual_block(outputs, 16, 32)\n",
    "    outputs = MaxPool2D((2,2))(outputs)\n",
    "    outputs = residual_block(outputs, 32, 32)\n",
    "    #outputs = residual_block(outputs, 32, 32)\n",
    "    outputs = residual_block(outputs, 32, 64)\n",
    "    outputs = MaxPool2D((2,2))(outputs)\n",
    "    outputs = residual_block(outputs, 64, 64)\n",
    "    # outputs = residual_block(outputs, 64, 64)\n",
    "    outputs = MaxPool2D((2,2))(outputs)\n",
    "\n",
    "    outputs = GlobalAveragePooling2D()(outputs)\n",
    "    outputs = Flatten()(outputs)\n",
    "\n",
    "    outputs = Dense(32,activation=None,kernel_initializer='he_normal')(outputs)\n",
    "    outputs = BatchNormalization()(outputs)\n",
    "    outputs = ReLU()(outputs)\n",
    "    outputs = Dropout(0.5)(outputs)\n",
    "\n",
    "    outputs = Dense(10,activation='softmax')(outputs)\n",
    "    model = Model(inputs=inputs, outputs=outputs)\n",
    "    model.compile(optimizer='adam',\n",
    "              loss='sparse_categorical_crossentropy',\n",
    "              metrics=['accuracy'])\n",
    "  \n",
    "    return model\n",
    "\n",
    "model = build_model()\n",
    "model.summary()"
   ]
  },
  {
   "cell_type": "code",
   "execution_count": 13,
   "id": "ff67821a",
   "metadata": {},
   "outputs": [],
   "source": [
    "#x_train, x_val, y_train, y_val = train_mels[train_index], train_mels[val_index], train_y[train_index], train_y[val_index]\n",
    "#x_train, x_val, y_train, y_val = train_mfcc[train_index], train_mfcc[val_index], y_train[train_index], y_train[val_index]"
   ]
  },
  {
   "cell_type": "code",
   "execution_count": 22,
   "id": "2171808c",
   "metadata": {},
   "outputs": [
    {
     "name": "stdout",
     "output_type": "stream",
     "text": [
      "\n",
      "********** 1 fold **********\n",
      "129/129 [==============================] - 2s 14ms/step\n",
      "276/276 [==============================] - 4s 15ms/step\n",
      "mels_model_acc : 0.2491\n",
      "129/129 [==============================] - 2s 14ms/step\n",
      "276/276 [==============================] - 4s 14ms/step\n",
      "mfcc_model_acc : 0.2521\n",
      "ensemble_model_acc : 0.2324\n",
      "\n",
      "********** 2 fold **********\n",
      "129/129 [==============================] - 2s 16ms/step\n",
      "276/276 [==============================] - 4s 16ms/step\n",
      "mels_model_acc : 0.2516\n",
      "129/129 [==============================] - 2s 16ms/step\n",
      "276/276 [==============================] - 4s 16ms/step\n",
      "mfcc_model_acc : 0.2523\n",
      "ensemble_model_acc : 0.2314\n",
      "\n",
      "********** 3 fold **********\n",
      "129/129 [==============================] - 2s 15ms/step\n",
      "276/276 [==============================] - 4s 15ms/step\n",
      "mels_model_acc : 0.2331\n",
      "129/129 [==============================] - 2s 15ms/step\n",
      "276/276 [==============================] - 4s 15ms/step\n",
      "mfcc_model_acc : 0.2433\n",
      "ensemble_model_acc : 0.2093\n",
      "\n",
      "********** 4 fold **********\n",
      "129/129 [==============================] - 2s 15ms/step\n",
      "276/276 [==============================] - 4s 16ms/step\n",
      "mels_model_acc : 0.2496\n",
      "129/129 [==============================] - 2s 15ms/step\n",
      "276/276 [==============================] - 4s 15ms/step\n",
      "mfcc_model_acc : 0.2596\n",
      "ensemble_model_acc : 0.2375\n",
      "\n",
      "********** 5 fold **********\n",
      "129/129 [==============================] - 2s 16ms/step\n",
      "276/276 [==============================] - 4s 15ms/step\n",
      "mels_model_acc : 0.2509\n",
      "129/129 [==============================] - 2s 16ms/step\n",
      "276/276 [==============================] - 4s 16ms/step\n",
      "mfcc_model_acc : 0.2577\n",
      "ensemble_model_acc : 0.2227\n",
      "\n",
      "\n",
      "mean_acc : 0.2267\n"
     ]
    }
   ],
   "source": [
    "from sklearn.model_selection import StratifiedKFold\n",
    "from tensorflow.keras.models import load_model\n",
    "from sklearn.metrics import accuracy_score\n",
    "\n",
    "acc_list = []\n",
    "pred_list = []\n",
    "skf = StratifiedKFold(n_splits=5)\n",
    "\n",
    "for fold,(train_index, val_index) in enumerate(skf.split(train_mels, train_y_mels)):\n",
    "\n",
    "    print(f'\\n********** {fold+1} fold **********')\n",
    "\n",
    "    preds_val_list = []\n",
    "  ### melspectrogram ###\n",
    "    model = build_model()\n",
    "    x_train, x_val, y_train, y_val = train_mels[train_index], train_mels[val_index], train_y_mels[train_index], train_y_mels[val_index]\n",
    "    filepath = f\"model.res_test_0615_mels_{fold}.hdf5\"\n",
    "    callbacks = [tf.keras.callbacks.ModelCheckpoint(filepath, monitor='val_loss', verbose=0, save_best_only=True, mode='min')]\n",
    "    history = model.fit(x_train, y_train, batch_size=32, epochs=50, validation_data=(x_val,y_val), callbacks=callbacks, verbose=0)\n",
    "    model = load_model(filepath)\n",
    "\n",
    "    preds_val = model.predict(x_val)\n",
    "    preds_val_list.append(preds_val)\n",
    "    preds_val_label = np.argmax(preds_val, axis=1)\n",
    "    pred_list.append(model.predict(test_mels))\n",
    "    print(f'mels_model_acc : {accuracy_score(y_val,preds_val_label):.4f}')\n",
    "\n",
    "  ### mfcc ###\n",
    "    model = build_model()\n",
    "    x_train, x_val, y_train, y_val = train_mfcc[train_index], train_mfcc[val_index], y_train_mfcc[train_index], y_train_mfcc[val_index]\n",
    "    filepath = f\"model.res_test_0615_mfcc_{fold}.hdf5\"\n",
    "    callbacks = [tf.keras.callbacks.ModelCheckpoint(filepath, monitor='val_loss', verbose=0, save_best_only=True, mode='min')]\n",
    "    history = model.fit(x_train, y_train, batch_size=32, epochs=50, validation_data=(x_val,y_val), callbacks=callbacks, verbose=0)\n",
    "    model = load_model(filepath)\n",
    "\n",
    "    preds_val = model.predict(x_val)\n",
    "    preds_val_list.append(preds_val)\n",
    "    preds_val_label = np.argmax(preds_val, axis=1)\n",
    "    pred_list.append(model.predict(test_mfcc))\n",
    "    print(f'mfcc_model_acc : {accuracy_score(y_val,preds_val_label):.4f}')\n",
    "\n",
    "  ### ensemble ###\n",
    "    val_pred_result = preds_val_list[0].copy()\n",
    "    for i in range(1, len(preds_val_list)):\n",
    "        val_pred_result += preds_val_list[i]\n",
    "    val_pred_label = np.argmax(val_pred_result, axis=1)\n",
    "    en_acc = accuracy_score(y_val,val_pred_label)\n",
    "    acc_list.append(en_acc)\n",
    "    print(f'ensemble_model_acc : {en_acc:.4f}')\n",
    "\n",
    "print(f'\\n\\nmean_acc : {np.mean(acc_list):.4f}')"
   ]
  },
  {
   "cell_type": "code",
   "execution_count": 58,
   "id": "55bb3486",
   "metadata": {},
   "outputs": [],
   "source": [
    "y, sr = librosa.load('data/5차년도_2차/5f3ea1919dd513131eace41a.wav', sr=16000, offset=0.5, duration=2)"
   ]
  },
  {
   "cell_type": "code",
   "execution_count": 69,
   "id": "2f213512",
   "metadata": {},
   "outputs": [],
   "source": [
    "mfcc = librosa.feature.mfcc(y = y, sr = sr, n_mfcc=24)\n",
    "mfccmean = np.mean(librosa.feature.mfcc(y = y, sr = sr, n_mfcc=24),axis=0)"
   ]
  },
  {
   "cell_type": "code",
   "execution_count": 79,
   "id": "a932e1c7",
   "metadata": {},
   "outputs": [
    {
     "data": {
      "text/plain": [
       "array([-17.7372  , -20.807709, -24.452776, -24.424213, -24.206114,\n",
       "       -22.503178, -21.53911 , -22.44091 , -25.197035, -26.72076 ,\n",
       "       -27.828463, -27.65851 , -27.464922, -27.094807, -26.432402,\n",
       "       -24.920685, -24.821156, -23.310316, -21.439045, -19.087898,\n",
       "       -19.746016, -21.131254, -21.059166, -20.888638, -20.317293,\n",
       "       -19.955406, -20.525776, -20.690123, -21.405247, -23.572224,\n",
       "       -24.717934, -24.475931, -22.608263, -22.977888, -22.941832,\n",
       "       -23.13899 , -22.467506, -21.206919, -23.462938, -24.327717,\n",
       "       -25.84135 , -25.228884, -23.246714, -22.89912 , -24.270565,\n",
       "       -21.487722, -18.9255  , -20.459963, -22.312847, -21.895878,\n",
       "       -22.072857, -22.454136, -21.270447, -18.785702, -19.67067 ,\n",
       "       -23.27997 , -25.316689, -25.318552, -21.48048 , -19.973164,\n",
       "       -20.673704, -22.59533 , -25.076687], dtype=float32)"
      ]
     },
     "execution_count": 79,
     "metadata": {},
     "output_type": "execute_result"
    }
   ],
   "source": [
    "mfccmean1 = np.mean(librosa.feature.mfcc(y = y, sr = sr, n_mfcc=13),axis=0)\n",
    "mfccmean1"
   ]
  },
  {
   "cell_type": "code",
   "execution_count": 80,
   "id": "ab5ef914",
   "metadata": {},
   "outputs": [
    {
     "data": {
      "text/plain": [
       "array([-10.869301 , -12.644525 , -15.0408325, -15.293953 , -15.375569 ,\n",
       "       -14.810199 , -14.651856 , -15.325135 , -16.70664  , -16.150705 ,\n",
       "       -15.363227 , -15.617424 , -15.246503 , -15.094491 , -14.8004265,\n",
       "       -13.542432 , -14.684414 , -13.914601 , -13.044381 , -12.596069 ,\n",
       "       -12.354405 , -12.871686 , -13.530235 , -13.602935 , -12.756259 ,\n",
       "       -12.143989 , -13.201187 , -12.890334 , -13.584721 , -14.806323 ,\n",
       "       -14.765504 , -14.707921 , -13.46759  , -13.697894 , -14.150229 ,\n",
       "       -14.58376  , -14.675939 , -13.899957 , -13.522363 , -13.834301 ,\n",
       "       -13.586617 , -12.54536  , -11.482802 , -11.611442 , -11.610448 ,\n",
       "        -9.666555 ,  -8.404742 ,  -9.22748  ,  -9.978843 ,  -9.692157 ,\n",
       "       -11.927498 , -13.947738 , -13.117301 , -10.622043 , -11.211728 ,\n",
       "       -13.249371 , -13.7289505, -13.592366 , -11.140786 , -10.979832 ,\n",
       "       -13.649392 , -14.806789 , -15.152267 ], dtype=float32)"
      ]
     },
     "execution_count": 80,
     "metadata": {},
     "output_type": "execute_result"
    }
   ],
   "source": [
    "mfccmean"
   ]
  },
  {
   "cell_type": "code",
   "execution_count": 68,
   "id": "ee6ff2db",
   "metadata": {},
   "outputs": [
    {
     "data": {
      "text/plain": [
       "13"
      ]
     },
     "execution_count": 68,
     "metadata": {},
     "output_type": "execute_result"
    }
   ],
   "source": [
    "mfcc1 = librosa.feature.mfcc(y=y,sr=sr,n_mfcc=13)\n",
    "len(mfcc1)"
   ]
  },
  {
   "cell_type": "code",
   "execution_count": 87,
   "id": "daa636c3",
   "metadata": {},
   "outputs": [
    {
     "data": {
      "text/plain": [
       "array([-10.869301 , -12.644525 , -15.0408325, -15.293953 , -15.375569 ,\n",
       "       -14.810199 , -14.651856 , -15.325135 , -16.70664  , -16.150705 ,\n",
       "       -15.363227 , -15.617424 , -15.246503 , -15.094491 , -14.8004265,\n",
       "       -13.542432 , -14.684414 , -13.914601 , -13.044381 , -12.596069 ,\n",
       "       -12.354405 , -12.871686 , -13.530235 , -13.602935 , -12.756259 ,\n",
       "       -12.143989 , -13.201187 , -12.890334 , -13.584721 , -14.806323 ,\n",
       "       -14.765504 , -14.707921 , -13.46759  , -13.697894 , -14.150229 ,\n",
       "       -14.58376  , -14.675939 , -13.899957 , -13.522363 , -13.834301 ,\n",
       "       -13.586617 , -12.54536  , -11.482802 , -11.611442 , -11.610448 ,\n",
       "        -9.666555 ,  -8.404742 ,  -9.22748  ,  -9.978843 ,  -9.692157 ,\n",
       "       -11.927498 , -13.947738 , -13.117301 , -10.622043 , -11.211728 ,\n",
       "       -13.249371 , -13.7289505, -13.592366 , -11.140786 , -10.979832 ,\n",
       "       -13.649392 , -14.806789 , -15.152267 ], dtype=float32)"
      ]
     },
     "execution_count": 87,
     "metadata": {},
     "output_type": "execute_result"
    }
   ],
   "source": [
    "tmfcc = mfccmean.T\n",
    "tmfcc"
   ]
  },
  {
   "cell_type": "code",
   "execution_count": 86,
   "id": "25ea01bb",
   "metadata": {},
   "outputs": [
    {
     "data": {
      "text/plain": [
       "(63,)"
      ]
     },
     "execution_count": 86,
     "metadata": {},
     "output_type": "execute_result"
    }
   ],
   "source": [
    "mfccmean.shape"
   ]
  },
  {
   "cell_type": "code",
   "execution_count": 88,
   "id": "8212f504",
   "metadata": {},
   "outputs": [
    {
     "data": {
      "text/plain": [
       "0.0006856230519007139"
      ]
     },
     "execution_count": 88,
     "metadata": {},
     "output_type": "execute_result"
    }
   ],
   "source": [
    "noise_amp = 0.035*np.random.uniform()*np.amax(y)\n",
    "noise_amp"
   ]
  },
  {
   "cell_type": "code",
   "execution_count": null,
   "id": "80f46d32",
   "metadata": {},
   "outputs": [],
   "source": []
  }
 ],
 "metadata": {
  "kernelspec": {
   "display_name": "Python 3 (ipykernel)",
   "language": "python",
   "name": "python3"
  },
  "language_info": {
   "codemirror_mode": {
    "name": "ipython",
    "version": 3
   },
   "file_extension": ".py",
   "mimetype": "text/x-python",
   "name": "python",
   "nbconvert_exporter": "python",
   "pygments_lexer": "ipython3",
   "version": "3.9.12"
  }
 },
 "nbformat": 4,
 "nbformat_minor": 5
}
