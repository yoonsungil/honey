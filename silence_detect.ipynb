{
 "cells": [
  {
   "cell_type": "code",
   "execution_count": 2,
   "id": "de8e0e68",
   "metadata": {},
   "outputs": [],
   "source": [
    "import numpy as np\n",
    "import librosa\n",
    "from tqdm import tqdm\n",
    "from pydub import AudioSegment, silence\n",
    "import soundfile as sf"
   ]
  },
  {
   "cell_type": "code",
   "execution_count": 3,
   "id": "3464de03",
   "metadata": {},
   "outputs": [],
   "source": [
    "from imutils import paths"
   ]
  },
  {
   "cell_type": "code",
   "execution_count": 4,
   "id": "33ac1c70",
   "metadata": {},
   "outputs": [],
   "source": [
    "import os\n",
    "\n",
    "folder_path = 'data/cut1/'\n",
    "folder_list = os.listdir(folder_path)"
   ]
  },
  {
   "cell_type": "code",
   "execution_count": 6,
   "id": "abebe5c1",
   "metadata": {},
   "outputs": [
    {
     "data": {
      "text/plain": [
       "['angry', 'disgust', 'fear', 'happy', 'neutral', 'sad', 'surprise']"
      ]
     },
     "execution_count": 6,
     "metadata": {},
     "output_type": "execute_result"
    }
   ],
   "source": [
    "folder_list"
   ]
  },
  {
   "cell_type": "code",
   "execution_count": 10,
   "id": "b21145d9",
   "metadata": {
    "collapsed": true
   },
   "outputs": [
    {
     "name": "stdout",
     "output_type": "stream",
     "text": [
      "-----------------------------------------------------------\n",
      "angryhave100files.\n",
      "file_path : data/cut1/angry\n",
      "success :1.wav -> angry_1.wav\n",
      "success :10.wav -> angry_2.wav\n",
      "success :100.wav -> angry_3.wav\n",
      "success :11.wav -> angry_4.wav\n",
      "success :12.wav -> angry_5.wav\n",
      "success :13.wav -> angry_6.wav\n",
      "success :14.wav -> angry_7.wav\n",
      "success :15.wav -> angry_8.wav\n",
      "success :16.wav -> angry_9.wav\n",
      "success :17.wav -> angry_10.wav\n",
      "success :18.wav -> angry_11.wav\n",
      "success :19.wav -> angry_12.wav\n",
      "success :2.wav -> angry_13.wav\n",
      "success :20.wav -> angry_14.wav\n",
      "success :21.wav -> angry_15.wav\n",
      "success :22.wav -> angry_16.wav\n",
      "success :23.wav -> angry_17.wav\n",
      "success :24.wav -> angry_18.wav\n",
      "success :25.wav -> angry_19.wav\n",
      "success :26.wav -> angry_20.wav\n",
      "success :27.wav -> angry_21.wav\n",
      "success :28.wav -> angry_22.wav\n",
      "success :29.wav -> angry_23.wav\n",
      "success :3.wav -> angry_24.wav\n",
      "success :30.wav -> angry_25.wav\n",
      "success :31.wav -> angry_26.wav\n",
      "success :32.wav -> angry_27.wav\n",
      "success :33.wav -> angry_28.wav\n",
      "success :34.wav -> angry_29.wav\n",
      "success :35.wav -> angry_30.wav\n",
      "success :36.wav -> angry_31.wav\n",
      "success :37.wav -> angry_32.wav\n",
      "success :38.wav -> angry_33.wav\n",
      "success :39.wav -> angry_34.wav\n",
      "success :4.wav -> angry_35.wav\n",
      "success :40.wav -> angry_36.wav\n",
      "success :41.wav -> angry_37.wav\n",
      "success :42.wav -> angry_38.wav\n",
      "success :43.wav -> angry_39.wav\n",
      "success :44.wav -> angry_40.wav\n",
      "success :45.wav -> angry_41.wav\n",
      "success :46.wav -> angry_42.wav\n",
      "success :47.wav -> angry_43.wav\n",
      "success :48.wav -> angry_44.wav\n",
      "success :49.wav -> angry_45.wav\n",
      "success :5.wav -> angry_46.wav\n",
      "success :50.wav -> angry_47.wav\n",
      "success :51.wav -> angry_48.wav\n",
      "success :52.wav -> angry_49.wav\n",
      "success :53.wav -> angry_50.wav\n",
      "success :54.wav -> angry_51.wav\n",
      "success :55.wav -> angry_52.wav\n",
      "success :56.wav -> angry_53.wav\n",
      "success :57.wav -> angry_54.wav\n",
      "success :58.wav -> angry_55.wav\n",
      "success :59.wav -> angry_56.wav\n",
      "success :6.wav -> angry_57.wav\n",
      "success :60.wav -> angry_58.wav\n",
      "success :61.wav -> angry_59.wav\n",
      "success :62.wav -> angry_60.wav\n",
      "success :63.wav -> angry_61.wav\n",
      "success :64.wav -> angry_62.wav\n",
      "success :65.wav -> angry_63.wav\n",
      "success :66.wav -> angry_64.wav\n",
      "success :67.wav -> angry_65.wav\n",
      "success :68.wav -> angry_66.wav\n",
      "success :69.wav -> angry_67.wav\n",
      "success :7.wav -> angry_68.wav\n",
      "success :70.wav -> angry_69.wav\n",
      "success :71.wav -> angry_70.wav\n",
      "success :72.wav -> angry_71.wav\n",
      "success :73.wav -> angry_72.wav\n",
      "success :74.wav -> angry_73.wav\n",
      "success :75.wav -> angry_74.wav\n",
      "success :76.wav -> angry_75.wav\n",
      "success :77.wav -> angry_76.wav\n",
      "success :78.wav -> angry_77.wav\n",
      "success :79.wav -> angry_78.wav\n",
      "success :8.wav -> angry_79.wav\n",
      "success :80.wav -> angry_80.wav\n",
      "success :81.wav -> angry_81.wav\n",
      "success :82.wav -> angry_82.wav\n",
      "success :83.wav -> angry_83.wav\n",
      "success :84.wav -> angry_84.wav\n",
      "success :85.wav -> angry_85.wav\n",
      "success :86.wav -> angry_86.wav\n",
      "success :87.wav -> angry_87.wav\n",
      "success :88.wav -> angry_88.wav\n",
      "success :89.wav -> angry_89.wav\n",
      "success :9.wav -> angry_90.wav\n",
      "success :90.wav -> angry_91.wav\n",
      "success :91.wav -> angry_92.wav\n",
      "success :92.wav -> angry_93.wav\n",
      "success :93.wav -> angry_94.wav\n",
      "success :94.wav -> angry_95.wav\n",
      "success :95.wav -> angry_96.wav\n",
      "success :96.wav -> angry_97.wav\n",
      "success :97.wav -> angry_98.wav\n",
      "success :98.wav -> angry_99.wav\n",
      "success :99.wav -> angry_100.wav\n",
      "-----------------------------------------------------------\n",
      "disgusthave68files.\n",
      "file_path : data/cut1/disgust\n",
      "success :1.wav -> disgust_1.wav\n",
      "success :10.wav -> disgust_2.wav\n",
      "success :11.wav -> disgust_3.wav\n",
      "success :12.wav -> disgust_4.wav\n",
      "success :13.wav -> disgust_5.wav\n",
      "success :14.wav -> disgust_6.wav\n",
      "success :15.wav -> disgust_7.wav\n",
      "success :16.wav -> disgust_8.wav\n",
      "success :17.wav -> disgust_9.wav\n",
      "success :18.wav -> disgust_10.wav\n",
      "success :19.wav -> disgust_11.wav\n",
      "success :2.wav -> disgust_12.wav\n",
      "success :20.wav -> disgust_13.wav\n",
      "success :21.wav -> disgust_14.wav\n",
      "success :22.wav -> disgust_15.wav\n",
      "success :23.wav -> disgust_16.wav\n",
      "success :24.wav -> disgust_17.wav\n",
      "success :25.wav -> disgust_18.wav\n",
      "success :26.wav -> disgust_19.wav\n",
      "success :27.wav -> disgust_20.wav\n",
      "success :28.wav -> disgust_21.wav\n",
      "success :29.wav -> disgust_22.wav\n",
      "success :3.wav -> disgust_23.wav\n",
      "success :30.wav -> disgust_24.wav\n",
      "success :31.wav -> disgust_25.wav\n",
      "success :32.wav -> disgust_26.wav\n",
      "success :33.wav -> disgust_27.wav\n",
      "success :34.wav -> disgust_28.wav\n",
      "success :35.wav -> disgust_29.wav\n",
      "success :36.wav -> disgust_30.wav\n",
      "success :37.wav -> disgust_31.wav\n",
      "success :38.wav -> disgust_32.wav\n",
      "success :39.wav -> disgust_33.wav\n",
      "success :4.wav -> disgust_34.wav\n",
      "success :40.wav -> disgust_35.wav\n",
      "success :41.wav -> disgust_36.wav\n",
      "success :42.wav -> disgust_37.wav\n",
      "success :43.wav -> disgust_38.wav\n",
      "success :44.wav -> disgust_39.wav\n",
      "success :45.wav -> disgust_40.wav\n",
      "success :46.wav -> disgust_41.wav\n",
      "success :47.wav -> disgust_42.wav\n",
      "success :48.wav -> disgust_43.wav\n",
      "success :49.wav -> disgust_44.wav\n",
      "success :5.wav -> disgust_45.wav\n",
      "success :50.wav -> disgust_46.wav\n",
      "success :51.wav -> disgust_47.wav\n",
      "success :52.wav -> disgust_48.wav\n",
      "success :53.wav -> disgust_49.wav\n",
      "success :54.wav -> disgust_50.wav\n",
      "success :55.wav -> disgust_51.wav\n",
      "success :56.wav -> disgust_52.wav\n",
      "success :57.wav -> disgust_53.wav\n",
      "success :58.wav -> disgust_54.wav\n",
      "success :59.wav -> disgust_55.wav\n",
      "success :6.wav -> disgust_56.wav\n",
      "success :60.wav -> disgust_57.wav\n",
      "success :61.wav -> disgust_58.wav\n",
      "success :62.wav -> disgust_59.wav\n",
      "success :63.wav -> disgust_60.wav\n",
      "success :64.wav -> disgust_61.wav\n",
      "success :65.wav -> disgust_62.wav\n",
      "success :66.wav -> disgust_63.wav\n",
      "success :67.wav -> disgust_64.wav\n",
      "success :68.wav -> disgust_65.wav\n",
      "success :7.wav -> disgust_66.wav\n",
      "success :8.wav -> disgust_67.wav\n",
      "success :9.wav -> disgust_68.wav\n",
      "-----------------------------------------------------------\n",
      "fearhave86files.\n",
      "file_path : data/cut1/fear\n",
      "success :1.wav -> fear_1.wav\n",
      "success :10.wav -> fear_2.wav\n",
      "success :11.wav -> fear_3.wav\n",
      "success :12.wav -> fear_4.wav\n",
      "success :13.wav -> fear_5.wav\n",
      "success :14.wav -> fear_6.wav\n",
      "success :15.wav -> fear_7.wav\n",
      "success :16.wav -> fear_8.wav\n",
      "success :17.wav -> fear_9.wav\n",
      "success :18.wav -> fear_10.wav\n",
      "success :19.wav -> fear_11.wav\n",
      "success :2.wav -> fear_12.wav\n",
      "success :20.wav -> fear_13.wav\n",
      "success :21.wav -> fear_14.wav\n",
      "success :22.wav -> fear_15.wav\n",
      "success :23.wav -> fear_16.wav\n",
      "success :24.wav -> fear_17.wav\n",
      "success :25.wav -> fear_18.wav\n",
      "success :26.wav -> fear_19.wav\n",
      "success :27.wav -> fear_20.wav\n",
      "success :28.wav -> fear_21.wav\n",
      "success :29.wav -> fear_22.wav\n",
      "success :3.wav -> fear_23.wav\n",
      "success :30.wav -> fear_24.wav\n",
      "success :31.wav -> fear_25.wav\n",
      "success :32.wav -> fear_26.wav\n",
      "success :33.wav -> fear_27.wav\n",
      "success :34.wav -> fear_28.wav\n",
      "success :35.wav -> fear_29.wav\n",
      "success :36.wav -> fear_30.wav\n",
      "success :37.wav -> fear_31.wav\n",
      "success :38.wav -> fear_32.wav\n",
      "success :39.wav -> fear_33.wav\n",
      "success :4.wav -> fear_34.wav\n",
      "success :40.wav -> fear_35.wav\n",
      "success :41.wav -> fear_36.wav\n",
      "success :42.wav -> fear_37.wav\n",
      "success :43.wav -> fear_38.wav\n",
      "success :44.wav -> fear_39.wav\n",
      "success :45.wav -> fear_40.wav\n",
      "success :46.wav -> fear_41.wav\n",
      "success :47.wav -> fear_42.wav\n",
      "success :48.wav -> fear_43.wav\n",
      "success :49.wav -> fear_44.wav\n",
      "success :5.wav -> fear_45.wav\n",
      "success :50.wav -> fear_46.wav\n",
      "success :51.wav -> fear_47.wav\n",
      "success :52.wav -> fear_48.wav\n",
      "success :53.wav -> fear_49.wav\n",
      "success :54.wav -> fear_50.wav\n",
      "success :55.wav -> fear_51.wav\n",
      "success :56.wav -> fear_52.wav\n",
      "success :57.wav -> fear_53.wav\n",
      "success :58.wav -> fear_54.wav\n",
      "success :59.wav -> fear_55.wav\n",
      "success :6.wav -> fear_56.wav\n",
      "success :60.wav -> fear_57.wav\n",
      "success :61.wav -> fear_58.wav\n",
      "success :62.wav -> fear_59.wav\n",
      "success :63.wav -> fear_60.wav\n",
      "success :64.wav -> fear_61.wav\n",
      "success :65.wav -> fear_62.wav\n",
      "success :66.wav -> fear_63.wav\n",
      "success :67.wav -> fear_64.wav\n",
      "success :68.wav -> fear_65.wav\n",
      "success :69.wav -> fear_66.wav\n",
      "success :7.wav -> fear_67.wav\n",
      "success :70.wav -> fear_68.wav\n",
      "success :71.wav -> fear_69.wav\n",
      "success :72.wav -> fear_70.wav\n",
      "success :73.wav -> fear_71.wav\n",
      "success :74.wav -> fear_72.wav\n",
      "success :75.wav -> fear_73.wav\n",
      "success :76.wav -> fear_74.wav\n",
      "success :77.wav -> fear_75.wav\n",
      "success :78.wav -> fear_76.wav\n",
      "success :79.wav -> fear_77.wav\n",
      "success :8.wav -> fear_78.wav\n",
      "success :80.wav -> fear_79.wav\n",
      "success :81.wav -> fear_80.wav\n",
      "success :82.wav -> fear_81.wav\n",
      "success :83.wav -> fear_82.wav\n",
      "success :84.wav -> fear_83.wav\n",
      "success :85.wav -> fear_84.wav\n",
      "success :86.wav -> fear_85.wav\n",
      "success :9.wav -> fear_86.wav\n",
      "-----------------------------------------------------------\n",
      "happyhave81files.\n",
      "file_path : data/cut1/happy\n",
      "success :1.wav -> happy_1.wav\n",
      "success :10.wav -> happy_2.wav\n",
      "success :11.wav -> happy_3.wav\n",
      "success :12.wav -> happy_4.wav\n",
      "success :13.wav -> happy_5.wav\n",
      "success :14.wav -> happy_6.wav\n",
      "success :15.wav -> happy_7.wav\n",
      "success :16.wav -> happy_8.wav\n",
      "success :17.wav -> happy_9.wav\n",
      "success :18.wav -> happy_10.wav\n",
      "success :19.wav -> happy_11.wav\n",
      "success :2.wav -> happy_12.wav\n",
      "success :20.wav -> happy_13.wav\n",
      "success :21.wav -> happy_14.wav\n",
      "success :22.wav -> happy_15.wav\n",
      "success :23.wav -> happy_16.wav\n",
      "success :24.wav -> happy_17.wav\n",
      "success :25.wav -> happy_18.wav\n",
      "success :26.wav -> happy_19.wav\n",
      "success :27.wav -> happy_20.wav\n",
      "success :28.wav -> happy_21.wav\n",
      "success :29.wav -> happy_22.wav\n",
      "success :3.wav -> happy_23.wav\n",
      "success :30.wav -> happy_24.wav\n",
      "success :31.wav -> happy_25.wav\n",
      "success :32.wav -> happy_26.wav\n",
      "success :33.wav -> happy_27.wav\n",
      "success :34.wav -> happy_28.wav\n",
      "success :35.wav -> happy_29.wav\n",
      "success :36.wav -> happy_30.wav\n",
      "success :37.wav -> happy_31.wav\n",
      "success :38.wav -> happy_32.wav\n",
      "success :39.wav -> happy_33.wav\n",
      "success :4.wav -> happy_34.wav\n",
      "success :40.wav -> happy_35.wav\n",
      "success :41.wav -> happy_36.wav\n",
      "success :42.wav -> happy_37.wav\n",
      "success :43.wav -> happy_38.wav\n",
      "success :44.wav -> happy_39.wav\n",
      "success :45.wav -> happy_40.wav\n",
      "success :46.wav -> happy_41.wav\n",
      "success :47.wav -> happy_42.wav\n",
      "success :48.wav -> happy_43.wav\n",
      "success :49.wav -> happy_44.wav\n",
      "success :5.wav -> happy_45.wav\n",
      "success :50.wav -> happy_46.wav\n",
      "success :51.wav -> happy_47.wav\n",
      "success :52.wav -> happy_48.wav\n",
      "success :53.wav -> happy_49.wav\n",
      "success :54.wav -> happy_50.wav\n",
      "success :55.wav -> happy_51.wav\n",
      "success :56.wav -> happy_52.wav\n",
      "success :57.wav -> happy_53.wav\n",
      "success :58.wav -> happy_54.wav\n",
      "success :59.wav -> happy_55.wav\n",
      "success :6.wav -> happy_56.wav\n",
      "success :60.wav -> happy_57.wav\n",
      "success :61.wav -> happy_58.wav\n",
      "success :62.wav -> happy_59.wav\n",
      "success :63.wav -> happy_60.wav\n",
      "success :64.wav -> happy_61.wav\n",
      "success :65.wav -> happy_62.wav\n",
      "success :66.wav -> happy_63.wav\n",
      "success :67.wav -> happy_64.wav\n",
      "success :68.wav -> happy_65.wav\n",
      "success :69.wav -> happy_66.wav\n",
      "success :7.wav -> happy_67.wav\n",
      "success :70.wav -> happy_68.wav\n",
      "success :71.wav -> happy_69.wav\n",
      "success :72.wav -> happy_70.wav\n",
      "success :73.wav -> happy_71.wav\n",
      "success :74.wav -> happy_72.wav\n",
      "success :75.wav -> happy_73.wav\n",
      "success :76.wav -> happy_74.wav\n",
      "success :77.wav -> happy_75.wav\n",
      "success :78.wav -> happy_76.wav\n",
      "success :79.wav -> happy_77.wav\n",
      "success :8.wav -> happy_78.wav\n",
      "success :80.wav -> happy_79.wav\n",
      "success :81.wav -> happy_80.wav\n",
      "success :9.wav -> happy_81.wav\n",
      "-----------------------------------------------------------\n",
      "neutralhave60files.\n",
      "file_path : data/cut1/neutral\n",
      "success :1.wav -> neutral_1.wav\n",
      "success :10.wav -> neutral_2.wav\n",
      "success :11.wav -> neutral_3.wav\n",
      "success :12.wav -> neutral_4.wav\n",
      "success :13.wav -> neutral_5.wav\n",
      "success :14.wav -> neutral_6.wav\n",
      "success :15.wav -> neutral_7.wav\n",
      "success :16.wav -> neutral_8.wav\n",
      "success :17.wav -> neutral_9.wav\n",
      "success :18.wav -> neutral_10.wav\n",
      "success :19.wav -> neutral_11.wav\n",
      "success :2.wav -> neutral_12.wav\n",
      "success :20.wav -> neutral_13.wav\n",
      "success :21.wav -> neutral_14.wav\n",
      "success :22.wav -> neutral_15.wav\n",
      "success :23.wav -> neutral_16.wav\n",
      "success :24.wav -> neutral_17.wav\n",
      "success :25.wav -> neutral_18.wav\n",
      "success :26.wav -> neutral_19.wav\n",
      "success :27.wav -> neutral_20.wav\n",
      "success :28.wav -> neutral_21.wav\n",
      "success :29.wav -> neutral_22.wav\n",
      "success :3.wav -> neutral_23.wav\n",
      "success :30.wav -> neutral_24.wav\n",
      "success :31.wav -> neutral_25.wav\n",
      "success :32.wav -> neutral_26.wav\n",
      "success :33.wav -> neutral_27.wav\n",
      "success :34.wav -> neutral_28.wav\n",
      "success :35.wav -> neutral_29.wav\n",
      "success :36.wav -> neutral_30.wav\n",
      "success :37.wav -> neutral_31.wav\n",
      "success :38.wav -> neutral_32.wav\n",
      "success :39.wav -> neutral_33.wav\n",
      "success :4.wav -> neutral_34.wav\n",
      "success :40.wav -> neutral_35.wav\n",
      "success :41.wav -> neutral_36.wav\n",
      "success :42.wav -> neutral_37.wav\n",
      "success :43.wav -> neutral_38.wav\n",
      "success :44.wav -> neutral_39.wav\n",
      "success :45.wav -> neutral_40.wav\n",
      "success :46.wav -> neutral_41.wav\n",
      "success :47.wav -> neutral_42.wav\n",
      "success :48.wav -> neutral_43.wav\n",
      "success :49.wav -> neutral_44.wav\n",
      "success :5.wav -> neutral_45.wav\n",
      "success :50.wav -> neutral_46.wav\n",
      "success :51.wav -> neutral_47.wav\n",
      "success :52.wav -> neutral_48.wav\n",
      "success :53.wav -> neutral_49.wav\n",
      "success :54.wav -> neutral_50.wav\n",
      "success :55.wav -> neutral_51.wav\n",
      "success :56.wav -> neutral_52.wav\n",
      "success :57.wav -> neutral_53.wav\n",
      "success :58.wav -> neutral_54.wav\n",
      "success :59.wav -> neutral_55.wav\n",
      "success :6.wav -> neutral_56.wav\n",
      "success :60.wav -> neutral_57.wav\n",
      "success :7.wav -> neutral_58.wav\n",
      "success :8.wav -> neutral_59.wav\n",
      "success :9.wav -> neutral_60.wav\n",
      "-----------------------------------------------------------\n",
      "sadhave101files.\n",
      "file_path : data/cut1/sad\n",
      "success :1.wav -> sad_1.wav\n",
      "success :10.wav -> sad_2.wav\n",
      "success :100.wav -> sad_3.wav\n",
      "success :101.wav -> sad_4.wav\n",
      "success :11.wav -> sad_5.wav\n",
      "success :12.wav -> sad_6.wav\n",
      "success :13.wav -> sad_7.wav\n",
      "success :14.wav -> sad_8.wav\n",
      "success :15.wav -> sad_9.wav\n",
      "success :16.wav -> sad_10.wav\n",
      "success :17.wav -> sad_11.wav\n",
      "success :18.wav -> sad_12.wav\n",
      "success :19.wav -> sad_13.wav\n",
      "success :2.wav -> sad_14.wav\n",
      "success :20.wav -> sad_15.wav\n",
      "success :21.wav -> sad_16.wav\n",
      "success :22.wav -> sad_17.wav\n",
      "success :23.wav -> sad_18.wav\n",
      "success :24.wav -> sad_19.wav\n",
      "success :25.wav -> sad_20.wav\n",
      "success :26.wav -> sad_21.wav\n",
      "success :27.wav -> sad_22.wav\n",
      "success :28.wav -> sad_23.wav\n",
      "success :29.wav -> sad_24.wav\n",
      "success :3.wav -> sad_25.wav\n",
      "success :30.wav -> sad_26.wav\n",
      "success :31.wav -> sad_27.wav\n",
      "success :32.wav -> sad_28.wav\n",
      "success :33.wav -> sad_29.wav\n",
      "success :34.wav -> sad_30.wav\n",
      "success :35.wav -> sad_31.wav\n",
      "success :36.wav -> sad_32.wav\n",
      "success :37.wav -> sad_33.wav\n",
      "success :38.wav -> sad_34.wav\n",
      "success :39.wav -> sad_35.wav\n",
      "success :4.wav -> sad_36.wav\n",
      "success :40.wav -> sad_37.wav\n",
      "success :41.wav -> sad_38.wav\n",
      "success :42.wav -> sad_39.wav\n",
      "success :43.wav -> sad_40.wav\n",
      "success :44.wav -> sad_41.wav\n",
      "success :45.wav -> sad_42.wav\n",
      "success :46.wav -> sad_43.wav\n",
      "success :47.wav -> sad_44.wav\n",
      "success :48.wav -> sad_45.wav\n",
      "success :49.wav -> sad_46.wav\n",
      "success :5.wav -> sad_47.wav\n",
      "success :50.wav -> sad_48.wav\n",
      "success :51.wav -> sad_49.wav\n",
      "success :52.wav -> sad_50.wav\n",
      "success :53.wav -> sad_51.wav\n",
      "success :54.wav -> sad_52.wav\n",
      "success :55.wav -> sad_53.wav\n",
      "success :56.wav -> sad_54.wav\n",
      "success :57.wav -> sad_55.wav\n",
      "success :58.wav -> sad_56.wav\n",
      "success :59.wav -> sad_57.wav\n",
      "success :6.wav -> sad_58.wav\n",
      "success :60.wav -> sad_59.wav\n",
      "success :61.wav -> sad_60.wav\n",
      "success :62.wav -> sad_61.wav\n",
      "success :63.wav -> sad_62.wav\n",
      "success :64.wav -> sad_63.wav\n",
      "success :65.wav -> sad_64.wav\n",
      "success :66.wav -> sad_65.wav\n",
      "success :67.wav -> sad_66.wav\n",
      "success :68.wav -> sad_67.wav\n",
      "success :69.wav -> sad_68.wav\n",
      "success :7.wav -> sad_69.wav\n",
      "success :70.wav -> sad_70.wav\n",
      "success :71.wav -> sad_71.wav\n",
      "success :72.wav -> sad_72.wav\n",
      "success :73.wav -> sad_73.wav\n",
      "success :74.wav -> sad_74.wav\n",
      "success :75.wav -> sad_75.wav\n",
      "success :76.wav -> sad_76.wav\n",
      "success :77.wav -> sad_77.wav\n",
      "success :78.wav -> sad_78.wav\n",
      "success :79.wav -> sad_79.wav\n",
      "success :8.wav -> sad_80.wav\n",
      "success :80.wav -> sad_81.wav\n",
      "success :81.wav -> sad_82.wav\n",
      "success :82.wav -> sad_83.wav\n",
      "success :83.wav -> sad_84.wav\n",
      "success :84.wav -> sad_85.wav\n",
      "success :85.wav -> sad_86.wav\n",
      "success :86.wav -> sad_87.wav\n",
      "success :87.wav -> sad_88.wav\n",
      "success :88.wav -> sad_89.wav\n",
      "success :89.wav -> sad_90.wav\n",
      "success :9.wav -> sad_91.wav\n",
      "success :90.wav -> sad_92.wav\n",
      "success :91.wav -> sad_93.wav\n",
      "success :92.wav -> sad_94.wav\n",
      "success :93.wav -> sad_95.wav\n",
      "success :94.wav -> sad_96.wav\n",
      "success :95.wav -> sad_97.wav\n",
      "success :96.wav -> sad_98.wav\n",
      "success :97.wav -> sad_99.wav\n",
      "success :98.wav -> sad_100.wav\n",
      "success :99.wav -> sad_101.wav\n",
      "-----------------------------------------------------------\n",
      "surprisehave25files.\n",
      "file_path : data/cut1/surprise\n",
      "success :1.wav -> surprise_1.wav\n",
      "success :10.wav -> surprise_2.wav\n",
      "success :11.wav -> surprise_3.wav\n",
      "success :12.wav -> surprise_4.wav\n",
      "success :13.wav -> surprise_5.wav\n",
      "success :14.wav -> surprise_6.wav\n",
      "success :15.wav -> surprise_7.wav\n",
      "success :16.wav -> surprise_8.wav\n",
      "success :17.wav -> surprise_9.wav\n",
      "success :18.wav -> surprise_10.wav\n",
      "success :19.wav -> surprise_11.wav\n",
      "success :2.wav -> surprise_12.wav\n",
      "success :20.wav -> surprise_13.wav\n",
      "success :21.wav -> surprise_14.wav\n",
      "success :22.wav -> surprise_15.wav\n",
      "success :23.wav -> surprise_16.wav\n",
      "success :24.wav -> surprise_17.wav\n",
      "success :25.wav -> surprise_18.wav\n",
      "success :3.wav -> surprise_19.wav\n",
      "success :4.wav -> surprise_20.wav\n",
      "success :5.wav -> surprise_21.wav\n",
      "success :6.wav -> surprise_22.wav\n",
      "success :7.wav -> surprise_23.wav\n",
      "success :8.wav -> surprise_24.wav\n",
      "success :9.wav -> surprise_25.wav\n"
     ]
    }
   ],
   "source": [
    "for folder_name in folder_list:\n",
    "    file_path = folder_path+folder_name\n",
    "    \n",
    "    file_list = os.listdir(file_path)\n",
    "    print(\"-----------------------------------------------------------\")\n",
    "    print(folder_name + \"have\" + str(len(file_list))+\"files.\")\n",
    "    print(\"file_path : \" + file_path)\n",
    "    \n",
    "    count = 1\n",
    "    for file_name in file_list:\n",
    "        old_name = file_path + '/' + file_name\n",
    "        new_name = file_path + '/' + folder_name + \"_\" + str(count) + \".wav\"\n",
    "        \n",
    "        try:\n",
    "            os.rename(old_name, new_name)\n",
    "            print(\"success :\" + file_name + \" -> \" + folder_name + \"_\" + str(count) + \".wav\")\n",
    "        except:\n",
    "            print(\"fail :\" + file_name + \" -> \" + folder_name+ \"_\" + str(count) + \".wav\")\n",
    "            break\n",
    "        count = count+1\n",
    "        \n",
    "        "
   ]
  },
  {
   "cell_type": "code",
   "execution_count": 39,
   "id": "462e535a",
   "metadata": {
    "collapsed": true
   },
   "outputs": [
    {
     "name": "stdout",
     "output_type": "stream",
     "text": [
      "[1.852, 10.047]\n",
      "[[1.852, 10.047]]\n",
      "8.195\n"
     ]
    },
    {
     "name": "stderr",
     "output_type": "stream",
     "text": [
      "C:\\Users\\y2657\\AppData\\Local\\Temp\\ipykernel_13732\\915870711.py:30: FutureWarning: Pass y=[-0.14404967 -0.1007489  -0.10126024 ... -0.02147413 -0.04620079\n",
      " -0.04194326], sr=16000 as keyword args. From version 0.10 passing these as positional arguments will result in an error\n",
      "  audio_len = librosa.get_duration(np.array(reform_signal), sr)\n"
     ]
    },
    {
     "name": "stdout",
     "output_type": "stream",
     "text": [
      "[1.107, 2.639, 3.977, 4.899, 6.182, 7.276, 9.208, 10.086]\n",
      "[[1.107, 2.639], [3.977, 4.899], [6.182, 7.276], [9.208, 10.086]]\n",
      "4.426\n"
     ]
    },
    {
     "name": "stderr",
     "output_type": "stream",
     "text": [
      "C:\\Users\\y2657\\AppData\\Local\\Temp\\ipykernel_13732\\915870711.py:30: FutureWarning: Pass y=[0.04792348 0.09023104 0.11693738 ... 0.0050095  0.01539757 0.02265439], sr=16000 as keyword args. From version 0.10 passing these as positional arguments will result in an error\n",
      "  audio_len = librosa.get_duration(np.array(reform_signal), sr)\n"
     ]
    },
    {
     "name": "stdout",
     "output_type": "stream",
     "text": [
      "[1.396, 11.889]\n",
      "[[1.396, 11.889]]\n",
      "10.493\n"
     ]
    },
    {
     "name": "stderr",
     "output_type": "stream",
     "text": [
      "C:\\Users\\y2657\\AppData\\Local\\Temp\\ipykernel_13732\\915870711.py:30: FutureWarning: Pass y=[-0.02902998 -0.00712353  0.01873499 ... -0.05259581 -0.05074608\n",
      "  0.00258493], sr=16000 as keyword args. From version 0.10 passing these as positional arguments will result in an error\n",
      "  audio_len = librosa.get_duration(np.array(reform_signal), sr)\n"
     ]
    },
    {
     "name": "stdout",
     "output_type": "stream",
     "text": [
      "[3.856, 8.929]\n",
      "[[3.856, 8.929]]\n",
      "5.073\n"
     ]
    },
    {
     "name": "stderr",
     "output_type": "stream",
     "text": [
      "C:\\Users\\y2657\\AppData\\Local\\Temp\\ipykernel_13732\\915870711.py:30: FutureWarning: Pass y=[-0.22497764 -0.18859066 -0.1650113  ...  0.01135042  0.04669166\n",
      "  0.07013714], sr=16000 as keyword args. From version 0.10 passing these as positional arguments will result in an error\n",
      "  audio_len = librosa.get_duration(np.array(reform_signal), sr)\n"
     ]
    },
    {
     "name": "stdout",
     "output_type": "stream",
     "text": [
      "[1.372, 8.293, 9.478, 9.789]\n",
      "[[1.372, 8.293], [9.478, 9.789]]\n",
      "7.232\n"
     ]
    },
    {
     "name": "stderr",
     "output_type": "stream",
     "text": [
      "C:\\Users\\y2657\\AppData\\Local\\Temp\\ipykernel_13732\\915870711.py:30: FutureWarning: Pass y=[-0.11158366 -0.12128095 -0.14740522 ...  0.00287903 -0.02369303\n",
      " -0.01321439], sr=16000 as keyword args. From version 0.10 passing these as positional arguments will result in an error\n",
      "  audio_len = librosa.get_duration(np.array(reform_signal), sr)\n"
     ]
    },
    {
     "name": "stdout",
     "output_type": "stream",
     "text": [
      "[5.149, 9.893]\n",
      "[[5.149, 9.893]]\n",
      "4.744\n"
     ]
    },
    {
     "name": "stderr",
     "output_type": "stream",
     "text": [
      "C:\\Users\\y2657\\AppData\\Local\\Temp\\ipykernel_13732\\915870711.py:30: FutureWarning: Pass y=[ 0.02696534  0.03112564  0.03535814 ... -0.01487883 -0.01322842\n",
      " -0.01152494], sr=16000 as keyword args. From version 0.10 passing these as positional arguments will result in an error\n",
      "  audio_len = librosa.get_duration(np.array(reform_signal), sr)\n"
     ]
    },
    {
     "name": "stdout",
     "output_type": "stream",
     "text": [
      "[2.493, 8.354]\n",
      "[[2.493, 8.354]]\n",
      "5.861\n"
     ]
    },
    {
     "name": "stderr",
     "output_type": "stream",
     "text": [
      "C:\\Users\\y2657\\AppData\\Local\\Temp\\ipykernel_13732\\915870711.py:30: FutureWarning: Pass y=[-0.00974429 -0.00084205  0.0082931  ... -0.01593585 -0.01290745\n",
      " -0.00856696], sr=16000 as keyword args. From version 0.10 passing these as positional arguments will result in an error\n",
      "  audio_len = librosa.get_duration(np.array(reform_signal), sr)\n"
     ]
    },
    {
     "name": "stdout",
     "output_type": "stream",
     "text": [
      "[1.061, 6.368]\n",
      "[[1.061, 6.368]]\n",
      "5.307\n"
     ]
    },
    {
     "name": "stderr",
     "output_type": "stream",
     "text": [
      "C:\\Users\\y2657\\AppData\\Local\\Temp\\ipykernel_13732\\915870711.py:30: FutureWarning: Pass y=[-0.08110353 -0.05597667 -0.0074464  ...  0.07002553  0.06067768\n",
      "  0.05879761], sr=16000 as keyword args. From version 0.10 passing these as positional arguments will result in an error\n",
      "  audio_len = librosa.get_duration(np.array(reform_signal), sr)\n"
     ]
    },
    {
     "name": "stdout",
     "output_type": "stream",
     "text": [
      "[3.041, 9.464]\n",
      "[[3.041, 9.464]]\n",
      "6.423\n"
     ]
    },
    {
     "name": "stderr",
     "output_type": "stream",
     "text": [
      "C:\\Users\\y2657\\AppData\\Local\\Temp\\ipykernel_13732\\915870711.py:30: FutureWarning: Pass y=[-0.00227604 -0.00396835 -0.00569291 ... -0.00406441 -0.00093069\n",
      "  0.00035318], sr=16000 as keyword args. From version 0.10 passing these as positional arguments will result in an error\n",
      "  audio_len = librosa.get_duration(np.array(reform_signal), sr)\n"
     ]
    },
    {
     "name": "stdout",
     "output_type": "stream",
     "text": [
      "[1.092, 5.571, 7.42, 9.491, 10.674, 12.773]\n",
      "[[1.092, 5.571], [7.42, 9.491], [10.674, 12.773]]\n",
      "8.649\n"
     ]
    },
    {
     "name": "stderr",
     "output_type": "stream",
     "text": [
      "C:\\Users\\y2657\\AppData\\Local\\Temp\\ipykernel_13732\\915870711.py:30: FutureWarning: Pass y=[-0.06647213 -0.06927591 -0.07173037 ... -0.0400828  -0.04250813\n",
      " -0.03740148], sr=16000 as keyword args. From version 0.10 passing these as positional arguments will result in an error\n",
      "  audio_len = librosa.get_duration(np.array(reform_signal), sr)\n"
     ]
    },
    {
     "name": "stdout",
     "output_type": "stream",
     "text": [
      "[4.761, 5.564]\n",
      "[[4.761, 5.564]]\n",
      "0.803\n"
     ]
    },
    {
     "name": "stderr",
     "output_type": "stream",
     "text": [
      "C:\\Users\\y2657\\AppData\\Local\\Temp\\ipykernel_13732\\915870711.py:30: FutureWarning: Pass y=[ 0.03355496 -0.03035524 -0.05221077 ... -0.04029394  0.00042085\n",
      "  0.02771554], sr=16000 as keyword args. From version 0.10 passing these as positional arguments will result in an error\n",
      "  audio_len = librosa.get_duration(np.array(reform_signal), sr)\n"
     ]
    },
    {
     "name": "stdout",
     "output_type": "stream",
     "text": [
      "[5.2, 7.589]\n",
      "[[5.2, 7.589]]\n",
      "2.389\n"
     ]
    },
    {
     "name": "stderr",
     "output_type": "stream",
     "text": [
      "C:\\Users\\y2657\\AppData\\Local\\Temp\\ipykernel_13732\\915870711.py:30: FutureWarning: Pass y=[-2.7866658e-05 -1.4477415e-04 -1.3864714e-04 ... -1.8762382e-04\n",
      " -1.9749929e-04 -1.4578890e-04], sr=16000 as keyword args. From version 0.10 passing these as positional arguments will result in an error\n",
      "  audio_len = librosa.get_duration(np.array(reform_signal), sr)\n"
     ]
    },
    {
     "name": "stdout",
     "output_type": "stream",
     "text": [
      "[1.019, 5.188, 6.626, 11.569]\n",
      "[[1.019, 5.188], [6.626, 11.569]]\n",
      "9.1120625\n"
     ]
    },
    {
     "name": "stderr",
     "output_type": "stream",
     "text": [
      "C:\\Users\\y2657\\AppData\\Local\\Temp\\ipykernel_13732\\915870711.py:30: FutureWarning: Pass y=[-0.07325026 -0.0810316  -0.02547103 ... -0.06845033 -0.11152933\n",
      " -0.12253431], sr=16000 as keyword args. From version 0.10 passing these as positional arguments will result in an error\n",
      "  audio_len = librosa.get_duration(np.array(reform_signal), sr)\n"
     ]
    },
    {
     "name": "stdout",
     "output_type": "stream",
     "text": [
      "[7.146, 9.786]\n",
      "[[7.146, 9.786]]\n",
      "2.64\n"
     ]
    },
    {
     "name": "stderr",
     "output_type": "stream",
     "text": [
      "C:\\Users\\y2657\\AppData\\Local\\Temp\\ipykernel_13732\\915870711.py:30: FutureWarning: Pass y=[-0.01532893 -0.01779899 -0.02114945 ...  0.01213296  0.0097117\n",
      "  0.01575658], sr=16000 as keyword args. From version 0.10 passing these as positional arguments will result in an error\n",
      "  audio_len = librosa.get_duration(np.array(reform_signal), sr)\n"
     ]
    },
    {
     "name": "stdout",
     "output_type": "stream",
     "text": [
      "[2.24, 8.173, 9.685, 10.436]\n",
      "[[2.24, 8.173], [9.685, 10.436]]\n",
      "6.684\n"
     ]
    },
    {
     "name": "stderr",
     "output_type": "stream",
     "text": [
      "C:\\Users\\y2657\\AppData\\Local\\Temp\\ipykernel_13732\\915870711.py:30: FutureWarning: Pass y=[ 0.01984167  0.02277188 -0.03170274 ... -0.01896201 -0.01380409\n",
      " -0.00805795], sr=16000 as keyword args. From version 0.10 passing these as positional arguments will result in an error\n",
      "  audio_len = librosa.get_duration(np.array(reform_signal), sr)\n"
     ]
    },
    {
     "name": "stdout",
     "output_type": "stream",
     "text": [
      "[2.718, 5.266]\n",
      "[[2.718, 5.266]]\n",
      "2.548\n"
     ]
    },
    {
     "name": "stderr",
     "output_type": "stream",
     "text": [
      "C:\\Users\\y2657\\AppData\\Local\\Temp\\ipykernel_13732\\915870711.py:30: FutureWarning: Pass y=[-0.05282749 -0.06647882 -0.09176717 ... -0.06272286 -0.06412014\n",
      " -0.06551559], sr=16000 as keyword args. From version 0.10 passing these as positional arguments will result in an error\n",
      "  audio_len = librosa.get_duration(np.array(reform_signal), sr)\n"
     ]
    },
    {
     "name": "stdout",
     "output_type": "stream",
     "text": [
      "[1.227, 8.861]\n",
      "[[1.227, 8.861]]\n",
      "7.634\n"
     ]
    },
    {
     "name": "stderr",
     "output_type": "stream",
     "text": [
      "C:\\Users\\y2657\\AppData\\Local\\Temp\\ipykernel_13732\\915870711.py:30: FutureWarning: Pass y=[0.12759277 0.10835548 0.08274917 ... 0.03759379 0.03723493 0.0374746 ], sr=16000 as keyword args. From version 0.10 passing these as positional arguments will result in an error\n",
      "  audio_len = librosa.get_duration(np.array(reform_signal), sr)\n"
     ]
    },
    {
     "name": "stdout",
     "output_type": "stream",
     "text": [
      "[1.617, 11.114]\n",
      "[[1.617, 11.114]]\n",
      "9.497\n"
     ]
    },
    {
     "name": "stderr",
     "output_type": "stream",
     "text": [
      "C:\\Users\\y2657\\AppData\\Local\\Temp\\ipykernel_13732\\915870711.py:30: FutureWarning: Pass y=[ 0.66329324  0.5910172   0.408443   ... -0.03299265 -0.03865889\n",
      " -0.04718182], sr=16000 as keyword args. From version 0.10 passing these as positional arguments will result in an error\n",
      "  audio_len = librosa.get_duration(np.array(reform_signal), sr)\n"
     ]
    },
    {
     "name": "stdout",
     "output_type": "stream",
     "text": [
      "[7.657, 9.133]\n",
      "[[7.657, 9.133]]\n",
      "1.476\n"
     ]
    },
    {
     "name": "stderr",
     "output_type": "stream",
     "text": [
      "C:\\Users\\y2657\\AppData\\Local\\Temp\\ipykernel_13732\\915870711.py:30: FutureWarning: Pass y=[0.16308385 0.10946447 0.04997157 ... 0.00020932 0.01345056 0.01604613], sr=16000 as keyword args. From version 0.10 passing these as positional arguments will result in an error\n",
      "  audio_len = librosa.get_duration(np.array(reform_signal), sr)\n"
     ]
    },
    {
     "name": "stdout",
     "output_type": "stream",
     "text": [
      "[4.646, 10.274]\n",
      "[[4.646, 10.274]]\n",
      "5.628\n"
     ]
    },
    {
     "name": "stderr",
     "output_type": "stream",
     "text": [
      "C:\\Users\\y2657\\AppData\\Local\\Temp\\ipykernel_13732\\915870711.py:30: FutureWarning: Pass y=[0.1387001  0.13924266 0.14644155 ... 0.21698979 0.18183738 0.12291274], sr=16000 as keyword args. From version 0.10 passing these as positional arguments will result in an error\n",
      "  audio_len = librosa.get_duration(np.array(reform_signal), sr)\n"
     ]
    },
    {
     "name": "stdout",
     "output_type": "stream",
     "text": [
      "[1.22, 4.235, 5.504, 9.059]\n",
      "[[1.22, 4.235], [5.504, 9.059]]\n",
      "6.57\n"
     ]
    },
    {
     "name": "stderr",
     "output_type": "stream",
     "text": [
      "C:\\Users\\y2657\\AppData\\Local\\Temp\\ipykernel_13732\\915870711.py:30: FutureWarning: Pass y=[-0.01570202 -0.03883575 -0.06317446 ... -0.05313257 -0.05118148\n",
      " -0.04839933], sr=16000 as keyword args. From version 0.10 passing these as positional arguments will result in an error\n",
      "  audio_len = librosa.get_duration(np.array(reform_signal), sr)\n"
     ]
    },
    {
     "name": "stdout",
     "output_type": "stream",
     "text": [
      "[1.438, 2.555, 3.888, 9.131]\n",
      "[[1.438, 2.555], [3.888, 9.131]]\n",
      "6.36\n"
     ]
    },
    {
     "name": "stderr",
     "output_type": "stream",
     "text": [
      "C:\\Users\\y2657\\AppData\\Local\\Temp\\ipykernel_13732\\915870711.py:30: FutureWarning: Pass y=[0.0421585  0.02518521 0.00311013 ... 0.00696569 0.01219383 0.01505866], sr=16000 as keyword args. From version 0.10 passing these as positional arguments will result in an error\n",
      "  audio_len = librosa.get_duration(np.array(reform_signal), sr)\n"
     ]
    },
    {
     "name": "stdout",
     "output_type": "stream",
     "text": [
      "[3.275, 7.663, 8.957, 11.803]\n",
      "[[3.275, 7.663], [8.957, 11.803]]\n",
      "7.234\n"
     ]
    },
    {
     "name": "stderr",
     "output_type": "stream",
     "text": [
      "C:\\Users\\y2657\\AppData\\Local\\Temp\\ipykernel_13732\\915870711.py:30: FutureWarning: Pass y=[0.02294291 0.0251914  0.02444877 ... 0.01070285 0.01064946 0.00838127], sr=16000 as keyword args. From version 0.10 passing these as positional arguments will result in an error\n",
      "  audio_len = librosa.get_duration(np.array(reform_signal), sr)\n"
     ]
    },
    {
     "name": "stdout",
     "output_type": "stream",
     "text": [
      "[1.457, 3.675, 5.067, 6.979]\n",
      "[[1.457, 3.675], [5.067, 6.979]]\n",
      "4.13\n"
     ]
    },
    {
     "name": "stderr",
     "output_type": "stream",
     "text": [
      "C:\\Users\\y2657\\AppData\\Local\\Temp\\ipykernel_13732\\915870711.py:30: FutureWarning: Pass y=[ 0.00323394 -0.01450855 -0.03310097 ... -0.00692587 -0.0076386\n",
      " -0.00780733], sr=16000 as keyword args. From version 0.10 passing these as positional arguments will result in an error\n",
      "  audio_len = librosa.get_duration(np.array(reform_signal), sr)\n"
     ]
    },
    {
     "name": "stdout",
     "output_type": "stream",
     "text": [
      "[2.604, 4.817, 6.158, 6.684, 7.847, 10.749]\n",
      "[[2.604, 4.817], [6.158, 6.684], [7.847, 10.749]]\n",
      "5.641\n"
     ]
    },
    {
     "name": "stderr",
     "output_type": "stream",
     "text": [
      "C:\\Users\\y2657\\AppData\\Local\\Temp\\ipykernel_13732\\915870711.py:30: FutureWarning: Pass y=[0.00321456 0.00617657 0.00833347 ... 0.02444539 0.02161962 0.0183759 ], sr=16000 as keyword args. From version 0.10 passing these as positional arguments will result in an error\n",
      "  audio_len = librosa.get_duration(np.array(reform_signal), sr)\n"
     ]
    },
    {
     "name": "stdout",
     "output_type": "stream",
     "text": [
      "[4.05, 8.263]\n",
      "[[4.05, 8.263]]\n",
      "4.213\n"
     ]
    },
    {
     "name": "stderr",
     "output_type": "stream",
     "text": [
      "C:\\Users\\y2657\\AppData\\Local\\Temp\\ipykernel_13732\\915870711.py:30: FutureWarning: Pass y=[-0.06289262 -0.0612541  -0.05927714 ... -0.0289678  -0.02945578\n",
      " -0.03100435], sr=16000 as keyword args. From version 0.10 passing these as positional arguments will result in an error\n",
      "  audio_len = librosa.get_duration(np.array(reform_signal), sr)\n"
     ]
    },
    {
     "name": "stdout",
     "output_type": "stream",
     "text": [
      "[1.067, 4.95]\n",
      "[[1.067, 4.95]]\n",
      "3.883\n"
     ]
    },
    {
     "name": "stderr",
     "output_type": "stream",
     "text": [
      "C:\\Users\\y2657\\AppData\\Local\\Temp\\ipykernel_13732\\915870711.py:30: FutureWarning: Pass y=[0.13983843 0.136245   0.13123593 ... 0.00914055 0.00862233 0.01019348], sr=16000 as keyword args. From version 0.10 passing these as positional arguments will result in an error\n",
      "  audio_len = librosa.get_duration(np.array(reform_signal), sr)\n"
     ]
    },
    {
     "name": "stdout",
     "output_type": "stream",
     "text": [
      "[2.241, 7.949]\n",
      "[[2.241, 7.949]]\n",
      "5.708\n"
     ]
    },
    {
     "name": "stderr",
     "output_type": "stream",
     "text": [
      "C:\\Users\\y2657\\AppData\\Local\\Temp\\ipykernel_13732\\915870711.py:30: FutureWarning: Pass y=[-0.03542761 -0.04775964 -0.05225922 ...  0.03453783  0.03566656\n",
      "  0.03830025], sr=16000 as keyword args. From version 0.10 passing these as positional arguments will result in an error\n",
      "  audio_len = librosa.get_duration(np.array(reform_signal), sr)\n"
     ]
    },
    {
     "name": "stdout",
     "output_type": "stream",
     "text": [
      "[2.43, 7.046]\n",
      "[[2.43, 7.046]]\n",
      "4.616\n"
     ]
    },
    {
     "name": "stderr",
     "output_type": "stream",
     "text": [
      "C:\\Users\\y2657\\AppData\\Local\\Temp\\ipykernel_13732\\915870711.py:30: FutureWarning: Pass y=[-0.03458912 -0.03719836 -0.03609698 ...  0.02725794  0.02804048\n",
      "  0.02667724], sr=16000 as keyword args. From version 0.10 passing these as positional arguments will result in an error\n",
      "  audio_len = librosa.get_duration(np.array(reform_signal), sr)\n"
     ]
    },
    {
     "name": "stdout",
     "output_type": "stream",
     "text": [
      "[1.526, 4.745, 7.496, 10.423]\n",
      "[[1.526, 4.745], [7.496, 10.423]]\n",
      "6.146\n"
     ]
    },
    {
     "name": "stderr",
     "output_type": "stream",
     "text": [
      "C:\\Users\\y2657\\AppData\\Local\\Temp\\ipykernel_13732\\915870711.py:30: FutureWarning: Pass y=[-0.00950563  0.03160541  0.06613265 ...  0.05853796  0.05282502\n",
      "  0.04641068], sr=16000 as keyword args. From version 0.10 passing these as positional arguments will result in an error\n",
      "  audio_len = librosa.get_duration(np.array(reform_signal), sr)\n"
     ]
    },
    {
     "name": "stdout",
     "output_type": "stream",
     "text": [
      "[1.852, 7.868]\n",
      "[[1.852, 7.868]]\n",
      "6.016\n"
     ]
    },
    {
     "name": "stderr",
     "output_type": "stream",
     "text": [
      "C:\\Users\\y2657\\AppData\\Local\\Temp\\ipykernel_13732\\915870711.py:30: FutureWarning: Pass y=[0.041041   0.04417356 0.04392506 ... 0.01926666 0.01676245 0.0153136 ], sr=16000 as keyword args. From version 0.10 passing these as positional arguments will result in an error\n",
      "  audio_len = librosa.get_duration(np.array(reform_signal), sr)\n"
     ]
    },
    {
     "name": "stdout",
     "output_type": "stream",
     "text": [
      "[1.85, 4.635, 5.886, 7.732]\n",
      "[[1.85, 4.635], [5.886, 7.732]]\n",
      "4.631\n"
     ]
    },
    {
     "name": "stderr",
     "output_type": "stream",
     "text": [
      "C:\\Users\\y2657\\AppData\\Local\\Temp\\ipykernel_13732\\915870711.py:30: FutureWarning: Pass y=[0.01021697 0.01638795 0.02103958 ... 0.03099412 0.03044306 0.03093898], sr=16000 as keyword args. From version 0.10 passing these as positional arguments will result in an error\n",
      "  audio_len = librosa.get_duration(np.array(reform_signal), sr)\n"
     ]
    },
    {
     "name": "stdout",
     "output_type": "stream",
     "text": [
      "[1.066, 1.893, 3.221, 6.572]\n",
      "[[1.066, 1.893], [3.221, 6.572]]\n",
      "4.178\n"
     ]
    },
    {
     "name": "stderr",
     "output_type": "stream",
     "text": [
      "C:\\Users\\y2657\\AppData\\Local\\Temp\\ipykernel_13732\\915870711.py:30: FutureWarning: Pass y=[-0.01034361 -0.04839851 -0.07225257 ... -0.12631373 -0.15047167\n",
      " -0.11604677], sr=16000 as keyword args. From version 0.10 passing these as positional arguments will result in an error\n",
      "  audio_len = librosa.get_duration(np.array(reform_signal), sr)\n"
     ]
    },
    {
     "name": "stdout",
     "output_type": "stream",
     "text": [
      "[1.377, 8.699]\n",
      "[[1.377, 8.699]]\n",
      "7.322\n"
     ]
    },
    {
     "name": "stderr",
     "output_type": "stream",
     "text": [
      "C:\\Users\\y2657\\AppData\\Local\\Temp\\ipykernel_13732\\915870711.py:30: FutureWarning: Pass y=[-0.15948914 -0.18983136 -0.21272065 ... -0.00558534 -0.05661147\n",
      " -0.13275978], sr=16000 as keyword args. From version 0.10 passing these as positional arguments will result in an error\n",
      "  audio_len = librosa.get_duration(np.array(reform_signal), sr)\n"
     ]
    },
    {
     "name": "stdout",
     "output_type": "stream",
     "text": [
      "[1.466, 11.453]\n",
      "[[1.466, 11.453]]\n",
      "9.987\n"
     ]
    },
    {
     "name": "stderr",
     "output_type": "stream",
     "text": [
      "C:\\Users\\y2657\\AppData\\Local\\Temp\\ipykernel_13732\\915870711.py:30: FutureWarning: Pass y=[-0.2421608  -0.2107865  -0.1436365  ... -0.09637842 -0.07652593\n",
      " -0.05715922], sr=16000 as keyword args. From version 0.10 passing these as positional arguments will result in an error\n",
      "  audio_len = librosa.get_duration(np.array(reform_signal), sr)\n"
     ]
    },
    {
     "name": "stdout",
     "output_type": "stream",
     "text": [
      "[1.268, 6.784]\n",
      "[[1.268, 6.784]]\n",
      "5.516\n"
     ]
    },
    {
     "name": "stderr",
     "output_type": "stream",
     "text": [
      "C:\\Users\\y2657\\AppData\\Local\\Temp\\ipykernel_13732\\915870711.py:30: FutureWarning: Pass y=[-0.01736979 -0.01347812 -0.01289907 ...  0.14329916  0.08010776\n",
      "  0.02037228], sr=16000 as keyword args. From version 0.10 passing these as positional arguments will result in an error\n",
      "  audio_len = librosa.get_duration(np.array(reform_signal), sr)\n"
     ]
    },
    {
     "name": "stdout",
     "output_type": "stream",
     "text": [
      "[1.696, 8.909]\n",
      "[[1.696, 8.909]]\n",
      "7.213\n"
     ]
    },
    {
     "name": "stderr",
     "output_type": "stream",
     "text": [
      "C:\\Users\\y2657\\AppData\\Local\\Temp\\ipykernel_13732\\915870711.py:30: FutureWarning: Pass y=[ 0.15073621  0.3496225   0.43747216 ... -0.04537424 -0.03422403\n",
      " -0.02297132], sr=16000 as keyword args. From version 0.10 passing these as positional arguments will result in an error\n",
      "  audio_len = librosa.get_duration(np.array(reform_signal), sr)\n"
     ]
    },
    {
     "name": "stdout",
     "output_type": "stream",
     "text": [
      "[1.91, 7.252]\n",
      "[[1.91, 7.252]]\n",
      "5.342\n"
     ]
    },
    {
     "name": "stderr",
     "output_type": "stream",
     "text": [
      "C:\\Users\\y2657\\AppData\\Local\\Temp\\ipykernel_13732\\915870711.py:30: FutureWarning: Pass y=[ 0.16173266  0.07461666 -0.03366069 ...  0.05696496  0.02301157\n",
      "  0.00826785], sr=16000 as keyword args. From version 0.10 passing these as positional arguments will result in an error\n",
      "  audio_len = librosa.get_duration(np.array(reform_signal), sr)\n"
     ]
    },
    {
     "name": "stdout",
     "output_type": "stream",
     "text": [
      "[3.121, 8.082]\n",
      "[[3.121, 8.082]]\n",
      "4.961\n"
     ]
    },
    {
     "name": "stderr",
     "output_type": "stream",
     "text": [
      "C:\\Users\\y2657\\AppData\\Local\\Temp\\ipykernel_13732\\915870711.py:30: FutureWarning: Pass y=[-0.00416433 -0.00407609 -0.0024449  ... -0.00427591  0.0029869\n",
      " -0.00196248], sr=16000 as keyword args. From version 0.10 passing these as positional arguments will result in an error\n",
      "  audio_len = librosa.get_duration(np.array(reform_signal), sr)\n"
     ]
    },
    {
     "name": "stdout",
     "output_type": "stream",
     "text": [
      "[2.505, 5.391]\n",
      "[[2.505, 5.391]]\n",
      "2.886\n"
     ]
    },
    {
     "name": "stderr",
     "output_type": "stream",
     "text": [
      "C:\\Users\\y2657\\AppData\\Local\\Temp\\ipykernel_13732\\915870711.py:30: FutureWarning: Pass y=[-0.01751642 -0.08417413 -0.11832105 ...  0.04772874  0.04274651\n",
      "  0.0461682 ], sr=16000 as keyword args. From version 0.10 passing these as positional arguments will result in an error\n",
      "  audio_len = librosa.get_duration(np.array(reform_signal), sr)\n"
     ]
    },
    {
     "name": "stdout",
     "output_type": "stream",
     "text": [
      "[1.722, 8.478]\n",
      "[[1.722, 8.478]]\n",
      "6.756\n"
     ]
    },
    {
     "name": "stderr",
     "output_type": "stream",
     "text": [
      "C:\\Users\\y2657\\AppData\\Local\\Temp\\ipykernel_13732\\915870711.py:30: FutureWarning: Pass y=[-0.11733907 -0.1178597  -0.10926388 ...  0.08148574  0.08319961\n",
      "  0.07896658], sr=16000 as keyword args. From version 0.10 passing these as positional arguments will result in an error\n",
      "  audio_len = librosa.get_duration(np.array(reform_signal), sr)\n"
     ]
    },
    {
     "name": "stdout",
     "output_type": "stream",
     "text": [
      "[3.63, 4.081, 5.179, 8.862]\n",
      "[[3.63, 4.081], [5.179, 8.862]]\n",
      "4.134\n"
     ]
    },
    {
     "name": "stderr",
     "output_type": "stream",
     "text": [
      "C:\\Users\\y2657\\AppData\\Local\\Temp\\ipykernel_13732\\915870711.py:30: FutureWarning: Pass y=[-0.04510257 -0.04685628 -0.05101083 ...  0.01443626  0.01812551\n",
      "  0.02199346], sr=16000 as keyword args. From version 0.10 passing these as positional arguments will result in an error\n",
      "  audio_len = librosa.get_duration(np.array(reform_signal), sr)\n"
     ]
    },
    {
     "name": "stdout",
     "output_type": "stream",
     "text": [
      "[2.188, 3.789, 5.489, 7.532]\n",
      "[[2.188, 3.789], [5.489, 7.532]]\n",
      "3.644\n"
     ]
    },
    {
     "name": "stderr",
     "output_type": "stream",
     "text": [
      "C:\\Users\\y2657\\AppData\\Local\\Temp\\ipykernel_13732\\915870711.py:30: FutureWarning: Pass y=[ 0.05254363  0.05338745  0.05336748 ... -0.00161838  0.00054899\n",
      "  0.0024774 ], sr=16000 as keyword args. From version 0.10 passing these as positional arguments will result in an error\n",
      "  audio_len = librosa.get_duration(np.array(reform_signal), sr)\n"
     ]
    },
    {
     "name": "stdout",
     "output_type": "stream",
     "text": [
      "[2.993, 9.568]\n",
      "[[2.993, 9.568]]\n",
      "6.575\n"
     ]
    },
    {
     "name": "stderr",
     "output_type": "stream",
     "text": [
      "C:\\Users\\y2657\\AppData\\Local\\Temp\\ipykernel_13732\\915870711.py:30: FutureWarning: Pass y=[-0.1939717  -0.13337515 -0.02694877 ... -0.03275198 -0.03282589\n",
      " -0.03562393], sr=16000 as keyword args. From version 0.10 passing these as positional arguments will result in an error\n",
      "  audio_len = librosa.get_duration(np.array(reform_signal), sr)\n"
     ]
    },
    {
     "name": "stdout",
     "output_type": "stream",
     "text": [
      "[2.061, 9.846]\n",
      "[[2.061, 9.846]]\n",
      "7.785\n"
     ]
    },
    {
     "name": "stderr",
     "output_type": "stream",
     "text": [
      "C:\\Users\\y2657\\AppData\\Local\\Temp\\ipykernel_13732\\915870711.py:30: FutureWarning: Pass y=[-0.11285789 -0.1571604  -0.1696373  ...  0.0841458   0.05963697\n",
      "  0.02554188], sr=16000 as keyword args. From version 0.10 passing these as positional arguments will result in an error\n",
      "  audio_len = librosa.get_duration(np.array(reform_signal), sr)\n"
     ]
    },
    {
     "name": "stdout",
     "output_type": "stream",
     "text": [
      "[2.954, 3.937, 4.985, 6.765]\n",
      "[[2.954, 3.937], [4.985, 6.765]]\n",
      "2.763\n"
     ]
    },
    {
     "name": "stderr",
     "output_type": "stream",
     "text": [
      "C:\\Users\\y2657\\AppData\\Local\\Temp\\ipykernel_13732\\915870711.py:30: FutureWarning: Pass y=[-0.09489713 -0.13701537 -0.16530444 ...  0.10669003  0.06533031\n",
      "  0.03338459], sr=16000 as keyword args. From version 0.10 passing these as positional arguments will result in an error\n",
      "  audio_len = librosa.get_duration(np.array(reform_signal), sr)\n"
     ]
    },
    {
     "name": "stdout",
     "output_type": "stream",
     "text": [
      "[1.35, 6.339]\n",
      "[[1.35, 6.339]]\n",
      "4.989\n"
     ]
    },
    {
     "name": "stderr",
     "output_type": "stream",
     "text": [
      "C:\\Users\\y2657\\AppData\\Local\\Temp\\ipykernel_13732\\915870711.py:30: FutureWarning: Pass y=[ 0.06823817  0.01742346 -0.03009661 ...  0.1677814   0.14673804\n",
      "  0.12469009], sr=16000 as keyword args. From version 0.10 passing these as positional arguments will result in an error\n",
      "  audio_len = librosa.get_duration(np.array(reform_signal), sr)\n"
     ]
    },
    {
     "name": "stdout",
     "output_type": "stream",
     "text": [
      "[2.487, 7.352]\n",
      "[[2.487, 7.352]]\n",
      "4.865\n"
     ]
    },
    {
     "name": "stderr",
     "output_type": "stream",
     "text": [
      "C:\\Users\\y2657\\AppData\\Local\\Temp\\ipykernel_13732\\915870711.py:30: FutureWarning: Pass y=[-0.10735529 -0.11255972 -0.02838237 ... -0.02939776 -0.04065231\n",
      " -0.04274987], sr=16000 as keyword args. From version 0.10 passing these as positional arguments will result in an error\n",
      "  audio_len = librosa.get_duration(np.array(reform_signal), sr)\n"
     ]
    },
    {
     "name": "stdout",
     "output_type": "stream",
     "text": [
      "[5.632, 6.119]\n",
      "[[5.632, 6.119]]\n",
      "0.487\n"
     ]
    },
    {
     "name": "stderr",
     "output_type": "stream",
     "text": [
      "C:\\Users\\y2657\\AppData\\Local\\Temp\\ipykernel_13732\\915870711.py:30: FutureWarning: Pass y=[0.02621762 0.03341299 0.03680256 ... 0.02166102 0.01728305 0.01508091], sr=16000 as keyword args. From version 0.10 passing these as positional arguments will result in an error\n",
      "  audio_len = librosa.get_duration(np.array(reform_signal), sr)\n"
     ]
    },
    {
     "name": "stdout",
     "output_type": "stream",
     "text": [
      "[1.197, 1.206, 3.928, 6.374]\n",
      "[[1.197, 1.206], [3.928, 6.374]]\n",
      "2.455\n"
     ]
    },
    {
     "name": "stderr",
     "output_type": "stream",
     "text": [
      "C:\\Users\\y2657\\AppData\\Local\\Temp\\ipykernel_13732\\915870711.py:30: FutureWarning: Pass y=[ 0.00601499 -0.00522226 -0.00240466 ... -0.0026696  -0.00177566\n",
      " -0.00183327], sr=16000 as keyword args. From version 0.10 passing these as positional arguments will result in an error\n",
      "  audio_len = librosa.get_duration(np.array(reform_signal), sr)\n"
     ]
    },
    {
     "name": "stdout",
     "output_type": "stream",
     "text": [
      "[1.585, 9.159]\n",
      "[[1.585, 9.159]]\n",
      "7.574\n"
     ]
    },
    {
     "name": "stderr",
     "output_type": "stream",
     "text": [
      "C:\\Users\\y2657\\AppData\\Local\\Temp\\ipykernel_13732\\915870711.py:30: FutureWarning: Pass y=[-0.00643102  0.00958885  0.02962753 ...  0.01452771  0.01030484\n",
      "  0.03231551], sr=16000 as keyword args. From version 0.10 passing these as positional arguments will result in an error\n",
      "  audio_len = librosa.get_duration(np.array(reform_signal), sr)\n"
     ]
    },
    {
     "name": "stdout",
     "output_type": "stream",
     "text": [
      "[6.825, 9.834]\n",
      "[[6.825, 9.834]]\n",
      "3.009\n"
     ]
    },
    {
     "name": "stderr",
     "output_type": "stream",
     "text": [
      "C:\\Users\\y2657\\AppData\\Local\\Temp\\ipykernel_13732\\915870711.py:30: FutureWarning: Pass y=[-0.01484622  0.01711242 -0.01503635 ...  0.00195574 -0.00070979\n",
      "  0.00471584], sr=16000 as keyword args. From version 0.10 passing these as positional arguments will result in an error\n",
      "  audio_len = librosa.get_duration(np.array(reform_signal), sr)\n"
     ]
    },
    {
     "name": "stdout",
     "output_type": "stream",
     "text": [
      "[5.866, 11.249]\n",
      "[[5.866, 11.249]]\n",
      "5.383\n"
     ]
    },
    {
     "name": "stderr",
     "output_type": "stream",
     "text": [
      "C:\\Users\\y2657\\AppData\\Local\\Temp\\ipykernel_13732\\915870711.py:30: FutureWarning: Pass y=[0.05022747 0.07490834 0.09608328 ... 0.03620112 0.05148281 0.05105682], sr=16000 as keyword args. From version 0.10 passing these as positional arguments will result in an error\n",
      "  audio_len = librosa.get_duration(np.array(reform_signal), sr)\n"
     ]
    },
    {
     "name": "stdout",
     "output_type": "stream",
     "text": [
      "[1.095, 1.661]\n",
      "[[1.095, 1.661]]\n",
      "0.566\n"
     ]
    },
    {
     "name": "stderr",
     "output_type": "stream",
     "text": [
      "C:\\Users\\y2657\\AppData\\Local\\Temp\\ipykernel_13732\\915870711.py:30: FutureWarning: Pass y=[ 0.00588451  0.00670419  0.00754135 ... -0.00344989 -0.0039486\n",
      " -0.00306863], sr=16000 as keyword args. From version 0.10 passing these as positional arguments will result in an error\n",
      "  audio_len = librosa.get_duration(np.array(reform_signal), sr)\n"
     ]
    },
    {
     "name": "stdout",
     "output_type": "stream",
     "text": [
      "[1.972, 8.963]\n",
      "[[1.972, 8.963]]\n",
      "6.991\n"
     ]
    },
    {
     "name": "stderr",
     "output_type": "stream",
     "text": [
      "C:\\Users\\y2657\\AppData\\Local\\Temp\\ipykernel_13732\\915870711.py:30: FutureWarning: Pass y=[ 0.10232867  0.04196232 -0.00111963 ...  0.1142071   0.14663701\n",
      "  0.15876065], sr=16000 as keyword args. From version 0.10 passing these as positional arguments will result in an error\n",
      "  audio_len = librosa.get_duration(np.array(reform_signal), sr)\n"
     ]
    },
    {
     "name": "stdout",
     "output_type": "stream",
     "text": [
      "[1.056, 9.179]\n",
      "[[1.056, 9.179]]\n",
      "8.123\n"
     ]
    },
    {
     "name": "stderr",
     "output_type": "stream",
     "text": [
      "C:\\Users\\y2657\\AppData\\Local\\Temp\\ipykernel_13732\\915870711.py:30: FutureWarning: Pass y=[-0.00353597 -0.00442343 -0.00447844 ... -0.00312297 -0.00310281\n",
      " -0.00269465], sr=16000 as keyword args. From version 0.10 passing these as positional arguments will result in an error\n",
      "  audio_len = librosa.get_duration(np.array(reform_signal), sr)\n"
     ]
    },
    {
     "name": "stdout",
     "output_type": "stream",
     "text": [
      "[1.283, 1.367]\n",
      "[[1.283, 1.367]]\n",
      "0.084\n"
     ]
    },
    {
     "name": "stderr",
     "output_type": "stream",
     "text": [
      "C:\\Users\\y2657\\AppData\\Local\\Temp\\ipykernel_13732\\915870711.py:30: FutureWarning: Pass y=[0.04952034 0.05024261 0.05090657 ... 0.08893676 0.08765695 0.08570413], sr=16000 as keyword args. From version 0.10 passing these as positional arguments will result in an error\n",
      "  audio_len = librosa.get_duration(np.array(reform_signal), sr)\n"
     ]
    },
    {
     "name": "stdout",
     "output_type": "stream",
     "text": [
      "[1.59, 8.426]\n",
      "[[1.59, 8.426]]\n",
      "6.836\n"
     ]
    },
    {
     "name": "stderr",
     "output_type": "stream",
     "text": [
      "C:\\Users\\y2657\\AppData\\Local\\Temp\\ipykernel_13732\\915870711.py:30: FutureWarning: Pass y=[ 0.00198109 -0.00049065 -0.00321381 ...  0.00041887 -0.00022691\n",
      " -0.00058413], sr=16000 as keyword args. From version 0.10 passing these as positional arguments will result in an error\n",
      "  audio_len = librosa.get_duration(np.array(reform_signal), sr)\n"
     ]
    },
    {
     "name": "stdout",
     "output_type": "stream",
     "text": [
      "[1.297, 7.858]\n",
      "[[1.297, 7.858]]\n",
      "6.561\n"
     ]
    },
    {
     "name": "stderr",
     "output_type": "stream",
     "text": [
      "C:\\Users\\y2657\\AppData\\Local\\Temp\\ipykernel_13732\\915870711.py:30: FutureWarning: Pass y=[ 0.15591612  0.14033444  0.12312701 ... -0.09845363 -0.10727265\n",
      " -0.1282649 ], sr=16000 as keyword args. From version 0.10 passing these as positional arguments will result in an error\n",
      "  audio_len = librosa.get_duration(np.array(reform_signal), sr)\n"
     ]
    },
    {
     "name": "stdout",
     "output_type": "stream",
     "text": [
      "[10.143, 10.522]\n",
      "[[10.143, 10.522]]\n",
      "0.379\n"
     ]
    },
    {
     "name": "stderr",
     "output_type": "stream",
     "text": [
      "C:\\Users\\y2657\\AppData\\Local\\Temp\\ipykernel_13732\\915870711.py:30: FutureWarning: Pass y=[-0.09788933 -0.05862597 -0.03022218 ...  0.11550166  0.10829388\n",
      "  0.0893947 ], sr=16000 as keyword args. From version 0.10 passing these as positional arguments will result in an error\n",
      "  audio_len = librosa.get_duration(np.array(reform_signal), sr)\n"
     ]
    },
    {
     "name": "stdout",
     "output_type": "stream",
     "text": [
      "[7.358, 11.489]\n",
      "[[7.358, 11.489]]\n",
      "4.131\n"
     ]
    },
    {
     "name": "stderr",
     "output_type": "stream",
     "text": [
      "C:\\Users\\y2657\\AppData\\Local\\Temp\\ipykernel_13732\\915870711.py:30: FutureWarning: Pass y=[-0.0013696  -0.00174439 -0.00184664 ... -0.00015926 -0.00030551\n",
      " -0.00036319], sr=16000 as keyword args. From version 0.10 passing these as positional arguments will result in an error\n",
      "  audio_len = librosa.get_duration(np.array(reform_signal), sr)\n"
     ]
    },
    {
     "name": "stdout",
     "output_type": "stream",
     "text": [
      "[1.179, 1.48]\n",
      "[[1.179, 1.48]]\n",
      "0.301\n"
     ]
    },
    {
     "name": "stderr",
     "output_type": "stream",
     "text": [
      "C:\\Users\\y2657\\AppData\\Local\\Temp\\ipykernel_13732\\915870711.py:30: FutureWarning: Pass y=[-0.00303458 -0.00216649 -0.00049649 ...  0.00017673  0.0004966\n",
      " -0.00019807], sr=16000 as keyword args. From version 0.10 passing these as positional arguments will result in an error\n",
      "  audio_len = librosa.get_duration(np.array(reform_signal), sr)\n"
     ]
    },
    {
     "name": "stdout",
     "output_type": "stream",
     "text": [
      "[1.311, 5.855]\n",
      "[[1.311, 5.855]]\n",
      "4.544\n"
     ]
    },
    {
     "name": "stderr",
     "output_type": "stream",
     "text": [
      "C:\\Users\\y2657\\AppData\\Local\\Temp\\ipykernel_13732\\915870711.py:30: FutureWarning: Pass y=[-0.00045584 -0.00116208 -0.00147599 ...  0.00033221  0.00018376\n",
      " -0.00016249], sr=16000 as keyword args. From version 0.10 passing these as positional arguments will result in an error\n",
      "  audio_len = librosa.get_duration(np.array(reform_signal), sr)\n"
     ]
    },
    {
     "name": "stdout",
     "output_type": "stream",
     "text": [
      "[1.05, 7.941]\n",
      "[[1.05, 7.941]]\n",
      "6.891\n"
     ]
    },
    {
     "name": "stderr",
     "output_type": "stream",
     "text": [
      "C:\\Users\\y2657\\AppData\\Local\\Temp\\ipykernel_13732\\915870711.py:30: FutureWarning: Pass y=[0.00937453 0.01007389 0.01038411 ... 0.00047393 0.00276624 0.0040222 ], sr=16000 as keyword args. From version 0.10 passing these as positional arguments will result in an error\n",
      "  audio_len = librosa.get_duration(np.array(reform_signal), sr)\n"
     ]
    },
    {
     "name": "stdout",
     "output_type": "stream",
     "text": [
      "[1.284, 5.11, 6.288, 7.752]\n",
      "[[1.284, 5.11], [6.288, 7.752]]\n",
      "5.29\n"
     ]
    },
    {
     "name": "stderr",
     "output_type": "stream",
     "text": [
      "C:\\Users\\y2657\\AppData\\Local\\Temp\\ipykernel_13732\\915870711.py:30: FutureWarning: Pass y=[ 0.00418473  0.0046545   0.00480755 ... -0.00209993 -0.00200309\n",
      " -0.00178491], sr=16000 as keyword args. From version 0.10 passing these as positional arguments will result in an error\n",
      "  audio_len = librosa.get_duration(np.array(reform_signal), sr)\n"
     ]
    },
    {
     "name": "stdout",
     "output_type": "stream",
     "text": [
      "[2.274, 4.368]\n",
      "[[2.274, 4.368]]\n",
      "2.094\n"
     ]
    },
    {
     "name": "stderr",
     "output_type": "stream",
     "text": [
      "C:\\Users\\y2657\\AppData\\Local\\Temp\\ipykernel_13732\\915870711.py:30: FutureWarning: Pass y=[-0.00026737  0.00023746  0.0002386  ... -0.00039419 -0.00012151\n",
      " -0.00059799], sr=16000 as keyword args. From version 0.10 passing these as positional arguments will result in an error\n",
      "  audio_len = librosa.get_duration(np.array(reform_signal), sr)\n"
     ]
    },
    {
     "name": "stdout",
     "output_type": "stream",
     "text": [
      "[4.361, 7.977]\n",
      "[[4.361, 7.977]]\n",
      "3.616\n"
     ]
    },
    {
     "name": "stderr",
     "output_type": "stream",
     "text": [
      "C:\\Users\\y2657\\AppData\\Local\\Temp\\ipykernel_13732\\915870711.py:30: FutureWarning: Pass y=[-0.1205605  -0.11767809 -0.11817086 ... -0.05113037  0.05038001\n",
      "  0.08986882], sr=16000 as keyword args. From version 0.10 passing these as positional arguments will result in an error\n",
      "  audio_len = librosa.get_duration(np.array(reform_signal), sr)\n"
     ]
    },
    {
     "name": "stdout",
     "output_type": "stream",
     "text": [
      "[3.47, 4.332]\n",
      "[[3.47, 4.332]]\n",
      "0.862\n"
     ]
    },
    {
     "name": "stderr",
     "output_type": "stream",
     "text": [
      "C:\\Users\\y2657\\AppData\\Local\\Temp\\ipykernel_13732\\915870711.py:30: FutureWarning: Pass y=[-0.00629641 -0.0088181  -0.01827619 ... -0.01885251 -0.02987814\n",
      " -0.03026834], sr=16000 as keyword args. From version 0.10 passing these as positional arguments will result in an error\n",
      "  audio_len = librosa.get_duration(np.array(reform_signal), sr)\n"
     ]
    },
    {
     "name": "stdout",
     "output_type": "stream",
     "text": [
      "[1.334, 4.262]\n",
      "[[1.334, 4.262]]\n",
      "2.928\n"
     ]
    },
    {
     "name": "stderr",
     "output_type": "stream",
     "text": [
      "C:\\Users\\y2657\\AppData\\Local\\Temp\\ipykernel_13732\\915870711.py:30: FutureWarning: Pass y=[ 0.11289221  0.12553972  0.1349978  ... -0.01301189 -0.01289035\n",
      " -0.01126237], sr=16000 as keyword args. From version 0.10 passing these as positional arguments will result in an error\n",
      "  audio_len = librosa.get_duration(np.array(reform_signal), sr)\n"
     ]
    },
    {
     "name": "stdout",
     "output_type": "stream",
     "text": [
      "[6.934, 7.535]\n",
      "[[6.934, 7.535]]\n",
      "0.601\n"
     ]
    },
    {
     "name": "stderr",
     "output_type": "stream",
     "text": [
      "C:\\Users\\y2657\\AppData\\Local\\Temp\\ipykernel_13732\\915870711.py:30: FutureWarning: Pass y=[-0.01578102 -0.01841654 -0.03011084 ... -0.00232783 -0.00467234\n",
      " -0.00787226], sr=16000 as keyword args. From version 0.10 passing these as positional arguments will result in an error\n",
      "  audio_len = librosa.get_duration(np.array(reform_signal), sr)\n"
     ]
    },
    {
     "name": "stdout",
     "output_type": "stream",
     "text": [
      "[1.539, 2.258, 3.925, 7.561]\n",
      "[[1.539, 2.258], [3.925, 7.561]]\n",
      "4.355\n"
     ]
    },
    {
     "name": "stderr",
     "output_type": "stream",
     "text": [
      "C:\\Users\\y2657\\AppData\\Local\\Temp\\ipykernel_13732\\915870711.py:30: FutureWarning: Pass y=[ 0.04530985  0.01281039 -0.01637042 ... -0.00490048  0.05263879\n",
      "  0.07205541], sr=16000 as keyword args. From version 0.10 passing these as positional arguments will result in an error\n",
      "  audio_len = librosa.get_duration(np.array(reform_signal), sr)\n"
     ]
    },
    {
     "name": "stdout",
     "output_type": "stream",
     "text": [
      "[1.077, 5.672, 7.024, 9.767]\n",
      "[[1.077, 5.672], [7.024, 9.767]]\n",
      "7.338\n"
     ]
    },
    {
     "name": "stderr",
     "output_type": "stream",
     "text": [
      "C:\\Users\\y2657\\AppData\\Local\\Temp\\ipykernel_13732\\915870711.py:30: FutureWarning: Pass y=[ 0.00046961 -0.00198892 -0.00337939 ...  0.00534895  0.00381593\n",
      "  0.00531295], sr=16000 as keyword args. From version 0.10 passing these as positional arguments will result in an error\n",
      "  audio_len = librosa.get_duration(np.array(reform_signal), sr)\n"
     ]
    },
    {
     "name": "stdout",
     "output_type": "stream",
     "text": [
      "[1.868, 3.066, 4.509, 7.49]\n",
      "[[1.868, 3.066], [4.509, 7.49]]\n",
      "4.179\n"
     ]
    },
    {
     "name": "stderr",
     "output_type": "stream",
     "text": [
      "C:\\Users\\y2657\\AppData\\Local\\Temp\\ipykernel_13732\\915870711.py:30: FutureWarning: Pass y=[-0.05268638 -0.04602122 -0.06560378 ... -0.02000895  0.01297729\n",
      "  0.03667148], sr=16000 as keyword args. From version 0.10 passing these as positional arguments will result in an error\n",
      "  audio_len = librosa.get_duration(np.array(reform_signal), sr)\n"
     ]
    },
    {
     "name": "stdout",
     "output_type": "stream",
     "text": [
      "[2.529, 8.062]\n",
      "[[2.529, 8.062]]\n",
      "5.5329375\n"
     ]
    },
    {
     "name": "stderr",
     "output_type": "stream",
     "text": [
      "C:\\Users\\y2657\\AppData\\Local\\Temp\\ipykernel_13732\\915870711.py:30: FutureWarning: Pass y=[-0.0736957  -0.10907543 -0.11107184 ... -0.02013425 -0.02936728\n",
      " -0.03534533], sr=16000 as keyword args. From version 0.10 passing these as positional arguments will result in an error\n",
      "  audio_len = librosa.get_duration(np.array(reform_signal), sr)\n"
     ]
    },
    {
     "name": "stdout",
     "output_type": "stream",
     "text": [
      "[1.988, 7.545]\n",
      "[[1.988, 7.545]]\n",
      "5.557\n"
     ]
    },
    {
     "name": "stderr",
     "output_type": "stream",
     "text": [
      "C:\\Users\\y2657\\AppData\\Local\\Temp\\ipykernel_13732\\915870711.py:30: FutureWarning: Pass y=[-0.03543939 -0.04049452 -0.04872955 ... -0.05818691 -0.05671984\n",
      " -0.05573137], sr=16000 as keyword args. From version 0.10 passing these as positional arguments will result in an error\n",
      "  audio_len = librosa.get_duration(np.array(reform_signal), sr)\n"
     ]
    },
    {
     "name": "stdout",
     "output_type": "stream",
     "text": [
      "[1.845, 6.746, 7.765, 9.126]\n",
      "[[1.845, 6.746], [7.765, 9.126]]\n",
      "6.262\n"
     ]
    },
    {
     "name": "stderr",
     "output_type": "stream",
     "text": [
      "C:\\Users\\y2657\\AppData\\Local\\Temp\\ipykernel_13732\\915870711.py:30: FutureWarning: Pass y=[-0.10234904 -0.0993534  -0.11206844 ... -0.03635772 -0.03605117\n",
      " -0.03563194], sr=16000 as keyword args. From version 0.10 passing these as positional arguments will result in an error\n",
      "  audio_len = librosa.get_duration(np.array(reform_signal), sr)\n"
     ]
    },
    {
     "name": "stdout",
     "output_type": "stream",
     "text": [
      "[2.544, 7.57]\n",
      "[[2.544, 7.57]]\n",
      "5.026\n"
     ]
    },
    {
     "name": "stderr",
     "output_type": "stream",
     "text": [
      "C:\\Users\\y2657\\AppData\\Local\\Temp\\ipykernel_13732\\915870711.py:30: FutureWarning: Pass y=[ 0.01332799  0.03521253  0.05581106 ... -0.040888   -0.04622512\n",
      " -0.04966446], sr=16000 as keyword args. From version 0.10 passing these as positional arguments will result in an error\n",
      "  audio_len = librosa.get_duration(np.array(reform_signal), sr)\n"
     ]
    },
    {
     "name": "stdout",
     "output_type": "stream",
     "text": [
      "[2.429, 6.838, 7.903, 8.356]\n",
      "[[2.429, 6.838], [7.903, 8.356]]\n",
      "4.862\n"
     ]
    },
    {
     "name": "stderr",
     "output_type": "stream",
     "text": [
      "C:\\Users\\y2657\\AppData\\Local\\Temp\\ipykernel_13732\\915870711.py:30: FutureWarning: Pass y=[-0.00084387  0.01133988  0.02448961 ... -0.01775284 -0.03036197\n",
      " -0.04144845], sr=16000 as keyword args. From version 0.10 passing these as positional arguments will result in an error\n",
      "  audio_len = librosa.get_duration(np.array(reform_signal), sr)\n"
     ]
    },
    {
     "name": "stdout",
     "output_type": "stream",
     "text": [
      "[1.733, 6.278]\n",
      "[[1.733, 6.278]]\n",
      "4.545\n"
     ]
    },
    {
     "name": "stderr",
     "output_type": "stream",
     "text": [
      "C:\\Users\\y2657\\AppData\\Local\\Temp\\ipykernel_13732\\915870711.py:30: FutureWarning: Pass y=[0.06323127 0.07017204 0.07845296 ... 0.01041271 0.00544201 0.00495312], sr=16000 as keyword args. From version 0.10 passing these as positional arguments will result in an error\n",
      "  audio_len = librosa.get_duration(np.array(reform_signal), sr)\n"
     ]
    },
    {
     "name": "stdout",
     "output_type": "stream",
     "text": [
      "[1.873, 6.856]\n",
      "[[1.873, 6.856]]\n",
      "4.983\n"
     ]
    },
    {
     "name": "stderr",
     "output_type": "stream",
     "text": [
      "C:\\Users\\y2657\\AppData\\Local\\Temp\\ipykernel_13732\\915870711.py:30: FutureWarning: Pass y=[-0.05534429 -0.06214119 -0.05799037 ... -0.00269499 -0.00541042\n",
      " -0.00796678], sr=16000 as keyword args. From version 0.10 passing these as positional arguments will result in an error\n",
      "  audio_len = librosa.get_duration(np.array(reform_signal), sr)\n"
     ]
    },
    {
     "name": "stdout",
     "output_type": "stream",
     "text": [
      "[1.793, 2.732, 4.468, 5.958, 7.159, 7.435]\n",
      "[[1.793, 2.732], [4.468, 5.958], [7.159, 7.435]]\n",
      "2.705\n"
     ]
    },
    {
     "name": "stderr",
     "output_type": "stream",
     "text": [
      "C:\\Users\\y2657\\AppData\\Local\\Temp\\ipykernel_13732\\915870711.py:30: FutureWarning: Pass y=[-0.0992007  -0.11336845 -0.1193861  ... -0.00228057  0.00277599\n",
      "  0.00588635], sr=16000 as keyword args. From version 0.10 passing these as positional arguments will result in an error\n",
      "  audio_len = librosa.get_duration(np.array(reform_signal), sr)\n"
     ]
    },
    {
     "name": "stdout",
     "output_type": "stream",
     "text": [
      "[1.624, 3.119, 4.278, 8.923]\n",
      "[[1.624, 3.119], [4.278, 8.923]]\n",
      "6.14\n"
     ]
    },
    {
     "name": "stderr",
     "output_type": "stream",
     "text": [
      "C:\\Users\\y2657\\AppData\\Local\\Temp\\ipykernel_13732\\915870711.py:30: FutureWarning: Pass y=[ 0.01057584  0.02032023  0.02971675 ... -0.01298074 -0.01900764\n",
      " -0.02266551], sr=16000 as keyword args. From version 0.10 passing these as positional arguments will result in an error\n",
      "  audio_len = librosa.get_duration(np.array(reform_signal), sr)\n"
     ]
    },
    {
     "name": "stdout",
     "output_type": "stream",
     "text": [
      "[1.034, 9.494]\n",
      "[[1.034, 9.494]]\n",
      "8.46\n"
     ]
    },
    {
     "name": "stderr",
     "output_type": "stream",
     "text": [
      "C:\\Users\\y2657\\AppData\\Local\\Temp\\ipykernel_13732\\915870711.py:30: FutureWarning: Pass y=[-0.02243035 -0.03801989 -0.06323238 ...  0.16050854  0.17573217\n",
      "  0.16967559], sr=16000 as keyword args. From version 0.10 passing these as positional arguments will result in an error\n",
      "  audio_len = librosa.get_duration(np.array(reform_signal), sr)\n"
     ]
    },
    {
     "name": "stdout",
     "output_type": "stream",
     "text": [
      "[3.413, 9.198]\n",
      "[[3.413, 9.198]]\n",
      "5.785\n"
     ]
    },
    {
     "name": "stderr",
     "output_type": "stream",
     "text": [
      "C:\\Users\\y2657\\AppData\\Local\\Temp\\ipykernel_13732\\915870711.py:30: FutureWarning: Pass y=[-0.00340983 -0.00441713 -0.00546971 ... -0.00076855 -0.00049148\n",
      " -0.00033608], sr=16000 as keyword args. From version 0.10 passing these as positional arguments will result in an error\n",
      "  audio_len = librosa.get_duration(np.array(reform_signal), sr)\n"
     ]
    },
    {
     "name": "stdout",
     "output_type": "stream",
     "text": [
      "[2.148, 3.587, 5.064, 7.258]\n",
      "[[2.148, 3.587], [5.064, 7.258]]\n",
      "3.633\n"
     ]
    },
    {
     "name": "stderr",
     "output_type": "stream",
     "text": [
      "C:\\Users\\y2657\\AppData\\Local\\Temp\\ipykernel_13732\\915870711.py:30: FutureWarning: Pass y=[-0.04209903 -0.04943745 -0.05646843 ... -0.0153535  -0.01793957\n",
      " -0.02045267], sr=16000 as keyword args. From version 0.10 passing these as positional arguments will result in an error\n",
      "  audio_len = librosa.get_duration(np.array(reform_signal), sr)\n"
     ]
    },
    {
     "name": "stdout",
     "output_type": "stream",
     "text": [
      "[2.113, 6.381]\n",
      "[[2.113, 6.381]]\n",
      "4.268\n"
     ]
    },
    {
     "name": "stderr",
     "output_type": "stream",
     "text": [
      "C:\\Users\\y2657\\AppData\\Local\\Temp\\ipykernel_13732\\915870711.py:30: FutureWarning: Pass y=[-0.18231225 -0.19946125 -0.22513127 ... -0.10097984 -0.08699994\n",
      " -0.08013199], sr=16000 as keyword args. From version 0.10 passing these as positional arguments will result in an error\n",
      "  audio_len = librosa.get_duration(np.array(reform_signal), sr)\n"
     ]
    },
    {
     "name": "stdout",
     "output_type": "stream",
     "text": [
      "[1.14, 3.764]\n",
      "[[1.14, 3.764]]\n",
      "2.624\n"
     ]
    },
    {
     "name": "stderr",
     "output_type": "stream",
     "text": [
      "C:\\Users\\y2657\\AppData\\Local\\Temp\\ipykernel_13732\\915870711.py:30: FutureWarning: Pass y=[ 0.02881715  0.06068633  0.09452766 ... -0.04537579 -0.03345051\n",
      " -0.01990873], sr=16000 as keyword args. From version 0.10 passing these as positional arguments will result in an error\n",
      "  audio_len = librosa.get_duration(np.array(reform_signal), sr)\n"
     ]
    },
    {
     "name": "stdout",
     "output_type": "stream",
     "text": [
      "[2.96, 4.992, 6.066, 8.594]\n",
      "[[2.96, 4.992], [6.066, 8.594]]\n",
      "4.56\n"
     ]
    },
    {
     "name": "stderr",
     "output_type": "stream",
     "text": [
      "C:\\Users\\y2657\\AppData\\Local\\Temp\\ipykernel_13732\\915870711.py:30: FutureWarning: Pass y=[-0.01993529  0.01346556  0.04561597 ... -0.00624111  0.00308806\n",
      "  0.01149867], sr=16000 as keyword args. From version 0.10 passing these as positional arguments will result in an error\n",
      "  audio_len = librosa.get_duration(np.array(reform_signal), sr)\n"
     ]
    },
    {
     "name": "stdout",
     "output_type": "stream",
     "text": [
      "[4.015, 8.738]\n",
      "[[4.015, 8.738]]\n",
      "4.7230625\n"
     ]
    },
    {
     "name": "stderr",
     "output_type": "stream",
     "text": [
      "C:\\Users\\y2657\\AppData\\Local\\Temp\\ipykernel_13732\\915870711.py:30: FutureWarning: Pass y=[0.12454601 0.1303842  0.14729498 ... 0.01792897 0.01128092 0.00361496], sr=16000 as keyword args. From version 0.10 passing these as positional arguments will result in an error\n",
      "  audio_len = librosa.get_duration(np.array(reform_signal), sr)\n"
     ]
    },
    {
     "name": "stdout",
     "output_type": "stream",
     "text": [
      "[4.175, 8.159]\n",
      "[[4.175, 8.159]]\n",
      "3.984\n"
     ]
    },
    {
     "name": "stderr",
     "output_type": "stream",
     "text": [
      "C:\\Users\\y2657\\AppData\\Local\\Temp\\ipykernel_13732\\915870711.py:30: FutureWarning: Pass y=[-0.01879776 -0.00177022 -0.01789813 ... -0.06069575 -0.06575511\n",
      " -0.07176827], sr=16000 as keyword args. From version 0.10 passing these as positional arguments will result in an error\n",
      "  audio_len = librosa.get_duration(np.array(reform_signal), sr)\n"
     ]
    },
    {
     "name": "stdout",
     "output_type": "stream",
     "text": [
      "[2.628, 3.089, 4.481, 8.189, 9.642, 12.138]\n",
      "[[2.628, 3.089], [4.481, 8.189], [9.642, 12.138]]\n",
      "6.665\n"
     ]
    },
    {
     "name": "stderr",
     "output_type": "stream",
     "text": [
      "C:\\Users\\y2657\\AppData\\Local\\Temp\\ipykernel_13732\\915870711.py:30: FutureWarning: Pass y=[ 0.25044098  0.29251513  0.29929394 ... -0.00644544 -0.02008949\n",
      " -0.02451979], sr=16000 as keyword args. From version 0.10 passing these as positional arguments will result in an error\n",
      "  audio_len = librosa.get_duration(np.array(reform_signal), sr)\n"
     ]
    },
    {
     "name": "stdout",
     "output_type": "stream",
     "text": [
      "[1.383, 11.623]\n",
      "[[1.383, 11.623]]\n",
      "10.24\n"
     ]
    },
    {
     "name": "stderr",
     "output_type": "stream",
     "text": [
      "C:\\Users\\y2657\\AppData\\Local\\Temp\\ipykernel_13732\\915870711.py:30: FutureWarning: Pass y=[-0.13148192  0.00509099  0.10486    ... -0.08463579 -0.08872887\n",
      " -0.07505841], sr=16000 as keyword args. From version 0.10 passing these as positional arguments will result in an error\n",
      "  audio_len = librosa.get_duration(np.array(reform_signal), sr)\n"
     ]
    },
    {
     "name": "stdout",
     "output_type": "stream",
     "text": [
      "[8.813, 11.052]\n",
      "[[8.813, 11.052]]\n",
      "2.239\n"
     ]
    },
    {
     "name": "stderr",
     "output_type": "stream",
     "text": [
      "C:\\Users\\y2657\\AppData\\Local\\Temp\\ipykernel_13732\\915870711.py:30: FutureWarning: Pass y=[-0.08458018 -0.08958146 -0.11887074 ... -0.03608685 -0.02657267\n",
      " -0.00922379], sr=16000 as keyword args. From version 0.10 passing these as positional arguments will result in an error\n",
      "  audio_len = librosa.get_duration(np.array(reform_signal), sr)\n"
     ]
    },
    {
     "name": "stdout",
     "output_type": "stream",
     "text": [
      "[1.414, 4.388, 5.594, 9.226]\n",
      "[[1.414, 4.388], [5.594, 9.226]]\n",
      "6.606\n"
     ]
    },
    {
     "name": "stderr",
     "output_type": "stream",
     "text": [
      "C:\\Users\\y2657\\AppData\\Local\\Temp\\ipykernel_13732\\915870711.py:30: FutureWarning: Pass y=[-0.09873172 -0.10150404 -0.09659307 ...  0.07043052  0.07311826\n",
      "  0.07284094], sr=16000 as keyword args. From version 0.10 passing these as positional arguments will result in an error\n",
      "  audio_len = librosa.get_duration(np.array(reform_signal), sr)\n"
     ]
    },
    {
     "name": "stdout",
     "output_type": "stream",
     "text": [
      "[1.216, 10.126]\n",
      "[[1.216, 10.126]]\n",
      "8.91\n"
     ]
    },
    {
     "name": "stderr",
     "output_type": "stream",
     "text": [
      "C:\\Users\\y2657\\AppData\\Local\\Temp\\ipykernel_13732\\915870711.py:30: FutureWarning: Pass y=[ 0.00486268  0.02501265  0.04767308 ... -0.15717822 -0.12279268\n",
      " -0.05365879], sr=16000 as keyword args. From version 0.10 passing these as positional arguments will result in an error\n",
      "  audio_len = librosa.get_duration(np.array(reform_signal), sr)\n"
     ]
    },
    {
     "name": "stdout",
     "output_type": "stream",
     "text": [
      "[2.348, 4.643]\n",
      "[[2.348, 4.643]]\n",
      "2.295\n"
     ]
    },
    {
     "name": "stderr",
     "output_type": "stream",
     "text": [
      "C:\\Users\\y2657\\AppData\\Local\\Temp\\ipykernel_13732\\915870711.py:30: FutureWarning: Pass y=[-0.00266695 -0.01887425  0.01268154 ... -0.03386186 -0.02616672\n",
      " -0.01693925], sr=16000 as keyword args. From version 0.10 passing these as positional arguments will result in an error\n",
      "  audio_len = librosa.get_duration(np.array(reform_signal), sr)\n"
     ]
    },
    {
     "name": "stdout",
     "output_type": "stream",
     "text": [
      "[1.615, 11.777]\n",
      "[[1.615, 11.777]]\n",
      "10.162\n"
     ]
    },
    {
     "name": "stderr",
     "output_type": "stream",
     "text": [
      "C:\\Users\\y2657\\AppData\\Local\\Temp\\ipykernel_13732\\915870711.py:30: FutureWarning: Pass y=[ 0.07498284  0.05459807  0.05442662 ... -0.05580962 -0.03445987\n",
      " -0.01544549], sr=16000 as keyword args. From version 0.10 passing these as positional arguments will result in an error\n",
      "  audio_len = librosa.get_duration(np.array(reform_signal), sr)\n"
     ]
    },
    {
     "name": "stdout",
     "output_type": "stream",
     "text": [
      "[2.491, 7.293, 8.411, 9.638]\n",
      "[[2.491, 7.293], [8.411, 9.638]]\n",
      "6.029\n"
     ]
    },
    {
     "name": "stderr",
     "output_type": "stream",
     "text": [
      "C:\\Users\\y2657\\AppData\\Local\\Temp\\ipykernel_13732\\915870711.py:30: FutureWarning: Pass y=[ 0.00729692 -0.01329416 -0.0293612  ... -0.00528679 -0.01134802\n",
      " -0.01516945], sr=16000 as keyword args. From version 0.10 passing these as positional arguments will result in an error\n",
      "  audio_len = librosa.get_duration(np.array(reform_signal), sr)\n"
     ]
    },
    {
     "name": "stdout",
     "output_type": "stream",
     "text": [
      "[2.365, 7.09]\n",
      "[[2.365, 7.09]]\n",
      "4.725\n"
     ]
    },
    {
     "name": "stderr",
     "output_type": "stream",
     "text": [
      "C:\\Users\\y2657\\AppData\\Local\\Temp\\ipykernel_13732\\915870711.py:30: FutureWarning: Pass y=[0.0372884  0.03030131 0.02489459 ... 0.01125866 0.01181946 0.01316525], sr=16000 as keyword args. From version 0.10 passing these as positional arguments will result in an error\n",
      "  audio_len = librosa.get_duration(np.array(reform_signal), sr)\n"
     ]
    },
    {
     "name": "stdout",
     "output_type": "stream",
     "text": [
      "[1.287, 10.065]\n",
      "[[1.287, 10.065]]\n",
      "8.778\n"
     ]
    },
    {
     "name": "stderr",
     "output_type": "stream",
     "text": [
      "C:\\Users\\y2657\\AppData\\Local\\Temp\\ipykernel_13732\\915870711.py:30: FutureWarning: Pass y=[0.00708509 0.00595762 0.00491724 ... 0.00748334 0.0065524  0.00524514], sr=16000 as keyword args. From version 0.10 passing these as positional arguments will result in an error\n",
      "  audio_len = librosa.get_duration(np.array(reform_signal), sr)\n"
     ]
    },
    {
     "name": "stdout",
     "output_type": "stream",
     "text": [
      "[1.769, 8.708]\n",
      "[[1.769, 8.708]]\n",
      "6.939\n"
     ]
    },
    {
     "name": "stderr",
     "output_type": "stream",
     "text": [
      "C:\\Users\\y2657\\AppData\\Local\\Temp\\ipykernel_13732\\915870711.py:30: FutureWarning: Pass y=[-0.21212536 -0.19077012 -0.17350785 ... -0.06267332 -0.05377286\n",
      " -0.04514644], sr=16000 as keyword args. From version 0.10 passing these as positional arguments will result in an error\n",
      "  audio_len = librosa.get_duration(np.array(reform_signal), sr)\n"
     ]
    },
    {
     "name": "stdout",
     "output_type": "stream",
     "text": [
      "[1.056, 5.309]\n",
      "[[1.056, 5.309]]\n",
      "4.253\n"
     ]
    },
    {
     "name": "stderr",
     "output_type": "stream",
     "text": [
      "C:\\Users\\y2657\\AppData\\Local\\Temp\\ipykernel_13732\\915870711.py:30: FutureWarning: Pass y=[-0.04271419 -0.04609904 -0.04318604 ...  0.04141252  0.04145685\n",
      "  0.03968224], sr=16000 as keyword args. From version 0.10 passing these as positional arguments will result in an error\n",
      "  audio_len = librosa.get_duration(np.array(reform_signal), sr)\n"
     ]
    },
    {
     "name": "stdout",
     "output_type": "stream",
     "text": [
      "[1.17, 3.066, 4.221, 6.809]\n",
      "[[1.17, 3.066], [4.221, 6.809]]\n",
      "4.484\n"
     ]
    },
    {
     "name": "stderr",
     "output_type": "stream",
     "text": [
      "C:\\Users\\y2657\\AppData\\Local\\Temp\\ipykernel_13732\\915870711.py:30: FutureWarning: Pass y=[-0.01947246  0.00241407  0.01520659 ...  0.03056179  0.02999096\n",
      "  0.02948576], sr=16000 as keyword args. From version 0.10 passing these as positional arguments will result in an error\n",
      "  audio_len = librosa.get_duration(np.array(reform_signal), sr)\n"
     ]
    },
    {
     "name": "stdout",
     "output_type": "stream",
     "text": [
      "[2.693, 5.975, 7.117, 8.69]\n",
      "[[2.693, 5.975], [7.117, 8.69]]\n",
      "4.855\n"
     ]
    },
    {
     "name": "stderr",
     "output_type": "stream",
     "text": [
      "C:\\Users\\y2657\\AppData\\Local\\Temp\\ipykernel_13732\\915870711.py:30: FutureWarning: Pass y=[-0.05277998 -0.05137302 -0.05137358 ... -0.02433507 -0.01962956\n",
      " -0.01386272], sr=16000 as keyword args. From version 0.10 passing these as positional arguments will result in an error\n",
      "  audio_len = librosa.get_duration(np.array(reform_signal), sr)\n"
     ]
    },
    {
     "name": "stdout",
     "output_type": "stream",
     "text": [
      "[1.097, 6.118]\n",
      "[[1.097, 6.118]]\n",
      "5.021\n"
     ]
    },
    {
     "name": "stderr",
     "output_type": "stream",
     "text": [
      "C:\\Users\\y2657\\AppData\\Local\\Temp\\ipykernel_13732\\915870711.py:30: FutureWarning: Pass y=[0.05735922 0.04718974 0.02245787 ... 0.00266506 0.00288689 0.00254615], sr=16000 as keyword args. From version 0.10 passing these as positional arguments will result in an error\n",
      "  audio_len = librosa.get_duration(np.array(reform_signal), sr)\n"
     ]
    },
    {
     "name": "stdout",
     "output_type": "stream",
     "text": [
      "[5.799, 6.001]\n",
      "[[5.799, 6.001]]\n",
      "0.202\n"
     ]
    },
    {
     "name": "stderr",
     "output_type": "stream",
     "text": [
      "C:\\Users\\y2657\\AppData\\Local\\Temp\\ipykernel_13732\\915870711.py:30: FutureWarning: Pass y=[-0.03447783 -0.04183857 -0.04152227 ... -0.03618798  0.04978584\n",
      "  0.03640939], sr=16000 as keyword args. From version 0.10 passing these as positional arguments will result in an error\n",
      "  audio_len = librosa.get_duration(np.array(reform_signal), sr)\n"
     ]
    },
    {
     "name": "stdout",
     "output_type": "stream",
     "text": [
      "[1.434, 2.774, 6.959, 11.361]\n",
      "[[1.434, 2.774], [6.959, 11.361]]\n",
      "5.742\n"
     ]
    },
    {
     "name": "stderr",
     "output_type": "stream",
     "text": [
      "C:\\Users\\y2657\\AppData\\Local\\Temp\\ipykernel_13732\\915870711.py:30: FutureWarning: Pass y=[-0.00659234 -0.00349025 -0.00106792 ... -0.00843318 -0.00823822\n",
      " -0.00756669], sr=16000 as keyword args. From version 0.10 passing these as positional arguments will result in an error\n",
      "  audio_len = librosa.get_duration(np.array(reform_signal), sr)\n"
     ]
    },
    {
     "name": "stdout",
     "output_type": "stream",
     "text": [
      "[1.01, 3.173]\n",
      "[[1.01, 3.173]]\n",
      "2.163\n"
     ]
    },
    {
     "name": "stderr",
     "output_type": "stream",
     "text": [
      "C:\\Users\\y2657\\AppData\\Local\\Temp\\ipykernel_13732\\915870711.py:30: FutureWarning: Pass y=[-0.02916865 -0.02734699 -0.02523779 ... -0.03786429 -0.03671357\n",
      " -0.02756437], sr=16000 as keyword args. From version 0.10 passing these as positional arguments will result in an error\n",
      "  audio_len = librosa.get_duration(np.array(reform_signal), sr)\n"
     ]
    },
    {
     "name": "stdout",
     "output_type": "stream",
     "text": [
      "[4.732, 5.448, 6.899, 8.495, 9.58, 10.277]\n",
      "[[4.732, 5.448], [6.899, 8.495], [9.58, 10.277]]\n",
      "3.009\n"
     ]
    },
    {
     "name": "stderr",
     "output_type": "stream",
     "text": [
      "C:\\Users\\y2657\\AppData\\Local\\Temp\\ipykernel_13732\\915870711.py:30: FutureWarning: Pass y=[0.05650838 0.05399881 0.04831512 ... 0.00163248 0.00440886 0.01056339], sr=16000 as keyword args. From version 0.10 passing these as positional arguments will result in an error\n",
      "  audio_len = librosa.get_duration(np.array(reform_signal), sr)\n"
     ]
    },
    {
     "name": "stdout",
     "output_type": "stream",
     "text": [
      "[1.658, 7.127]\n",
      "[[1.658, 7.127]]\n",
      "5.469\n"
     ]
    },
    {
     "name": "stderr",
     "output_type": "stream",
     "text": [
      "C:\\Users\\y2657\\AppData\\Local\\Temp\\ipykernel_13732\\915870711.py:30: FutureWarning: Pass y=[0.05061296 0.04611362 0.04841819 ... 0.03526092 0.03677558 0.03850449], sr=16000 as keyword args. From version 0.10 passing these as positional arguments will result in an error\n",
      "  audio_len = librosa.get_duration(np.array(reform_signal), sr)\n"
     ]
    },
    {
     "name": "stdout",
     "output_type": "stream",
     "text": [
      "[1.478, 9.931]\n",
      "[[1.478, 9.931]]\n",
      "8.453\n"
     ]
    },
    {
     "name": "stderr",
     "output_type": "stream",
     "text": [
      "C:\\Users\\y2657\\AppData\\Local\\Temp\\ipykernel_13732\\915870711.py:30: FutureWarning: Pass y=[-0.00389832 -0.00380876 -0.00411402 ...  0.00389149  0.002607\n",
      "  0.00168185], sr=16000 as keyword args. From version 0.10 passing these as positional arguments will result in an error\n",
      "  audio_len = librosa.get_duration(np.array(reform_signal), sr)\n"
     ]
    },
    {
     "name": "stdout",
     "output_type": "stream",
     "text": [
      "[1.69, 9.488]\n",
      "[[1.69, 9.488]]\n",
      "7.798\n"
     ]
    },
    {
     "name": "stderr",
     "output_type": "stream",
     "text": [
      "C:\\Users\\y2657\\AppData\\Local\\Temp\\ipykernel_13732\\915870711.py:30: FutureWarning: Pass y=[-0.00282943 -0.00417234 -0.0049714  ... -0.00196874 -0.00194622\n",
      " -0.0020238 ], sr=16000 as keyword args. From version 0.10 passing these as positional arguments will result in an error\n",
      "  audio_len = librosa.get_duration(np.array(reform_signal), sr)\n"
     ]
    },
    {
     "name": "stdout",
     "output_type": "stream",
     "text": [
      "[1.631, 5.854, 7.306, 9.215]\n",
      "[[1.631, 5.854], [7.306, 9.215]]\n",
      "6.132\n"
     ]
    },
    {
     "name": "stderr",
     "output_type": "stream",
     "text": [
      "C:\\Users\\y2657\\AppData\\Local\\Temp\\ipykernel_13732\\915870711.py:30: FutureWarning: Pass y=[-0.02721686  0.00353721  0.02903012 ... -0.00621682  0.00169272\n",
      "  0.01928362], sr=16000 as keyword args. From version 0.10 passing these as positional arguments will result in an error\n",
      "  audio_len = librosa.get_duration(np.array(reform_signal), sr)\n"
     ]
    },
    {
     "name": "stdout",
     "output_type": "stream",
     "text": [
      "[1.289, 4.642, 6.315, 9.039]\n",
      "[[1.289, 4.642], [6.315, 9.039]]\n",
      "6.077\n"
     ]
    },
    {
     "name": "stderr",
     "output_type": "stream",
     "text": [
      "C:\\Users\\y2657\\AppData\\Local\\Temp\\ipykernel_13732\\915870711.py:30: FutureWarning: Pass y=[-0.04971052 -0.04585563 -0.04190201 ...  0.02132689  0.02063836\n",
      "  0.01953109], sr=16000 as keyword args. From version 0.10 passing these as positional arguments will result in an error\n",
      "  audio_len = librosa.get_duration(np.array(reform_signal), sr)\n"
     ]
    },
    {
     "name": "stdout",
     "output_type": "stream",
     "text": [
      "[2.265, 6.812]\n",
      "[[2.265, 6.812]]\n",
      "4.547\n"
     ]
    },
    {
     "name": "stderr",
     "output_type": "stream",
     "text": [
      "C:\\Users\\y2657\\AppData\\Local\\Temp\\ipykernel_13732\\915870711.py:30: FutureWarning: Pass y=[-0.02226054 -0.0230816  -0.02236531 ... -0.00014999  0.00055778\n",
      "  0.00137423], sr=16000 as keyword args. From version 0.10 passing these as positional arguments will result in an error\n",
      "  audio_len = librosa.get_duration(np.array(reform_signal), sr)\n"
     ]
    },
    {
     "name": "stdout",
     "output_type": "stream",
     "text": [
      "[1.264, 4.616, 7.233, 9.201]\n",
      "[[1.264, 4.616], [7.233, 9.201]]\n",
      "5.32\n"
     ]
    },
    {
     "name": "stderr",
     "output_type": "stream",
     "text": [
      "C:\\Users\\y2657\\AppData\\Local\\Temp\\ipykernel_13732\\915870711.py:30: FutureWarning: Pass y=[ 0.01822688 -0.01673491 -0.02642771 ...  0.02592986  0.01761736\n",
      "  0.03204443], sr=16000 as keyword args. From version 0.10 passing these as positional arguments will result in an error\n",
      "  audio_len = librosa.get_duration(np.array(reform_signal), sr)\n"
     ]
    },
    {
     "name": "stdout",
     "output_type": "stream",
     "text": [
      "[1.602, 5.534]\n",
      "[[1.602, 5.534]]\n",
      "3.932\n"
     ]
    },
    {
     "name": "stderr",
     "output_type": "stream",
     "text": [
      "C:\\Users\\y2657\\AppData\\Local\\Temp\\ipykernel_13732\\915870711.py:30: FutureWarning: Pass y=[0.02191626 0.02942838 0.02705741 ... 0.04282805 0.04381431 0.04366878], sr=16000 as keyword args. From version 0.10 passing these as positional arguments will result in an error\n",
      "  audio_len = librosa.get_duration(np.array(reform_signal), sr)\n"
     ]
    },
    {
     "name": "stdout",
     "output_type": "stream",
     "text": [
      "[1.447, 5.494]\n",
      "[[1.447, 5.494]]\n",
      "4.047\n"
     ]
    },
    {
     "name": "stderr",
     "output_type": "stream",
     "text": [
      "C:\\Users\\y2657\\AppData\\Local\\Temp\\ipykernel_13732\\915870711.py:30: FutureWarning: Pass y=[-1.0985755e-04 -5.7957885e-03  4.0641888e-03 ... -1.0470004e-03\n",
      " -6.6282263e-04  6.4318621e-05], sr=16000 as keyword args. From version 0.10 passing these as positional arguments will result in an error\n",
      "  audio_len = librosa.get_duration(np.array(reform_signal), sr)\n"
     ]
    },
    {
     "name": "stdout",
     "output_type": "stream",
     "text": [
      "[1.256, 4.475]\n",
      "[[1.256, 4.475]]\n",
      "3.219\n"
     ]
    },
    {
     "name": "stderr",
     "output_type": "stream",
     "text": [
      "C:\\Users\\y2657\\AppData\\Local\\Temp\\ipykernel_13732\\915870711.py:30: FutureWarning: Pass y=[-0.06152984 -0.04235593 -0.04344538 ...  0.01557287  0.01122608\n",
      "  0.00751413], sr=16000 as keyword args. From version 0.10 passing these as positional arguments will result in an error\n",
      "  audio_len = librosa.get_duration(np.array(reform_signal), sr)\n"
     ]
    },
    {
     "name": "stdout",
     "output_type": "stream",
     "text": [
      "[1.382, 6.53, 8.758, 10.192, 11.475, 13.358]\n",
      "[[1.382, 6.53], [8.758, 10.192], [11.475, 13.358]]\n",
      "8.465\n"
     ]
    },
    {
     "name": "stderr",
     "output_type": "stream",
     "text": [
      "C:\\Users\\y2657\\AppData\\Local\\Temp\\ipykernel_13732\\915870711.py:30: FutureWarning: Pass y=[-0.12385131 -0.13067062 -0.13556509 ... -0.06585267 -0.04611683\n",
      " -0.0372793 ], sr=16000 as keyword args. From version 0.10 passing these as positional arguments will result in an error\n",
      "  audio_len = librosa.get_duration(np.array(reform_signal), sr)\n"
     ]
    },
    {
     "name": "stdout",
     "output_type": "stream",
     "text": [
      "[2.686, 5.01, 6.446, 8.741, 10.362, 11.018]\n",
      "[[2.686, 5.01], [6.446, 8.741], [10.362, 11.018]]\n",
      "5.275\n"
     ]
    },
    {
     "name": "stderr",
     "output_type": "stream",
     "text": [
      "C:\\Users\\y2657\\AppData\\Local\\Temp\\ipykernel_13732\\915870711.py:30: FutureWarning: Pass y=[0.09741103 0.08721751 0.07215785 ... 0.03103456 0.04957428 0.06665198], sr=16000 as keyword args. From version 0.10 passing these as positional arguments will result in an error\n",
      "  audio_len = librosa.get_duration(np.array(reform_signal), sr)\n"
     ]
    },
    {
     "name": "stdout",
     "output_type": "stream",
     "text": [
      "[1.155, 2.741, 4.654, 6.315]\n",
      "[[1.155, 2.741], [4.654, 6.315]]\n",
      "3.247\n"
     ]
    },
    {
     "name": "stderr",
     "output_type": "stream",
     "text": [
      "C:\\Users\\y2657\\AppData\\Local\\Temp\\ipykernel_13732\\915870711.py:30: FutureWarning: Pass y=[0.02646672 0.02575377 0.02680616 ... 0.03723268 0.0300645  0.02382811], sr=16000 as keyword args. From version 0.10 passing these as positional arguments will result in an error\n",
      "  audio_len = librosa.get_duration(np.array(reform_signal), sr)\n"
     ]
    },
    {
     "name": "stdout",
     "output_type": "stream",
     "text": [
      "[1.083, 10.533]\n",
      "[[1.083, 10.533]]\n",
      "9.45\n"
     ]
    },
    {
     "name": "stderr",
     "output_type": "stream",
     "text": [
      "C:\\Users\\y2657\\AppData\\Local\\Temp\\ipykernel_13732\\915870711.py:30: FutureWarning: Pass y=[-0.00121856  0.00087037 -0.00084586 ... -0.00575623 -0.00491286\n",
      " -0.00396831], sr=16000 as keyword args. From version 0.10 passing these as positional arguments will result in an error\n",
      "  audio_len = librosa.get_duration(np.array(reform_signal), sr)\n"
     ]
    },
    {
     "name": "stdout",
     "output_type": "stream",
     "text": [
      "[2.027, 10.095]\n",
      "[[2.027, 10.095]]\n",
      "8.068\n"
     ]
    },
    {
     "name": "stderr",
     "output_type": "stream",
     "text": [
      "C:\\Users\\y2657\\AppData\\Local\\Temp\\ipykernel_13732\\915870711.py:30: FutureWarning: Pass y=[-0.15759118 -0.04693772  0.09764099 ... -0.05427325 -0.05431039\n",
      " -0.05415757], sr=16000 as keyword args. From version 0.10 passing these as positional arguments will result in an error\n",
      "  audio_len = librosa.get_duration(np.array(reform_signal), sr)\n"
     ]
    },
    {
     "name": "stdout",
     "output_type": "stream",
     "text": [
      "[1.321, 9.744]\n",
      "[[1.321, 9.744]]\n",
      "8.423\n"
     ]
    },
    {
     "name": "stderr",
     "output_type": "stream",
     "text": [
      "C:\\Users\\y2657\\AppData\\Local\\Temp\\ipykernel_13732\\915870711.py:30: FutureWarning: Pass y=[-0.24054049 -0.21756548 -0.15034026 ...  0.06597801 -0.01986779\n",
      "  0.00819078], sr=16000 as keyword args. From version 0.10 passing these as positional arguments will result in an error\n",
      "  audio_len = librosa.get_duration(np.array(reform_signal), sr)\n"
     ]
    },
    {
     "name": "stdout",
     "output_type": "stream",
     "text": [
      "[1.101, 4.486, 6.149, 8.473]\n",
      "[[1.101, 4.486], [6.149, 8.473]]\n",
      "5.709\n"
     ]
    },
    {
     "name": "stderr",
     "output_type": "stream",
     "text": [
      "C:\\Users\\y2657\\AppData\\Local\\Temp\\ipykernel_13732\\915870711.py:30: FutureWarning: Pass y=[ 0.2476002   0.3052548   0.3443999  ... -0.15391296 -0.1583093\n",
      " -0.16974203], sr=16000 as keyword args. From version 0.10 passing these as positional arguments will result in an error\n",
      "  audio_len = librosa.get_duration(np.array(reform_signal), sr)\n"
     ]
    },
    {
     "name": "stdout",
     "output_type": "stream",
     "text": [
      "[2.628, 4.668, 5.696, 7.292]\n",
      "[[2.628, 4.668], [5.696, 7.292]]\n",
      "3.636\n"
     ]
    },
    {
     "name": "stderr",
     "output_type": "stream",
     "text": [
      "C:\\Users\\y2657\\AppData\\Local\\Temp\\ipykernel_13732\\915870711.py:30: FutureWarning: Pass y=[0.03199487 0.04013611 0.04441595 ... 0.06599439 0.06500973 0.06737036], sr=16000 as keyword args. From version 0.10 passing these as positional arguments will result in an error\n",
      "  audio_len = librosa.get_duration(np.array(reform_signal), sr)\n"
     ]
    },
    {
     "name": "stdout",
     "output_type": "stream",
     "text": [
      "[1.312, 2.645, 6.559, 7.74, 8.867, 9.676]\n",
      "[[1.312, 2.645], [6.559, 7.74], [8.867, 9.676]]\n",
      "3.323\n"
     ]
    },
    {
     "name": "stderr",
     "output_type": "stream",
     "text": [
      "C:\\Users\\y2657\\AppData\\Local\\Temp\\ipykernel_13732\\915870711.py:30: FutureWarning: Pass y=[ 0.04440872  0.04712207  0.04502353 ... -0.22083348 -0.21155582\n",
      " -0.19922867], sr=16000 as keyword args. From version 0.10 passing these as positional arguments will result in an error\n",
      "  audio_len = librosa.get_duration(np.array(reform_signal), sr)\n"
     ]
    },
    {
     "name": "stdout",
     "output_type": "stream",
     "text": [
      "[1.383, 7.659]\n",
      "[[1.383, 7.659]]\n",
      "6.276\n"
     ]
    },
    {
     "name": "stderr",
     "output_type": "stream",
     "text": [
      "C:\\Users\\y2657\\AppData\\Local\\Temp\\ipykernel_13732\\915870711.py:30: FutureWarning: Pass y=[-0.0260982  -0.01980446 -0.01289455 ...  0.08922173  0.08064592\n",
      "  0.07829299], sr=16000 as keyword args. From version 0.10 passing these as positional arguments will result in an error\n",
      "  audio_len = librosa.get_duration(np.array(reform_signal), sr)\n"
     ]
    },
    {
     "name": "stdout",
     "output_type": "stream",
     "text": [
      "[8.333, 9.5]\n",
      "[[8.333, 9.5]]\n",
      "1.167\n"
     ]
    },
    {
     "name": "stderr",
     "output_type": "stream",
     "text": [
      "C:\\Users\\y2657\\AppData\\Local\\Temp\\ipykernel_13732\\915870711.py:30: FutureWarning: Pass y=[-0.15509507 -0.12038721 -0.12878112 ...  0.131792    0.08113741\n",
      "  0.03744669], sr=16000 as keyword args. From version 0.10 passing these as positional arguments will result in an error\n",
      "  audio_len = librosa.get_duration(np.array(reform_signal), sr)\n"
     ]
    },
    {
     "name": "stdout",
     "output_type": "stream",
     "text": [
      "[1.364, 1.44, 2.971, 3.381]\n",
      "[[1.364, 1.44], [2.971, 3.381]]\n",
      "0.486\n"
     ]
    },
    {
     "name": "stderr",
     "output_type": "stream",
     "text": [
      "C:\\Users\\y2657\\AppData\\Local\\Temp\\ipykernel_13732\\915870711.py:30: FutureWarning: Pass y=[ 0.00231934  0.00115967 -0.00131226 ...  0.00808716  0.00610352\n",
      "  0.00759888], sr=16000 as keyword args. From version 0.10 passing these as positional arguments will result in an error\n",
      "  audio_len = librosa.get_duration(np.array(reform_signal), sr)\n"
     ]
    },
    {
     "name": "stdout",
     "output_type": "stream",
     "text": [
      "[1.028, 6.006]\n",
      "[[1.028, 6.006]]\n",
      "4.978\n"
     ]
    },
    {
     "name": "stderr",
     "output_type": "stream",
     "text": [
      "C:\\Users\\y2657\\AppData\\Local\\Temp\\ipykernel_13732\\915870711.py:30: FutureWarning: Pass y=[0.02233522 0.02611348 0.04152268 ... 0.04975769 0.04648529 0.04286665], sr=16000 as keyword args. From version 0.10 passing these as positional arguments will result in an error\n",
      "  audio_len = librosa.get_duration(np.array(reform_signal), sr)\n"
     ]
    },
    {
     "name": "stdout",
     "output_type": "stream",
     "text": [
      "[1.393, 8.658]\n",
      "[[1.393, 8.658]]\n",
      "7.265\n"
     ]
    },
    {
     "name": "stderr",
     "output_type": "stream",
     "text": [
      "C:\\Users\\y2657\\AppData\\Local\\Temp\\ipykernel_13732\\915870711.py:30: FutureWarning: Pass y=[ 4.8479554e-03  4.5616319e-03  5.0162752e-03 ... -1.2520548e-05\n",
      "  3.6825542e-04  1.0448685e-03], sr=16000 as keyword args. From version 0.10 passing these as positional arguments will result in an error\n",
      "  audio_len = librosa.get_duration(np.array(reform_signal), sr)\n"
     ]
    },
    {
     "name": "stdout",
     "output_type": "stream",
     "text": [
      "[1.03, 2.6]\n",
      "[[1.03, 2.6]]\n",
      "1.57\n"
     ]
    },
    {
     "name": "stderr",
     "output_type": "stream",
     "text": [
      "C:\\Users\\y2657\\AppData\\Local\\Temp\\ipykernel_13732\\915870711.py:30: FutureWarning: Pass y=[ 0.07387956  0.06785365  0.07619751 ... -0.02260978 -0.02333275\n",
      " -0.02377585], sr=16000 as keyword args. From version 0.10 passing these as positional arguments will result in an error\n",
      "  audio_len = librosa.get_duration(np.array(reform_signal), sr)\n"
     ]
    },
    {
     "name": "stdout",
     "output_type": "stream",
     "text": [
      "[1.033, 5.655, 7.595, 8.481]\n",
      "[[1.033, 5.655], [7.595, 8.481]]\n",
      "5.508\n"
     ]
    },
    {
     "name": "stderr",
     "output_type": "stream",
     "text": [
      "C:\\Users\\y2657\\AppData\\Local\\Temp\\ipykernel_13732\\915870711.py:30: FutureWarning: Pass y=[-0.05000432  0.01669612  0.07324819 ... -0.02370944 -0.01995952\n",
      " -0.01629874], sr=16000 as keyword args. From version 0.10 passing these as positional arguments will result in an error\n",
      "  audio_len = librosa.get_duration(np.array(reform_signal), sr)\n"
     ]
    },
    {
     "name": "stdout",
     "output_type": "stream",
     "text": [
      "[1.722, 9.321]\n",
      "[[1.722, 9.321]]\n",
      "7.599\n"
     ]
    },
    {
     "name": "stderr",
     "output_type": "stream",
     "text": [
      "C:\\Users\\y2657\\AppData\\Local\\Temp\\ipykernel_13732\\915870711.py:30: FutureWarning: Pass y=[-0.1378957  -0.17351855 -0.21058089 ...  0.01556945  0.00911573\n",
      " -0.02145751], sr=16000 as keyword args. From version 0.10 passing these as positional arguments will result in an error\n",
      "  audio_len = librosa.get_duration(np.array(reform_signal), sr)\n"
     ]
    },
    {
     "name": "stdout",
     "output_type": "stream",
     "text": [
      "[1.104, 8.855]\n",
      "[[1.104, 8.855]]\n",
      "7.751\n"
     ]
    },
    {
     "name": "stderr",
     "output_type": "stream",
     "text": [
      "C:\\Users\\y2657\\AppData\\Local\\Temp\\ipykernel_13732\\915870711.py:30: FutureWarning: Pass y=[-0.08506375 -0.07600988 -0.11812369 ...  0.2511279   0.19919628\n",
      "  0.12400103], sr=16000 as keyword args. From version 0.10 passing these as positional arguments will result in an error\n",
      "  audio_len = librosa.get_duration(np.array(reform_signal), sr)\n"
     ]
    },
    {
     "name": "stdout",
     "output_type": "stream",
     "text": [
      "[1.49, 4.569, 5.886, 9.734]\n",
      "[[1.49, 4.569], [5.886, 9.734]]\n",
      "6.927\n"
     ]
    },
    {
     "name": "stderr",
     "output_type": "stream",
     "text": [
      "C:\\Users\\y2657\\AppData\\Local\\Temp\\ipykernel_13732\\915870711.py:30: FutureWarning: Pass y=[ 0.00403658 -0.00200626 -0.01239851 ... -0.01270461 -0.0133987\n",
      " -0.01381563], sr=16000 as keyword args. From version 0.10 passing these as positional arguments will result in an error\n",
      "  audio_len = librosa.get_duration(np.array(reform_signal), sr)\n"
     ]
    },
    {
     "name": "stdout",
     "output_type": "stream",
     "text": [
      "[1.125, 9.63]\n",
      "[[1.125, 9.63]]\n",
      "8.505\n"
     ]
    },
    {
     "name": "stderr",
     "output_type": "stream",
     "text": [
      "C:\\Users\\y2657\\AppData\\Local\\Temp\\ipykernel_13732\\915870711.py:30: FutureWarning: Pass y=[-0.06213649 -0.09099054 -0.0417466  ...  0.01030024  0.06873913\n",
      "  0.14375366], sr=16000 as keyword args. From version 0.10 passing these as positional arguments will result in an error\n",
      "  audio_len = librosa.get_duration(np.array(reform_signal), sr)\n"
     ]
    },
    {
     "name": "stdout",
     "output_type": "stream",
     "text": [
      "[2.348, 10.696]\n",
      "[[2.348, 10.696]]\n",
      "8.348\n"
     ]
    },
    {
     "name": "stderr",
     "output_type": "stream",
     "text": [
      "C:\\Users\\y2657\\AppData\\Local\\Temp\\ipykernel_13732\\915870711.py:30: FutureWarning: Pass y=[-5.1150859e-05 -7.5687061e-04 -1.3903956e-03 ...  3.5274643e-03\n",
      "  1.3244586e-03  2.0401779e-04], sr=16000 as keyword args. From version 0.10 passing these as positional arguments will result in an error\n",
      "  audio_len = librosa.get_duration(np.array(reform_signal), sr)\n"
     ]
    },
    {
     "name": "stdout",
     "output_type": "stream",
     "text": [
      "[1.257, 4.269, 5.598, 11.321]\n",
      "[[1.257, 4.269], [5.598, 11.321]]\n",
      "8.735\n"
     ]
    },
    {
     "name": "stderr",
     "output_type": "stream",
     "text": [
      "C:\\Users\\y2657\\AppData\\Local\\Temp\\ipykernel_13732\\915870711.py:30: FutureWarning: Pass y=[-1.9682468e-04 -8.3270468e-05 -3.4504497e-04 ... -6.8411004e-04\n",
      " -9.3648070e-04 -6.7760702e-04], sr=16000 as keyword args. From version 0.10 passing these as positional arguments will result in an error\n",
      "  audio_len = librosa.get_duration(np.array(reform_signal), sr)\n"
     ]
    },
    {
     "name": "stdout",
     "output_type": "stream",
     "text": [
      "[2.091, 12.421]\n",
      "[[2.091, 12.421]]\n",
      "10.33\n"
     ]
    },
    {
     "name": "stderr",
     "output_type": "stream",
     "text": [
      "C:\\Users\\y2657\\AppData\\Local\\Temp\\ipykernel_13732\\915870711.py:30: FutureWarning: Pass y=[ 0.13436237  0.16856131  0.21889623 ... -0.04736403 -0.10226952\n",
      " -0.09336738], sr=16000 as keyword args. From version 0.10 passing these as positional arguments will result in an error\n",
      "  audio_len = librosa.get_duration(np.array(reform_signal), sr)\n"
     ]
    },
    {
     "name": "stdout",
     "output_type": "stream",
     "text": [
      "[1.766, 4.291]\n",
      "[[1.766, 4.291]]\n",
      "2.525\n"
     ]
    },
    {
     "name": "stderr",
     "output_type": "stream",
     "text": [
      "C:\\Users\\y2657\\AppData\\Local\\Temp\\ipykernel_13732\\915870711.py:30: FutureWarning: Pass y=[ 0.06847158 -0.08734746 -0.11082798 ... -0.13130577 -0.12129521\n",
      " -0.09278113], sr=16000 as keyword args. From version 0.10 passing these as positional arguments will result in an error\n",
      "  audio_len = librosa.get_duration(np.array(reform_signal), sr)\n"
     ]
    },
    {
     "name": "stdout",
     "output_type": "stream",
     "text": [
      "[1.001, 8.51]\n",
      "[[1.001, 8.51]]\n",
      "7.5090625\n"
     ]
    },
    {
     "name": "stderr",
     "output_type": "stream",
     "text": [
      "C:\\Users\\y2657\\AppData\\Local\\Temp\\ipykernel_13732\\915870711.py:30: FutureWarning: Pass y=[ 0.07449236  0.20195505  0.18586397 ... -0.0016812  -0.07770526\n",
      " -0.12761974], sr=16000 as keyword args. From version 0.10 passing these as positional arguments will result in an error\n",
      "  audio_len = librosa.get_duration(np.array(reform_signal), sr)\n"
     ]
    },
    {
     "name": "stdout",
     "output_type": "stream",
     "text": [
      "[5.255, 5.947]\n",
      "[[5.255, 5.947]]\n",
      "0.692\n"
     ]
    },
    {
     "name": "stderr",
     "output_type": "stream",
     "text": [
      "C:\\Users\\y2657\\AppData\\Local\\Temp\\ipykernel_13732\\915870711.py:30: FutureWarning: Pass y=[-0.01468426 -0.07522467 -0.06544932 ...  0.05640792  0.05848864\n",
      "  0.05468199], sr=16000 as keyword args. From version 0.10 passing these as positional arguments will result in an error\n",
      "  audio_len = librosa.get_duration(np.array(reform_signal), sr)\n"
     ]
    },
    {
     "name": "stdout",
     "output_type": "stream",
     "text": [
      "[1.953, 3.801]\n",
      "[[1.953, 3.801]]\n",
      "1.848\n"
     ]
    },
    {
     "name": "stderr",
     "output_type": "stream",
     "text": [
      "C:\\Users\\y2657\\AppData\\Local\\Temp\\ipykernel_13732\\915870711.py:30: FutureWarning: Pass y=[-0.06298421 -0.05935797 -0.05587327 ... -0.02836197 -0.03060967\n",
      " -0.03230106], sr=16000 as keyword args. From version 0.10 passing these as positional arguments will result in an error\n",
      "  audio_len = librosa.get_duration(np.array(reform_signal), sr)\n"
     ]
    },
    {
     "name": "stdout",
     "output_type": "stream",
     "text": [
      "[1.118, 6.927]\n",
      "[[1.118, 6.927]]\n",
      "5.809\n"
     ]
    },
    {
     "name": "stderr",
     "output_type": "stream",
     "text": [
      "C:\\Users\\y2657\\AppData\\Local\\Temp\\ipykernel_13732\\915870711.py:30: FutureWarning: Pass y=[-0.04740692 -0.04862155 -0.04865324 ... -0.04009341 -0.04052559\n",
      " -0.03973218], sr=16000 as keyword args. From version 0.10 passing these as positional arguments will result in an error\n",
      "  audio_len = librosa.get_duration(np.array(reform_signal), sr)\n"
     ]
    },
    {
     "name": "stdout",
     "output_type": "stream",
     "text": [
      "[1.906, 8.367]\n",
      "[[1.906, 8.367]]\n",
      "6.461\n"
     ]
    },
    {
     "name": "stderr",
     "output_type": "stream",
     "text": [
      "C:\\Users\\y2657\\AppData\\Local\\Temp\\ipykernel_13732\\915870711.py:30: FutureWarning: Pass y=[ 0.02735753  0.03904685  0.06578158 ...  0.05857372 -0.02150819\n",
      " -0.08693696], sr=16000 as keyword args. From version 0.10 passing these as positional arguments will result in an error\n",
      "  audio_len = librosa.get_duration(np.array(reform_signal), sr)\n"
     ]
    },
    {
     "name": "stdout",
     "output_type": "stream",
     "text": [
      "[2.163, 12.178]\n",
      "[[2.163, 12.178]]\n",
      "10.015\n"
     ]
    },
    {
     "name": "stderr",
     "output_type": "stream",
     "text": [
      "C:\\Users\\y2657\\AppData\\Local\\Temp\\ipykernel_13732\\915870711.py:30: FutureWarning: Pass y=[-0.16841204 -0.17460969 -0.15054199 ...  0.08366313  0.09375111\n",
      "  0.10071906], sr=16000 as keyword args. From version 0.10 passing these as positional arguments will result in an error\n",
      "  audio_len = librosa.get_duration(np.array(reform_signal), sr)\n"
     ]
    },
    {
     "name": "stdout",
     "output_type": "stream",
     "text": [
      "[2.436, 10.774]\n",
      "[[2.436, 10.774]]\n",
      "8.338\n"
     ]
    },
    {
     "name": "stderr",
     "output_type": "stream",
     "text": [
      "C:\\Users\\y2657\\AppData\\Local\\Temp\\ipykernel_13732\\915870711.py:30: FutureWarning: Pass y=[ 0.17007624  0.34412423  0.46260962 ...  0.05307361  0.00860502\n",
      " -0.03623704], sr=16000 as keyword args. From version 0.10 passing these as positional arguments will result in an error\n",
      "  audio_len = librosa.get_duration(np.array(reform_signal), sr)\n"
     ]
    },
    {
     "name": "stdout",
     "output_type": "stream",
     "text": [
      "[1.02, 9.415]\n",
      "[[1.02, 9.415]]\n",
      "8.395\n"
     ]
    },
    {
     "name": "stderr",
     "output_type": "stream",
     "text": [
      "C:\\Users\\y2657\\AppData\\Local\\Temp\\ipykernel_13732\\915870711.py:30: FutureWarning: Pass y=[ 0.14827387 -0.0125509  -0.13542104 ...  0.07880908  0.0683047\n",
      "  0.01295148], sr=16000 as keyword args. From version 0.10 passing these as positional arguments will result in an error\n",
      "  audio_len = librosa.get_duration(np.array(reform_signal), sr)\n"
     ]
    },
    {
     "name": "stdout",
     "output_type": "stream",
     "text": [
      "[1.798, 7.677]\n",
      "[[1.798, 7.677]]\n",
      "5.879\n"
     ]
    },
    {
     "name": "stderr",
     "output_type": "stream",
     "text": [
      "C:\\Users\\y2657\\AppData\\Local\\Temp\\ipykernel_13732\\915870711.py:30: FutureWarning: Pass y=[-0.19469497 -0.23055962 -0.26197943 ...  0.05607667  0.06817992\n",
      "  0.08503941], sr=16000 as keyword args. From version 0.10 passing these as positional arguments will result in an error\n",
      "  audio_len = librosa.get_duration(np.array(reform_signal), sr)\n"
     ]
    },
    {
     "name": "stdout",
     "output_type": "stream",
     "text": [
      "[1.728, 5.875]\n",
      "[[1.728, 5.875]]\n",
      "4.147\n"
     ]
    },
    {
     "name": "stderr",
     "output_type": "stream",
     "text": [
      "C:\\Users\\y2657\\AppData\\Local\\Temp\\ipykernel_13732\\915870711.py:30: FutureWarning: Pass y=[-0.11543776 -0.13454579 -0.15185645 ...  0.07713663  0.06692918\n",
      "  0.05708968], sr=16000 as keyword args. From version 0.10 passing these as positional arguments will result in an error\n",
      "  audio_len = librosa.get_duration(np.array(reform_signal), sr)\n"
     ]
    },
    {
     "name": "stdout",
     "output_type": "stream",
     "text": [
      "[1.684, 3.422, 4.779, 8.91]\n",
      "[[1.684, 3.422], [4.779, 8.91]]\n",
      "5.869\n"
     ]
    },
    {
     "name": "stderr",
     "output_type": "stream",
     "text": [
      "C:\\Users\\y2657\\AppData\\Local\\Temp\\ipykernel_13732\\915870711.py:30: FutureWarning: Pass y=[-0.09164624 -0.10217123 -0.11068856 ...  0.12444171  0.11811893\n",
      "  0.10130669], sr=16000 as keyword args. From version 0.10 passing these as positional arguments will result in an error\n",
      "  audio_len = librosa.get_duration(np.array(reform_signal), sr)\n"
     ]
    },
    {
     "name": "stdout",
     "output_type": "stream",
     "text": [
      "[5.59, 7.603]\n",
      "[[5.59, 7.603]]\n",
      "2.013\n"
     ]
    },
    {
     "name": "stderr",
     "output_type": "stream",
     "text": [
      "C:\\Users\\y2657\\AppData\\Local\\Temp\\ipykernel_13732\\915870711.py:30: FutureWarning: Pass y=[-0.15687938 -0.13175045 -0.10983462 ...  0.00360097  0.0299322\n",
      "  0.06428617], sr=16000 as keyword args. From version 0.10 passing these as positional arguments will result in an error\n",
      "  audio_len = librosa.get_duration(np.array(reform_signal), sr)\n"
     ]
    },
    {
     "name": "stdout",
     "output_type": "stream",
     "text": [
      "[4.252, 7.118]\n",
      "[[4.252, 7.118]]\n",
      "2.866\n"
     ]
    },
    {
     "name": "stderr",
     "output_type": "stream",
     "text": [
      "C:\\Users\\y2657\\AppData\\Local\\Temp\\ipykernel_13732\\915870711.py:30: FutureWarning: Pass y=[-0.08158043 -0.08531202 -0.08781205 ... -0.13547404 -0.02317627\n",
      "  0.06943184], sr=16000 as keyword args. From version 0.10 passing these as positional arguments will result in an error\n",
      "  audio_len = librosa.get_duration(np.array(reform_signal), sr)\n"
     ]
    },
    {
     "name": "stdout",
     "output_type": "stream",
     "text": [
      "[7.124, 7.508]\n",
      "[[7.124, 7.508]]\n",
      "0.384\n"
     ]
    },
    {
     "name": "stderr",
     "output_type": "stream",
     "text": [
      "C:\\Users\\y2657\\AppData\\Local\\Temp\\ipykernel_13732\\915870711.py:30: FutureWarning: Pass y=[-0.14532018 -0.14807495 -0.14611933 ...  0.07027632  0.07543319\n",
      "  0.06916001], sr=16000 as keyword args. From version 0.10 passing these as positional arguments will result in an error\n",
      "  audio_len = librosa.get_duration(np.array(reform_signal), sr)\n"
     ]
    },
    {
     "name": "stdout",
     "output_type": "stream",
     "text": [
      "[1.496, 4.55, 5.884, 7.544]\n",
      "[[1.496, 4.55], [5.884, 7.544]]\n",
      "4.714\n"
     ]
    },
    {
     "name": "stderr",
     "output_type": "stream",
     "text": [
      "C:\\Users\\y2657\\AppData\\Local\\Temp\\ipykernel_13732\\915870711.py:30: FutureWarning: Pass y=[0.2656306  0.24205242 0.19186158 ... 0.14007437 0.11402008 0.09005631], sr=16000 as keyword args. From version 0.10 passing these as positional arguments will result in an error\n",
      "  audio_len = librosa.get_duration(np.array(reform_signal), sr)\n"
     ]
    },
    {
     "name": "stdout",
     "output_type": "stream",
     "text": [
      "[1.023, 7.083]\n",
      "[[1.023, 7.083]]\n",
      "6.0600625\n"
     ]
    },
    {
     "name": "stderr",
     "output_type": "stream",
     "text": [
      "C:\\Users\\y2657\\AppData\\Local\\Temp\\ipykernel_13732\\915870711.py:30: FutureWarning: Pass y=[-0.07898628 -0.0470137   0.01205928 ...  0.07700082  0.11997241\n",
      "  0.13384329], sr=16000 as keyword args. From version 0.10 passing these as positional arguments will result in an error\n",
      "  audio_len = librosa.get_duration(np.array(reform_signal), sr)\n"
     ]
    },
    {
     "name": "stdout",
     "output_type": "stream",
     "text": [
      "[1.092, 8.87]\n",
      "[[1.092, 8.87]]\n",
      "7.778\n"
     ]
    },
    {
     "name": "stderr",
     "output_type": "stream",
     "text": [
      "C:\\Users\\y2657\\AppData\\Local\\Temp\\ipykernel_13732\\915870711.py:30: FutureWarning: Pass y=[-0.08015405  0.02024592  0.11087598 ... -0.00500864 -0.04395374\n",
      " -0.11869668], sr=16000 as keyword args. From version 0.10 passing these as positional arguments will result in an error\n",
      "  audio_len = librosa.get_duration(np.array(reform_signal), sr)\n"
     ]
    },
    {
     "name": "stdout",
     "output_type": "stream",
     "text": [
      "[2.409, 9.695]\n",
      "[[2.409, 9.695]]\n",
      "7.286\n"
     ]
    },
    {
     "name": "stderr",
     "output_type": "stream",
     "text": [
      "C:\\Users\\y2657\\AppData\\Local\\Temp\\ipykernel_13732\\915870711.py:30: FutureWarning: Pass y=[ 0.02671861  0.030317    0.03374647 ... -0.04718621 -0.05007338\n",
      " -0.05250052], sr=16000 as keyword args. From version 0.10 passing these as positional arguments will result in an error\n",
      "  audio_len = librosa.get_duration(np.array(reform_signal), sr)\n"
     ]
    },
    {
     "name": "stdout",
     "output_type": "stream",
     "text": [
      "[2.224, 3.927]\n",
      "[[2.224, 3.927]]\n",
      "1.703\n"
     ]
    },
    {
     "name": "stderr",
     "output_type": "stream",
     "text": [
      "C:\\Users\\y2657\\AppData\\Local\\Temp\\ipykernel_13732\\915870711.py:30: FutureWarning: Pass y=[0.04437069 0.04339483 0.04198963 ... 0.01603878 0.01290897 0.0097213 ], sr=16000 as keyword args. From version 0.10 passing these as positional arguments will result in an error\n",
      "  audio_len = librosa.get_duration(np.array(reform_signal), sr)\n"
     ]
    },
    {
     "name": "stdout",
     "output_type": "stream",
     "text": [
      "[2.063, 6.701]\n",
      "[[2.063, 6.701]]\n",
      "4.638\n"
     ]
    },
    {
     "name": "stderr",
     "output_type": "stream",
     "text": [
      "C:\\Users\\y2657\\AppData\\Local\\Temp\\ipykernel_13732\\915870711.py:30: FutureWarning: Pass y=[-0.00178364 -0.00178737 -0.00451938 ...  0.02670469  0.02401915\n",
      "  0.02116836], sr=16000 as keyword args. From version 0.10 passing these as positional arguments will result in an error\n",
      "  audio_len = librosa.get_duration(np.array(reform_signal), sr)\n"
     ]
    },
    {
     "name": "stdout",
     "output_type": "stream",
     "text": [
      "[2.41, 6.47]\n",
      "[[2.41, 6.47]]\n",
      "4.06\n"
     ]
    },
    {
     "name": "stderr",
     "output_type": "stream",
     "text": [
      "C:\\Users\\y2657\\AppData\\Local\\Temp\\ipykernel_13732\\915870711.py:30: FutureWarning: Pass y=[ 0.08185935  0.0828163   0.13757282 ... -0.00692142 -0.03906073\n",
      " -0.07434409], sr=16000 as keyword args. From version 0.10 passing these as positional arguments will result in an error\n",
      "  audio_len = librosa.get_duration(np.array(reform_signal), sr)\n"
     ]
    },
    {
     "name": "stdout",
     "output_type": "stream",
     "text": [
      "[2.915, 7.792]\n",
      "[[2.915, 7.792]]\n",
      "4.877\n"
     ]
    },
    {
     "name": "stderr",
     "output_type": "stream",
     "text": [
      "C:\\Users\\y2657\\AppData\\Local\\Temp\\ipykernel_13732\\915870711.py:30: FutureWarning: Pass y=[ 0.0768315   0.06847672  0.03989375 ... -0.00199046 -0.00563502\n",
      " -0.01535492], sr=16000 as keyword args. From version 0.10 passing these as positional arguments will result in an error\n",
      "  audio_len = librosa.get_duration(np.array(reform_signal), sr)\n"
     ]
    },
    {
     "name": "stdout",
     "output_type": "stream",
     "text": [
      "[1.113, 9.836]\n",
      "[[1.113, 9.836]]\n",
      "8.723\n"
     ]
    },
    {
     "name": "stderr",
     "output_type": "stream",
     "text": [
      "C:\\Users\\y2657\\AppData\\Local\\Temp\\ipykernel_13732\\915870711.py:30: FutureWarning: Pass y=[-0.06987777 -0.15341483 -0.18968931 ...  0.09875242  0.11477849\n",
      "  0.11738606], sr=16000 as keyword args. From version 0.10 passing these as positional arguments will result in an error\n",
      "  audio_len = librosa.get_duration(np.array(reform_signal), sr)\n"
     ]
    },
    {
     "name": "stdout",
     "output_type": "stream",
     "text": [
      "[3.018, 6.74]\n",
      "[[3.018, 6.74]]\n",
      "3.722\n"
     ]
    },
    {
     "name": "stderr",
     "output_type": "stream",
     "text": [
      "C:\\Users\\y2657\\AppData\\Local\\Temp\\ipykernel_13732\\915870711.py:30: FutureWarning: Pass y=[ 0.00130443 -0.00119372 -0.00387434 ...  0.01629494  0.0116326\n",
      "  0.00640991], sr=16000 as keyword args. From version 0.10 passing these as positional arguments will result in an error\n",
      "  audio_len = librosa.get_duration(np.array(reform_signal), sr)\n"
     ]
    },
    {
     "name": "stdout",
     "output_type": "stream",
     "text": [
      "[1.521, 10.135]\n",
      "[[1.521, 10.135]]\n",
      "8.614\n"
     ]
    },
    {
     "name": "stderr",
     "output_type": "stream",
     "text": [
      "C:\\Users\\y2657\\AppData\\Local\\Temp\\ipykernel_13732\\915870711.py:30: FutureWarning: Pass y=[-0.04940158 -0.06478686 -0.03784098 ... -0.15939489 -0.15479624\n",
      " -0.14196716], sr=16000 as keyword args. From version 0.10 passing these as positional arguments will result in an error\n",
      "  audio_len = librosa.get_duration(np.array(reform_signal), sr)\n"
     ]
    },
    {
     "name": "stdout",
     "output_type": "stream",
     "text": [
      "[4.817, 9.613]\n",
      "[[4.817, 9.613]]\n",
      "4.796\n"
     ]
    },
    {
     "name": "stderr",
     "output_type": "stream",
     "text": [
      "C:\\Users\\y2657\\AppData\\Local\\Temp\\ipykernel_13732\\915870711.py:30: FutureWarning: Pass y=[ 0.14852206  0.14997706  0.16327111 ... -0.04954349 -0.05220793\n",
      " -0.04611466], sr=16000 as keyword args. From version 0.10 passing these as positional arguments will result in an error\n",
      "  audio_len = librosa.get_duration(np.array(reform_signal), sr)\n"
     ]
    },
    {
     "name": "stdout",
     "output_type": "stream",
     "text": [
      "[1.763, 3.448]\n",
      "[[1.763, 3.448]]\n",
      "1.685\n"
     ]
    },
    {
     "name": "stderr",
     "output_type": "stream",
     "text": [
      "C:\\Users\\y2657\\AppData\\Local\\Temp\\ipykernel_13732\\915870711.py:30: FutureWarning: Pass y=[-0.00857334 -0.0082502  -0.007447   ...  0.01896744  0.0171067\n",
      "  0.01576417], sr=16000 as keyword args. From version 0.10 passing these as positional arguments will result in an error\n",
      "  audio_len = librosa.get_duration(np.array(reform_signal), sr)\n"
     ]
    },
    {
     "name": "stdout",
     "output_type": "stream",
     "text": [
      "[1.075, 9.966]\n",
      "[[1.075, 9.966]]\n",
      "8.891\n"
     ]
    },
    {
     "name": "stderr",
     "output_type": "stream",
     "text": [
      "C:\\Users\\y2657\\AppData\\Local\\Temp\\ipykernel_13732\\915870711.py:30: FutureWarning: Pass y=[-0.08332862 -0.07951078 -0.03367855 ... -0.00614542  0.03523194\n",
      "  0.07621825], sr=16000 as keyword args. From version 0.10 passing these as positional arguments will result in an error\n",
      "  audio_len = librosa.get_duration(np.array(reform_signal), sr)\n"
     ]
    },
    {
     "name": "stdout",
     "output_type": "stream",
     "text": [
      "[2.636, 4.274]\n",
      "[[2.636, 4.274]]\n",
      "1.638\n"
     ]
    },
    {
     "name": "stderr",
     "output_type": "stream",
     "text": [
      "C:\\Users\\y2657\\AppData\\Local\\Temp\\ipykernel_13732\\915870711.py:30: FutureWarning: Pass y=[-0.06201772 -0.06606258 -0.06884369 ...  0.040177    0.04885556\n",
      "  0.05278629], sr=16000 as keyword args. From version 0.10 passing these as positional arguments will result in an error\n",
      "  audio_len = librosa.get_duration(np.array(reform_signal), sr)\n"
     ]
    },
    {
     "name": "stdout",
     "output_type": "stream",
     "text": [
      "[2.269, 3.051, 4.663, 8.785]\n",
      "[[2.269, 3.051], [4.663, 8.785]]\n",
      "4.904\n"
     ]
    },
    {
     "name": "stderr",
     "output_type": "stream",
     "text": [
      "C:\\Users\\y2657\\AppData\\Local\\Temp\\ipykernel_13732\\915870711.py:30: FutureWarning: Pass y=[0.04238487 0.02159497 0.0443747  ... 0.01176423 0.01093492 0.01098355], sr=16000 as keyword args. From version 0.10 passing these as positional arguments will result in an error\n",
      "  audio_len = librosa.get_duration(np.array(reform_signal), sr)\n"
     ]
    },
    {
     "name": "stdout",
     "output_type": "stream",
     "text": [
      "[1.747, 2.038, 3.641, 4.396, 5.725, 9.468]\n",
      "[[1.747, 2.038], [3.641, 4.396], [5.725, 9.468]]\n",
      "4.7889375\n"
     ]
    },
    {
     "name": "stderr",
     "output_type": "stream",
     "text": [
      "C:\\Users\\y2657\\AppData\\Local\\Temp\\ipykernel_13732\\915870711.py:30: FutureWarning: Pass y=[-0.01539844 -0.01510313 -0.01472434 ... -0.01609476 -0.02067626\n",
      " -0.0155978 ], sr=16000 as keyword args. From version 0.10 passing these as positional arguments will result in an error\n",
      "  audio_len = librosa.get_duration(np.array(reform_signal), sr)\n"
     ]
    },
    {
     "name": "stdout",
     "output_type": "stream",
     "text": [
      "[3.332, 6.025, 7.393, 8.083]\n",
      "[[3.332, 6.025], [7.393, 8.083]]\n",
      "3.383\n"
     ]
    },
    {
     "name": "stderr",
     "output_type": "stream",
     "text": [
      "C:\\Users\\y2657\\AppData\\Local\\Temp\\ipykernel_13732\\915870711.py:30: FutureWarning: Pass y=[0.00175923 0.00441636 0.00229832 ... 0.00389615 0.00466544 0.00447013], sr=16000 as keyword args. From version 0.10 passing these as positional arguments will result in an error\n",
      "  audio_len = librosa.get_duration(np.array(reform_signal), sr)\n"
     ]
    },
    {
     "name": "stdout",
     "output_type": "stream",
     "text": [
      "[1.391, 6.478]\n",
      "[[1.391, 6.478]]\n",
      "5.087\n"
     ]
    },
    {
     "name": "stderr",
     "output_type": "stream",
     "text": [
      "C:\\Users\\y2657\\AppData\\Local\\Temp\\ipykernel_13732\\915870711.py:30: FutureWarning: Pass y=[-0.01706227 -0.02338226 -0.02737599 ... -0.02289624 -0.01414482\n",
      " -0.01084069], sr=16000 as keyword args. From version 0.10 passing these as positional arguments will result in an error\n",
      "  audio_len = librosa.get_duration(np.array(reform_signal), sr)\n"
     ]
    },
    {
     "name": "stdout",
     "output_type": "stream",
     "text": [
      "[1.976, 8.076]\n",
      "[[1.976, 8.076]]\n",
      "6.1\n"
     ]
    },
    {
     "name": "stderr",
     "output_type": "stream",
     "text": [
      "C:\\Users\\y2657\\AppData\\Local\\Temp\\ipykernel_13732\\915870711.py:30: FutureWarning: Pass y=[-0.07911263 -0.09659959 -0.0625037  ...  0.10658842  0.10446455\n",
      "  0.09678296], sr=16000 as keyword args. From version 0.10 passing these as positional arguments will result in an error\n",
      "  audio_len = librosa.get_duration(np.array(reform_signal), sr)\n"
     ]
    },
    {
     "name": "stdout",
     "output_type": "stream",
     "text": [
      "[1.116, 9.943]\n",
      "[[1.116, 9.943]]\n",
      "8.827\n"
     ]
    },
    {
     "name": "stderr",
     "output_type": "stream",
     "text": [
      "C:\\Users\\y2657\\AppData\\Local\\Temp\\ipykernel_13732\\915870711.py:30: FutureWarning: Pass y=[ 0.03706449 -0.00173217 -0.00496948 ... -0.02998564 -0.04211262\n",
      " -0.04571536], sr=16000 as keyword args. From version 0.10 passing these as positional arguments will result in an error\n",
      "  audio_len = librosa.get_duration(np.array(reform_signal), sr)\n"
     ]
    },
    {
     "name": "stdout",
     "output_type": "stream",
     "text": [
      "[1.316, 8.322]\n",
      "[[1.316, 8.322]]\n",
      "7.006\n"
     ]
    },
    {
     "name": "stderr",
     "output_type": "stream",
     "text": [
      "C:\\Users\\y2657\\AppData\\Local\\Temp\\ipykernel_13732\\915870711.py:30: FutureWarning: Pass y=[ 0.02856318  0.04994835  0.06777033 ... -0.08811656 -0.13916\n",
      " -0.16642836], sr=16000 as keyword args. From version 0.10 passing these as positional arguments will result in an error\n",
      "  audio_len = librosa.get_duration(np.array(reform_signal), sr)\n"
     ]
    },
    {
     "name": "stdout",
     "output_type": "stream",
     "text": [
      "[5.436, 9.589]\n",
      "[[5.436, 9.589]]\n",
      "4.153\n"
     ]
    },
    {
     "name": "stderr",
     "output_type": "stream",
     "text": [
      "C:\\Users\\y2657\\AppData\\Local\\Temp\\ipykernel_13732\\915870711.py:30: FutureWarning: Pass y=[-0.09250641 -0.1201968  -0.16771723 ... -0.11552996 -0.04296819\n",
      "  0.03178021], sr=16000 as keyword args. From version 0.10 passing these as positional arguments will result in an error\n",
      "  audio_len = librosa.get_duration(np.array(reform_signal), sr)\n"
     ]
    },
    {
     "name": "stdout",
     "output_type": "stream",
     "text": [
      "[2.283, 7.398]\n",
      "[[2.283, 7.398]]\n",
      "5.115\n"
     ]
    },
    {
     "name": "stderr",
     "output_type": "stream",
     "text": [
      "C:\\Users\\y2657\\AppData\\Local\\Temp\\ipykernel_13732\\915870711.py:30: FutureWarning: Pass y=[-0.0144979  -0.00801008 -0.00080992 ...  0.01389023  0.01141883\n",
      "  0.00787676], sr=16000 as keyword args. From version 0.10 passing these as positional arguments will result in an error\n",
      "  audio_len = librosa.get_duration(np.array(reform_signal), sr)\n"
     ]
    },
    {
     "name": "stdout",
     "output_type": "stream",
     "text": [
      "[1.662, 7.404]\n",
      "[[1.662, 7.404]]\n",
      "5.742\n"
     ]
    },
    {
     "name": "stderr",
     "output_type": "stream",
     "text": [
      "C:\\Users\\y2657\\AppData\\Local\\Temp\\ipykernel_13732\\915870711.py:30: FutureWarning: Pass y=[ 0.01669038  0.01540181  0.01850914 ... -0.00593338 -0.00750773\n",
      " -0.00927488], sr=16000 as keyword args. From version 0.10 passing these as positional arguments will result in an error\n",
      "  audio_len = librosa.get_duration(np.array(reform_signal), sr)\n"
     ]
    },
    {
     "name": "stdout",
     "output_type": "stream",
     "text": [
      "[2.496, 6.413]\n",
      "[[2.496, 6.413]]\n",
      "3.917\n"
     ]
    },
    {
     "name": "stderr",
     "output_type": "stream",
     "text": [
      "C:\\Users\\y2657\\AppData\\Local\\Temp\\ipykernel_13732\\915870711.py:30: FutureWarning: Pass y=[-0.02882646 -0.02372764 -0.02261114 ...  0.0071351   0.00403154\n",
      "  0.00093424], sr=16000 as keyword args. From version 0.10 passing these as positional arguments will result in an error\n",
      "  audio_len = librosa.get_duration(np.array(reform_signal), sr)\n"
     ]
    },
    {
     "name": "stdout",
     "output_type": "stream",
     "text": [
      "[1.958, 5.705, 6.936, 8.164]\n",
      "[[1.958, 5.705], [6.936, 8.164]]\n",
      "4.975\n"
     ]
    },
    {
     "name": "stderr",
     "output_type": "stream",
     "text": [
      "C:\\Users\\y2657\\AppData\\Local\\Temp\\ipykernel_13732\\915870711.py:30: FutureWarning: Pass y=[-0.01482343 -0.01098697 -0.00644002 ...  0.01057778  0.01313119\n",
      "  0.00812486], sr=16000 as keyword args. From version 0.10 passing these as positional arguments will result in an error\n",
      "  audio_len = librosa.get_duration(np.array(reform_signal), sr)\n"
     ]
    },
    {
     "name": "stdout",
     "output_type": "stream",
     "text": [
      "[1.908, 5.222, 6.315, 6.693, 7.836, 8.277]\n",
      "[[1.908, 5.222], [6.315, 6.693], [7.836, 8.277]]\n",
      "4.133\n"
     ]
    },
    {
     "name": "stderr",
     "output_type": "stream",
     "text": [
      "C:\\Users\\y2657\\AppData\\Local\\Temp\\ipykernel_13732\\915870711.py:30: FutureWarning: Pass y=[ 0.016527    0.01543764  0.01359204 ... -0.00982301 -0.00469201\n",
      " -0.00145835], sr=16000 as keyword args. From version 0.10 passing these as positional arguments will result in an error\n",
      "  audio_len = librosa.get_duration(np.array(reform_signal), sr)\n"
     ]
    },
    {
     "name": "stdout",
     "output_type": "stream",
     "text": [
      "[5.419, 7.72]\n",
      "[[5.419, 7.72]]\n",
      "2.301\n"
     ]
    },
    {
     "name": "stderr",
     "output_type": "stream",
     "text": [
      "C:\\Users\\y2657\\AppData\\Local\\Temp\\ipykernel_13732\\915870711.py:30: FutureWarning: Pass y=[-0.06577522 -0.00839039  0.05444458 ... -0.02975796 -0.0694983\n",
      " -0.07400612], sr=16000 as keyword args. From version 0.10 passing these as positional arguments will result in an error\n",
      "  audio_len = librosa.get_duration(np.array(reform_signal), sr)\n"
     ]
    },
    {
     "name": "stdout",
     "output_type": "stream",
     "text": [
      "[2.285, 5.728, 6.749, 8.889]\n",
      "[[2.285, 5.728], [6.749, 8.889]]\n",
      "5.583\n"
     ]
    },
    {
     "name": "stderr",
     "output_type": "stream",
     "text": [
      "C:\\Users\\y2657\\AppData\\Local\\Temp\\ipykernel_13732\\915870711.py:30: FutureWarning: Pass y=[-0.00454092  0.00841282  0.01546344 ...  0.13890183  0.13687474\n",
      "  0.11354759], sr=16000 as keyword args. From version 0.10 passing these as positional arguments will result in an error\n",
      "  audio_len = librosa.get_duration(np.array(reform_signal), sr)\n"
     ]
    },
    {
     "name": "stdout",
     "output_type": "stream",
     "text": [
      "[1.377, 1.835, 3.698, 8.107]\n",
      "[[1.377, 1.835], [3.698, 8.107]]\n",
      "4.8669375\n"
     ]
    },
    {
     "name": "stderr",
     "output_type": "stream",
     "text": [
      "C:\\Users\\y2657\\AppData\\Local\\Temp\\ipykernel_13732\\915870711.py:30: FutureWarning: Pass y=[0.10711052 0.09699558 0.09876604 ... 0.00914282 0.04084738 0.03867633], sr=16000 as keyword args. From version 0.10 passing these as positional arguments will result in an error\n",
      "  audio_len = librosa.get_duration(np.array(reform_signal), sr)\n"
     ]
    },
    {
     "name": "stdout",
     "output_type": "stream",
     "text": [
      "[1.979, 7.086]\n",
      "[[1.979, 7.086]]\n",
      "5.107\n"
     ]
    },
    {
     "name": "stderr",
     "output_type": "stream",
     "text": [
      "C:\\Users\\y2657\\AppData\\Local\\Temp\\ipykernel_13732\\915870711.py:30: FutureWarning: Pass y=[-0.00117    -0.00306849 -0.01654921 ...  0.06637149  0.06110068\n",
      "  0.06022105], sr=16000 as keyword args. From version 0.10 passing these as positional arguments will result in an error\n",
      "  audio_len = librosa.get_duration(np.array(reform_signal), sr)\n"
     ]
    },
    {
     "name": "stdout",
     "output_type": "stream",
     "text": [
      "[1.568, 7.663]\n",
      "[[1.568, 7.663]]\n",
      "6.095\n"
     ]
    },
    {
     "name": "stderr",
     "output_type": "stream",
     "text": [
      "C:\\Users\\y2657\\AppData\\Local\\Temp\\ipykernel_13732\\915870711.py:30: FutureWarning: Pass y=[-0.06055652 -0.10101929 -0.11065753 ...  0.04173307  0.03989354\n",
      "  0.03139622], sr=16000 as keyword args. From version 0.10 passing these as positional arguments will result in an error\n",
      "  audio_len = librosa.get_duration(np.array(reform_signal), sr)\n"
     ]
    },
    {
     "name": "stdout",
     "output_type": "stream",
     "text": [
      "[1.647, 7.352]\n",
      "[[1.647, 7.352]]\n",
      "5.705\n"
     ]
    },
    {
     "name": "stderr",
     "output_type": "stream",
     "text": [
      "C:\\Users\\y2657\\AppData\\Local\\Temp\\ipykernel_13732\\915870711.py:30: FutureWarning: Pass y=[0.07584963 0.09649243 0.10442496 ... 0.21545304 0.19884968 0.23417224], sr=16000 as keyword args. From version 0.10 passing these as positional arguments will result in an error\n",
      "  audio_len = librosa.get_duration(np.array(reform_signal), sr)\n"
     ]
    },
    {
     "name": "stdout",
     "output_type": "stream",
     "text": [
      "[1.652, 4.205, 5.344, 7.504]\n",
      "[[1.652, 4.205], [5.344, 7.504]]\n",
      "4.713\n"
     ]
    },
    {
     "name": "stderr",
     "output_type": "stream",
     "text": [
      "C:\\Users\\y2657\\AppData\\Local\\Temp\\ipykernel_13732\\915870711.py:30: FutureWarning: Pass y=[0.12413459 0.14506376 0.16308255 ... 0.08386719 0.12320364 0.1330428 ], sr=16000 as keyword args. From version 0.10 passing these as positional arguments will result in an error\n",
      "  audio_len = librosa.get_duration(np.array(reform_signal), sr)\n"
     ]
    },
    {
     "name": "stdout",
     "output_type": "stream",
     "text": [
      "[1.064, 9.622]\n",
      "[[1.064, 9.622]]\n",
      "8.558\n"
     ]
    },
    {
     "name": "stderr",
     "output_type": "stream",
     "text": [
      "C:\\Users\\y2657\\AppData\\Local\\Temp\\ipykernel_13732\\915870711.py:30: FutureWarning: Pass y=[-0.05089881 -0.0490461  -0.04724246 ... -0.03982467 -0.03963004\n",
      " -0.03213969], sr=16000 as keyword args. From version 0.10 passing these as positional arguments will result in an error\n",
      "  audio_len = librosa.get_duration(np.array(reform_signal), sr)\n"
     ]
    },
    {
     "name": "stdout",
     "output_type": "stream",
     "text": [
      "[5.112, 8.125, 9.488, 10.506]\n",
      "[[5.112, 8.125], [9.488, 10.506]]\n",
      "4.031\n"
     ]
    },
    {
     "name": "stderr",
     "output_type": "stream",
     "text": [
      "C:\\Users\\y2657\\AppData\\Local\\Temp\\ipykernel_13732\\915870711.py:30: FutureWarning: Pass y=[-0.04957961 -0.05138015 -0.05216475 ... -0.07801507 -0.07546263\n",
      " -0.06600904], sr=16000 as keyword args. From version 0.10 passing these as positional arguments will result in an error\n",
      "  audio_len = librosa.get_duration(np.array(reform_signal), sr)\n"
     ]
    },
    {
     "name": "stdout",
     "output_type": "stream",
     "text": [
      "[4.574, 7.185]\n",
      "[[4.574, 7.185]]\n",
      "2.611\n"
     ]
    },
    {
     "name": "stderr",
     "output_type": "stream",
     "text": [
      "C:\\Users\\y2657\\AppData\\Local\\Temp\\ipykernel_13732\\915870711.py:30: FutureWarning: Pass y=[-0.00099296 -0.001306   -0.00105908 ...  0.00261633  0.00357816\n",
      "  0.00353817], sr=16000 as keyword args. From version 0.10 passing these as positional arguments will result in an error\n",
      "  audio_len = librosa.get_duration(np.array(reform_signal), sr)\n"
     ]
    },
    {
     "name": "stdout",
     "output_type": "stream",
     "text": [
      "[2.483, 9.104]\n",
      "[[2.483, 9.104]]\n",
      "6.621\n"
     ]
    },
    {
     "name": "stderr",
     "output_type": "stream",
     "text": [
      "C:\\Users\\y2657\\AppData\\Local\\Temp\\ipykernel_13732\\915870711.py:30: FutureWarning: Pass y=[-0.02085122 -0.02791231 -0.03534839 ...  0.0283766   0.02697239\n",
      "  0.02511743], sr=16000 as keyword args. From version 0.10 passing these as positional arguments will result in an error\n",
      "  audio_len = librosa.get_duration(np.array(reform_signal), sr)\n"
     ]
    },
    {
     "name": "stdout",
     "output_type": "stream",
     "text": [
      "[4.461, 5.254, 7.509, 8.873]\n",
      "[[4.461, 5.254], [7.509, 8.873]]\n",
      "2.157\n"
     ]
    },
    {
     "name": "stderr",
     "output_type": "stream",
     "text": [
      "C:\\Users\\y2657\\AppData\\Local\\Temp\\ipykernel_13732\\915870711.py:30: FutureWarning: Pass y=[0.01565161 0.01661946 0.01754937 ... 0.02155166 0.0247317  0.02692179], sr=16000 as keyword args. From version 0.10 passing these as positional arguments will result in an error\n",
      "  audio_len = librosa.get_duration(np.array(reform_signal), sr)\n"
     ]
    },
    {
     "name": "stdout",
     "output_type": "stream",
     "text": [
      "[3.243, 4.337]\n",
      "[[3.243, 4.337]]\n",
      "1.094\n"
     ]
    },
    {
     "name": "stderr",
     "output_type": "stream",
     "text": [
      "C:\\Users\\y2657\\AppData\\Local\\Temp\\ipykernel_13732\\915870711.py:30: FutureWarning: Pass y=[ 0.06257559  0.06584206  0.06648169 ... -0.04129262 -0.03347769\n",
      " -0.02553864], sr=16000 as keyword args. From version 0.10 passing these as positional arguments will result in an error\n",
      "  audio_len = librosa.get_duration(np.array(reform_signal), sr)\n"
     ]
    },
    {
     "name": "stdout",
     "output_type": "stream",
     "text": [
      "[1.808, 4.372, 6.796, 7.774]\n",
      "[[1.808, 4.372], [6.796, 7.774]]\n",
      "3.542\n"
     ]
    },
    {
     "name": "stderr",
     "output_type": "stream",
     "text": [
      "C:\\Users\\y2657\\AppData\\Local\\Temp\\ipykernel_13732\\915870711.py:30: FutureWarning: Pass y=[-0.0244488  -0.03767576 -0.05196382 ... -0.06619404 -0.04962158\n",
      " -0.04188108], sr=16000 as keyword args. From version 0.10 passing these as positional arguments will result in an error\n",
      "  audio_len = librosa.get_duration(np.array(reform_signal), sr)\n"
     ]
    },
    {
     "name": "stdout",
     "output_type": "stream",
     "text": [
      "[2.679, 6.709]\n",
      "[[2.679, 6.709]]\n",
      "4.03\n"
     ]
    },
    {
     "name": "stderr",
     "output_type": "stream",
     "text": [
      "C:\\Users\\y2657\\AppData\\Local\\Temp\\ipykernel_13732\\915870711.py:30: FutureWarning: Pass y=[0.05228456 0.05873537 0.0693773  ... 0.02070178 0.01984007 0.02520679], sr=16000 as keyword args. From version 0.10 passing these as positional arguments will result in an error\n",
      "  audio_len = librosa.get_duration(np.array(reform_signal), sr)\n"
     ]
    },
    {
     "name": "stdout",
     "output_type": "stream",
     "text": [
      "[1.888, 6.352]\n",
      "[[1.888, 6.352]]\n",
      "4.464\n"
     ]
    },
    {
     "name": "stderr",
     "output_type": "stream",
     "text": [
      "C:\\Users\\y2657\\AppData\\Local\\Temp\\ipykernel_13732\\915870711.py:30: FutureWarning: Pass y=[ 0.01335194  0.02048788 -0.00047949 ...  0.03451616  0.02553951\n",
      "  0.02139173], sr=16000 as keyword args. From version 0.10 passing these as positional arguments will result in an error\n",
      "  audio_len = librosa.get_duration(np.array(reform_signal), sr)\n"
     ]
    },
    {
     "name": "stdout",
     "output_type": "stream",
     "text": [
      "[1.705, 5.14]\n",
      "[[1.705, 5.14]]\n",
      "3.435\n"
     ]
    },
    {
     "name": "stderr",
     "output_type": "stream",
     "text": [
      "C:\\Users\\y2657\\AppData\\Local\\Temp\\ipykernel_13732\\915870711.py:30: FutureWarning: Pass y=[0.09229749 0.11211333 0.1118619  ... 0.03772439 0.02687758 0.02395495], sr=16000 as keyword args. From version 0.10 passing these as positional arguments will result in an error\n",
      "  audio_len = librosa.get_duration(np.array(reform_signal), sr)\n"
     ]
    },
    {
     "name": "stdout",
     "output_type": "stream",
     "text": [
      "[3.269, 8.092]\n",
      "[[3.269, 8.092]]\n",
      "4.823\n"
     ]
    },
    {
     "name": "stderr",
     "output_type": "stream",
     "text": [
      "C:\\Users\\y2657\\AppData\\Local\\Temp\\ipykernel_13732\\915870711.py:30: FutureWarning: Pass y=[ 0.05786343  0.06881672  0.07858466 ... -0.05007787 -0.03198869\n",
      " -0.0193178 ], sr=16000 as keyword args. From version 0.10 passing these as positional arguments will result in an error\n",
      "  audio_len = librosa.get_duration(np.array(reform_signal), sr)\n"
     ]
    },
    {
     "name": "stdout",
     "output_type": "stream",
     "text": [
      "[3.191, 7.947]\n",
      "[[3.191, 7.947]]\n",
      "4.756\n"
     ]
    },
    {
     "name": "stderr",
     "output_type": "stream",
     "text": [
      "C:\\Users\\y2657\\AppData\\Local\\Temp\\ipykernel_13732\\915870711.py:30: FutureWarning: Pass y=[-0.02890885 -0.00421439  0.01801598 ... -0.03207977  0.03456922\n",
      " -0.02517943], sr=16000 as keyword args. From version 0.10 passing these as positional arguments will result in an error\n",
      "  audio_len = librosa.get_duration(np.array(reform_signal), sr)\n"
     ]
    },
    {
     "name": "stdout",
     "output_type": "stream",
     "text": [
      "[2.053, 6.883, 7.927, 8.881]\n",
      "[[2.053, 6.883], [7.927, 8.881]]\n",
      "5.784\n"
     ]
    },
    {
     "name": "stderr",
     "output_type": "stream",
     "text": [
      "C:\\Users\\y2657\\AppData\\Local\\Temp\\ipykernel_13732\\915870711.py:30: FutureWarning: Pass y=[0.0523669  0.05220329 0.06054647 ... 0.04976616 0.0281623  0.0075402 ], sr=16000 as keyword args. From version 0.10 passing these as positional arguments will result in an error\n",
      "  audio_len = librosa.get_duration(np.array(reform_signal), sr)\n"
     ]
    },
    {
     "name": "stdout",
     "output_type": "stream",
     "text": [
      "[3.152, 6.64]\n",
      "[[3.152, 6.64]]\n",
      "3.488\n"
     ]
    },
    {
     "name": "stderr",
     "output_type": "stream",
     "text": [
      "C:\\Users\\y2657\\AppData\\Local\\Temp\\ipykernel_13732\\915870711.py:30: FutureWarning: Pass y=[ 0.06864901  0.07952628  0.07651234 ... -0.02390746 -0.02860977\n",
      " -0.02101388], sr=16000 as keyword args. From version 0.10 passing these as positional arguments will result in an error\n",
      "  audio_len = librosa.get_duration(np.array(reform_signal), sr)\n"
     ]
    },
    {
     "name": "stdout",
     "output_type": "stream",
     "text": [
      "[2.318, 6.75]\n",
      "[[2.318, 6.75]]\n",
      "4.432\n"
     ]
    },
    {
     "name": "stderr",
     "output_type": "stream",
     "text": [
      "C:\\Users\\y2657\\AppData\\Local\\Temp\\ipykernel_13732\\915870711.py:30: FutureWarning: Pass y=[-0.01682206 -0.01108152 -0.00705351 ... -0.01745759 -0.01871379\n",
      " -0.01700472], sr=16000 as keyword args. From version 0.10 passing these as positional arguments will result in an error\n",
      "  audio_len = librosa.get_duration(np.array(reform_signal), sr)\n"
     ]
    },
    {
     "name": "stdout",
     "output_type": "stream",
     "text": [
      "[1.77, 7.573]\n",
      "[[1.77, 7.573]]\n",
      "5.803\n"
     ]
    },
    {
     "name": "stderr",
     "output_type": "stream",
     "text": [
      "C:\\Users\\y2657\\AppData\\Local\\Temp\\ipykernel_13732\\915870711.py:30: FutureWarning: Pass y=[-0.31399962 -0.3483244  -0.3027632  ...  0.09161472  0.11595362\n",
      "  0.03127245], sr=16000 as keyword args. From version 0.10 passing these as positional arguments will result in an error\n",
      "  audio_len = librosa.get_duration(np.array(reform_signal), sr)\n"
     ]
    },
    {
     "name": "stdout",
     "output_type": "stream",
     "text": [
      "[1.745, 5.129]\n",
      "[[1.745, 5.129]]\n",
      "3.384\n"
     ]
    },
    {
     "name": "stderr",
     "output_type": "stream",
     "text": [
      "C:\\Users\\y2657\\AppData\\Local\\Temp\\ipykernel_13732\\915870711.py:30: FutureWarning: Pass y=[-0.00534215 -0.00628792 -0.0056227  ... -0.00170561 -0.00310599\n",
      " -0.00456337], sr=16000 as keyword args. From version 0.10 passing these as positional arguments will result in an error\n",
      "  audio_len = librosa.get_duration(np.array(reform_signal), sr)\n"
     ]
    },
    {
     "name": "stdout",
     "output_type": "stream",
     "text": [
      "[3.374, 4.77, 7.144, 11.62]\n",
      "[[3.374, 4.77], [7.144, 11.62]]\n",
      "5.872\n"
     ]
    },
    {
     "name": "stderr",
     "output_type": "stream",
     "text": [
      "C:\\Users\\y2657\\AppData\\Local\\Temp\\ipykernel_13732\\915870711.py:30: FutureWarning: Pass y=[-0.01458624  0.00142044  0.02517474 ... -0.06550446 -0.0553302\n",
      " -0.0433059 ], sr=16000 as keyword args. From version 0.10 passing these as positional arguments will result in an error\n",
      "  audio_len = librosa.get_duration(np.array(reform_signal), sr)\n"
     ]
    },
    {
     "name": "stdout",
     "output_type": "stream",
     "text": [
      "[3.899, 5.256]\n",
      "[[3.899, 5.256]]\n",
      "1.357\n"
     ]
    },
    {
     "name": "stderr",
     "output_type": "stream",
     "text": [
      "C:\\Users\\y2657\\AppData\\Local\\Temp\\ipykernel_13732\\915870711.py:30: FutureWarning: Pass y=[0.03858864 0.04064548 0.04246072 ... 0.05357483 0.05110023 0.04772568], sr=16000 as keyword args. From version 0.10 passing these as positional arguments will result in an error\n",
      "  audio_len = librosa.get_duration(np.array(reform_signal), sr)\n"
     ]
    },
    {
     "name": "stdout",
     "output_type": "stream",
     "text": [
      "[2.19, 6.15]\n",
      "[[2.19, 6.15]]\n",
      "3.96\n"
     ]
    },
    {
     "name": "stderr",
     "output_type": "stream",
     "text": [
      "C:\\Users\\y2657\\AppData\\Local\\Temp\\ipykernel_13732\\915870711.py:30: FutureWarning: Pass y=[ 0.01524208  0.00828443  0.00138368 ... -0.03158853 -0.03416181\n",
      " -0.03648566], sr=16000 as keyword args. From version 0.10 passing these as positional arguments will result in an error\n",
      "  audio_len = librosa.get_duration(np.array(reform_signal), sr)\n"
     ]
    },
    {
     "name": "stdout",
     "output_type": "stream",
     "text": [
      "[5.383, 7.19]\n",
      "[[5.383, 7.19]]\n",
      "1.807\n"
     ]
    },
    {
     "name": "stderr",
     "output_type": "stream",
     "text": [
      "C:\\Users\\y2657\\AppData\\Local\\Temp\\ipykernel_13732\\915870711.py:30: FutureWarning: Pass y=[ 0.08002394  0.08411515  0.08608263 ... -0.023833   -0.00750463\n",
      "  0.00644214], sr=16000 as keyword args. From version 0.10 passing these as positional arguments will result in an error\n",
      "  audio_len = librosa.get_duration(np.array(reform_signal), sr)\n"
     ]
    },
    {
     "name": "stdout",
     "output_type": "stream",
     "text": [
      "[1.299, 5.695, 6.913, 10.316, 11.662, 12.441]\n",
      "[[1.299, 5.695], [6.913, 10.316], [11.662, 12.441]]\n",
      "8.578\n"
     ]
    },
    {
     "name": "stderr",
     "output_type": "stream",
     "text": [
      "C:\\Users\\y2657\\AppData\\Local\\Temp\\ipykernel_13732\\915870711.py:30: FutureWarning: Pass y=[-0.0047936  -0.0104654  -0.0128363  ... -0.01675784 -0.01632482\n",
      " -0.01736317], sr=16000 as keyword args. From version 0.10 passing these as positional arguments will result in an error\n",
      "  audio_len = librosa.get_duration(np.array(reform_signal), sr)\n"
     ]
    },
    {
     "name": "stdout",
     "output_type": "stream",
     "text": [
      "[1.299, 2.369, 3.645, 6.854, 10.042, 13.24]\n",
      "[[1.299, 2.369], [3.645, 6.854], [10.042, 13.24]]\n",
      "7.477\n"
     ]
    },
    {
     "name": "stderr",
     "output_type": "stream",
     "text": [
      "C:\\Users\\y2657\\AppData\\Local\\Temp\\ipykernel_13732\\915870711.py:30: FutureWarning: Pass y=[ 0.01768396  0.02046246  0.02223236 ... -0.00182587 -0.00390342\n",
      " -0.0060662 ], sr=16000 as keyword args. From version 0.10 passing these as positional arguments will result in an error\n",
      "  audio_len = librosa.get_duration(np.array(reform_signal), sr)\n"
     ]
    },
    {
     "name": "stdout",
     "output_type": "stream",
     "text": [
      "[1.668, 1.7, 2.932, 9.12]\n",
      "[[1.668, 1.7], [2.932, 9.12]]\n",
      "6.22\n"
     ]
    },
    {
     "name": "stderr",
     "output_type": "stream",
     "text": [
      "C:\\Users\\y2657\\AppData\\Local\\Temp\\ipykernel_13732\\915870711.py:30: FutureWarning: Pass y=[-3.339994e-02 -4.001851e-02 -5.132390e-02 ...  1.026194e-02  4.523911e-03\n",
      "  7.000452e-05], sr=16000 as keyword args. From version 0.10 passing these as positional arguments will result in an error\n",
      "  audio_len = librosa.get_duration(np.array(reform_signal), sr)\n"
     ]
    },
    {
     "name": "stdout",
     "output_type": "stream",
     "text": [
      "[1.747, 4.846]\n",
      "[[1.747, 4.846]]\n",
      "3.099\n"
     ]
    },
    {
     "name": "stderr",
     "output_type": "stream",
     "text": [
      "C:\\Users\\y2657\\AppData\\Local\\Temp\\ipykernel_13732\\915870711.py:30: FutureWarning: Pass y=[-0.04967976 -0.05353423 -0.05422299 ...  0.02507357  0.02455299\n",
      "  0.02412546], sr=16000 as keyword args. From version 0.10 passing these as positional arguments will result in an error\n",
      "  audio_len = librosa.get_duration(np.array(reform_signal), sr)\n"
     ]
    },
    {
     "name": "stdout",
     "output_type": "stream",
     "text": [
      "[1.151, 2.883, 4.11, 5.467, 6.61, 7.238]\n",
      "[[1.151, 2.883], [4.11, 5.467], [6.61, 7.238]]\n",
      "3.717\n"
     ]
    },
    {
     "name": "stderr",
     "output_type": "stream",
     "text": [
      "C:\\Users\\y2657\\AppData\\Local\\Temp\\ipykernel_13732\\915870711.py:30: FutureWarning: Pass y=[-0.03654022 -0.04033142 -0.04401324 ... -0.01630589 -0.01579953\n",
      " -0.01582895], sr=16000 as keyword args. From version 0.10 passing these as positional arguments will result in an error\n",
      "  audio_len = librosa.get_duration(np.array(reform_signal), sr)\n"
     ]
    },
    {
     "name": "stdout",
     "output_type": "stream",
     "text": [
      "[1.985, 1.988, 3.989, 5.056]\n",
      "[[1.985, 1.988], [3.989, 5.056]]\n",
      "1.07\n"
     ]
    },
    {
     "name": "stderr",
     "output_type": "stream",
     "text": [
      "C:\\Users\\y2657\\AppData\\Local\\Temp\\ipykernel_13732\\915870711.py:30: FutureWarning: Pass y=[-0.12144838  0.0338593   0.0548849  ... -0.03082502 -0.03012993\n",
      " -0.02939153], sr=16000 as keyword args. From version 0.10 passing these as positional arguments will result in an error\n",
      "  audio_len = librosa.get_duration(np.array(reform_signal), sr)\n"
     ]
    },
    {
     "name": "stdout",
     "output_type": "stream",
     "text": [
      "[1.407, 8.138]\n",
      "[[1.407, 8.138]]\n",
      "6.731\n"
     ]
    },
    {
     "name": "stderr",
     "output_type": "stream",
     "text": [
      "C:\\Users\\y2657\\AppData\\Local\\Temp\\ipykernel_13732\\915870711.py:30: FutureWarning: Pass y=[ 0.0042039   0.00960922  0.01495995 ... -0.02151714 -0.02008887\n",
      " -0.01905763], sr=16000 as keyword args. From version 0.10 passing these as positional arguments will result in an error\n",
      "  audio_len = librosa.get_duration(np.array(reform_signal), sr)\n"
     ]
    },
    {
     "name": "stdout",
     "output_type": "stream",
     "text": [
      "[7.278, 7.467]\n",
      "[[7.278, 7.467]]\n",
      "0.189\n"
     ]
    },
    {
     "name": "stderr",
     "output_type": "stream",
     "text": [
      "C:\\Users\\y2657\\AppData\\Local\\Temp\\ipykernel_13732\\915870711.py:30: FutureWarning: Pass y=[ 0.05918385  0.04283665  0.0270183  ...  0.00367845 -0.03116207\n",
      " -0.02597396], sr=16000 as keyword args. From version 0.10 passing these as positional arguments will result in an error\n",
      "  audio_len = librosa.get_duration(np.array(reform_signal), sr)\n"
     ]
    },
    {
     "name": "stdout",
     "output_type": "stream",
     "text": [
      "[7.728, 9.108]\n",
      "[[7.728, 9.108]]\n",
      "1.38\n"
     ]
    },
    {
     "name": "stderr",
     "output_type": "stream",
     "text": [
      "C:\\Users\\y2657\\AppData\\Local\\Temp\\ipykernel_13732\\915870711.py:30: FutureWarning: Pass y=[0.1368964  0.13528341 0.13425332 ... 0.18749917 0.19284327 0.18795036], sr=16000 as keyword args. From version 0.10 passing these as positional arguments will result in an error\n",
      "  audio_len = librosa.get_duration(np.array(reform_signal), sr)\n"
     ]
    },
    {
     "name": "stdout",
     "output_type": "stream",
     "text": [
      "[1.265, 10.567]\n",
      "[[1.265, 10.567]]\n",
      "9.302\n"
     ]
    },
    {
     "name": "stderr",
     "output_type": "stream",
     "text": [
      "C:\\Users\\y2657\\AppData\\Local\\Temp\\ipykernel_13732\\915870711.py:30: FutureWarning: Pass y=[-0.04074309 -0.01338542  0.0343342  ...  0.04139861  0.03332414\n",
      "  0.02513462], sr=16000 as keyword args. From version 0.10 passing these as positional arguments will result in an error\n",
      "  audio_len = librosa.get_duration(np.array(reform_signal), sr)\n"
     ]
    },
    {
     "name": "stdout",
     "output_type": "stream",
     "text": [
      "[4.346, 4.36, 5.943, 7.13]\n",
      "[[4.346, 4.36], [5.943, 7.13]]\n",
      "1.201\n"
     ]
    },
    {
     "name": "stderr",
     "output_type": "stream",
     "text": [
      "C:\\Users\\y2657\\AppData\\Local\\Temp\\ipykernel_13732\\915870711.py:30: FutureWarning: Pass y=[0.01230551 0.04720213 0.02312089 ... 0.00492947 0.00400622 0.00384907], sr=16000 as keyword args. From version 0.10 passing these as positional arguments will result in an error\n",
      "  audio_len = librosa.get_duration(np.array(reform_signal), sr)\n"
     ]
    },
    {
     "name": "stdout",
     "output_type": "stream",
     "text": [
      "[1.741, 2.209, 3.802, 5.907, 7.315, 9.455]\n",
      "[[1.741, 2.209], [3.802, 5.907], [7.315, 9.455]]\n",
      "4.713\n"
     ]
    },
    {
     "name": "stderr",
     "output_type": "stream",
     "text": [
      "C:\\Users\\y2657\\AppData\\Local\\Temp\\ipykernel_13732\\915870711.py:30: FutureWarning: Pass y=[0.02564482 0.02991472 0.02965986 ... 0.03466785 0.03778134 0.03701771], sr=16000 as keyword args. From version 0.10 passing these as positional arguments will result in an error\n",
      "  audio_len = librosa.get_duration(np.array(reform_signal), sr)\n"
     ]
    },
    {
     "name": "stdout",
     "output_type": "stream",
     "text": [
      "[1.32, 4.649, 6.628, 8.251]\n",
      "[[1.32, 4.649], [6.628, 8.251]]\n",
      "4.952\n"
     ]
    },
    {
     "name": "stderr",
     "output_type": "stream",
     "text": [
      "C:\\Users\\y2657\\AppData\\Local\\Temp\\ipykernel_13732\\915870711.py:30: FutureWarning: Pass y=[ 0.03403208  0.00579647 -0.01843833 ...  0.01717028  0.01626168\n",
      "  0.01560343], sr=16000 as keyword args. From version 0.10 passing these as positional arguments will result in an error\n",
      "  audio_len = librosa.get_duration(np.array(reform_signal), sr)\n"
     ]
    },
    {
     "name": "stdout",
     "output_type": "stream",
     "text": [
      "[2.588, 5.892]\n",
      "[[2.588, 5.892]]\n",
      "3.304\n"
     ]
    },
    {
     "name": "stderr",
     "output_type": "stream",
     "text": [
      "C:\\Users\\y2657\\AppData\\Local\\Temp\\ipykernel_13732\\915870711.py:30: FutureWarning: Pass y=[-0.01252857 -0.02028172 -0.02806449 ... -0.00730878 -0.01512085\n",
      " -0.02013998], sr=16000 as keyword args. From version 0.10 passing these as positional arguments will result in an error\n",
      "  audio_len = librosa.get_duration(np.array(reform_signal), sr)\n"
     ]
    },
    {
     "name": "stdout",
     "output_type": "stream",
     "text": [
      "[1.528, 2.292, 3.706, 4.637, 6.263, 7.334, 8.71, 10.059]\n",
      "[[1.528, 2.292], [3.706, 4.637], [6.263, 7.334], [8.71, 10.059]]\n",
      "4.115\n"
     ]
    },
    {
     "name": "stderr",
     "output_type": "stream",
     "text": [
      "C:\\Users\\y2657\\AppData\\Local\\Temp\\ipykernel_13732\\915870711.py:30: FutureWarning: Pass y=[0.01997805 0.01983632 0.01842798 ... 0.01043495 0.00999948 0.00923645], sr=16000 as keyword args. From version 0.10 passing these as positional arguments will result in an error\n",
      "  audio_len = librosa.get_duration(np.array(reform_signal), sr)\n"
     ]
    },
    {
     "name": "stdout",
     "output_type": "stream",
     "text": [
      "[2.139, 3.269]\n",
      "[[2.139, 3.269]]\n",
      "1.13\n"
     ]
    },
    {
     "name": "stderr",
     "output_type": "stream",
     "text": [
      "C:\\Users\\y2657\\AppData\\Local\\Temp\\ipykernel_13732\\915870711.py:30: FutureWarning: Pass y=[-0.08571664 -0.08810928 -0.0872786  ...  0.01760849  0.01544257\n",
      "  0.01293073], sr=16000 as keyword args. From version 0.10 passing these as positional arguments will result in an error\n",
      "  audio_len = librosa.get_duration(np.array(reform_signal), sr)\n"
     ]
    },
    {
     "name": "stdout",
     "output_type": "stream",
     "text": [
      "[1.13, 7.144]\n",
      "[[1.13, 7.144]]\n",
      "6.014\n"
     ]
    },
    {
     "name": "stderr",
     "output_type": "stream",
     "text": [
      "C:\\Users\\y2657\\AppData\\Local\\Temp\\ipykernel_13732\\915870711.py:30: FutureWarning: Pass y=[ 0.00705944  0.00510259  0.00765828 ... -0.02022209  0.00575213\n",
      "  0.02027101], sr=16000 as keyword args. From version 0.10 passing these as positional arguments will result in an error\n",
      "  audio_len = librosa.get_duration(np.array(reform_signal), sr)\n"
     ]
    },
    {
     "name": "stdout",
     "output_type": "stream",
     "text": [
      "[3.901, 4.757, 6.314, 7.922]\n",
      "[[3.901, 4.757], [6.314, 7.922]]\n",
      "2.464\n"
     ]
    },
    {
     "name": "stderr",
     "output_type": "stream",
     "text": [
      "C:\\Users\\y2657\\AppData\\Local\\Temp\\ipykernel_13732\\915870711.py:30: FutureWarning: Pass y=[0.02327071 0.03543781 0.05247267 ... 0.0511206  0.05123308 0.05144672], sr=16000 as keyword args. From version 0.10 passing these as positional arguments will result in an error\n",
      "  audio_len = librosa.get_duration(np.array(reform_signal), sr)\n"
     ]
    },
    {
     "name": "stdout",
     "output_type": "stream",
     "text": [
      "[1.257, 9.176]\n",
      "[[1.257, 9.176]]\n",
      "7.919\n"
     ]
    },
    {
     "name": "stderr",
     "output_type": "stream",
     "text": [
      "C:\\Users\\y2657\\AppData\\Local\\Temp\\ipykernel_13732\\915870711.py:30: FutureWarning: Pass y=[-0.09720895 -0.11900353 -0.1436612  ...  0.05551619  0.05853952\n",
      "  0.06725299], sr=16000 as keyword args. From version 0.10 passing these as positional arguments will result in an error\n",
      "  audio_len = librosa.get_duration(np.array(reform_signal), sr)\n"
     ]
    },
    {
     "name": "stdout",
     "output_type": "stream",
     "text": [
      "[4.651, 6.154]\n",
      "[[4.651, 6.154]]\n",
      "1.503\n"
     ]
    },
    {
     "name": "stderr",
     "output_type": "stream",
     "text": [
      "C:\\Users\\y2657\\AppData\\Local\\Temp\\ipykernel_13732\\915870711.py:30: FutureWarning: Pass y=[ 0.00356056  0.01584798  0.03170639 ... -0.01901509 -0.01687055\n",
      " -0.01352522], sr=16000 as keyword args. From version 0.10 passing these as positional arguments will result in an error\n",
      "  audio_len = librosa.get_duration(np.array(reform_signal), sr)\n"
     ]
    },
    {
     "name": "stdout",
     "output_type": "stream",
     "text": [
      "[1.221, 5.553, 7.37, 8.797, 10.145, 10.88]\n",
      "[[1.221, 5.553], [7.37, 8.797], [10.145, 10.88]]\n",
      "6.494\n"
     ]
    },
    {
     "name": "stderr",
     "output_type": "stream",
     "text": [
      "C:\\Users\\y2657\\AppData\\Local\\Temp\\ipykernel_13732\\915870711.py:30: FutureWarning: Pass y=[-0.05425572 -0.05581763 -0.05704056 ...  0.04872932  0.05011154\n",
      "  0.05140502], sr=16000 as keyword args. From version 0.10 passing these as positional arguments will result in an error\n",
      "  audio_len = librosa.get_duration(np.array(reform_signal), sr)\n"
     ]
    },
    {
     "name": "stdout",
     "output_type": "stream",
     "text": [
      "[1.943, 3.932]\n",
      "[[1.943, 3.932]]\n",
      "1.989\n"
     ]
    },
    {
     "name": "stderr",
     "output_type": "stream",
     "text": [
      "C:\\Users\\y2657\\AppData\\Local\\Temp\\ipykernel_13732\\915870711.py:30: FutureWarning: Pass y=[ 0.05993517  0.06712996  0.05356347 ... -0.04726412 -0.04262491\n",
      " -0.03723251], sr=16000 as keyword args. From version 0.10 passing these as positional arguments will result in an error\n",
      "  audio_len = librosa.get_duration(np.array(reform_signal), sr)\n"
     ]
    },
    {
     "name": "stdout",
     "output_type": "stream",
     "text": [
      "[7.474, 10.455]\n",
      "[[7.474, 10.455]]\n",
      "2.981\n"
     ]
    },
    {
     "name": "stderr",
     "output_type": "stream",
     "text": [
      "C:\\Users\\y2657\\AppData\\Local\\Temp\\ipykernel_13732\\915870711.py:30: FutureWarning: Pass y=[-0.09382268 -0.04276717  0.00058196 ...  0.1399446   0.13887623\n",
      "  0.13965401], sr=16000 as keyword args. From version 0.10 passing these as positional arguments will result in an error\n",
      "  audio_len = librosa.get_duration(np.array(reform_signal), sr)\n"
     ]
    },
    {
     "name": "stdout",
     "output_type": "stream",
     "text": [
      "[1.305, 7.854]\n",
      "[[1.305, 7.854]]\n",
      "6.549\n"
     ]
    },
    {
     "name": "stderr",
     "output_type": "stream",
     "text": [
      "C:\\Users\\y2657\\AppData\\Local\\Temp\\ipykernel_13732\\915870711.py:30: FutureWarning: Pass y=[-0.07035556 -0.07238907 -0.07241323 ...  0.03729771  0.03796768\n",
      "  0.03927989], sr=16000 as keyword args. From version 0.10 passing these as positional arguments will result in an error\n",
      "  audio_len = librosa.get_duration(np.array(reform_signal), sr)\n"
     ]
    },
    {
     "name": "stdout",
     "output_type": "stream",
     "text": [
      "[1.006, 7.212, 8.901, 12.76]\n",
      "[[1.006, 7.212], [8.901, 12.76]]\n",
      "10.065\n"
     ]
    },
    {
     "name": "stderr",
     "output_type": "stream",
     "text": [
      "C:\\Users\\y2657\\AppData\\Local\\Temp\\ipykernel_13732\\915870711.py:30: FutureWarning: Pass y=[-0.00758465 -0.00761329  0.0059807  ...  0.08843077  0.08568376\n",
      "  0.09265195], sr=16000 as keyword args. From version 0.10 passing these as positional arguments will result in an error\n",
      "  audio_len = librosa.get_duration(np.array(reform_signal), sr)\n"
     ]
    },
    {
     "name": "stdout",
     "output_type": "stream",
     "text": [
      "[1.529, 1.976, 3.804, 4.856, 6.269, 6.836, 9.292, 10.117, 11.342, 12.026]\n",
      "[[1.529, 1.976], [3.804, 4.856], [6.269, 6.836], [9.292, 10.117], [11.342, 12.026]]\n",
      "3.575\n"
     ]
    },
    {
     "name": "stderr",
     "output_type": "stream",
     "text": [
      "C:\\Users\\y2657\\AppData\\Local\\Temp\\ipykernel_13732\\915870711.py:30: FutureWarning: Pass y=[-0.0253051  -0.02141143 -0.01905126 ...  0.04610579  0.03279548\n",
      "  0.02712952], sr=16000 as keyword args. From version 0.10 passing these as positional arguments will result in an error\n",
      "  audio_len = librosa.get_duration(np.array(reform_signal), sr)\n"
     ]
    },
    {
     "name": "stdout",
     "output_type": "stream",
     "text": [
      "[1.434, 2.876, 4.128, 6.044]\n",
      "[[1.434, 2.876], [4.128, 6.044]]\n",
      "3.358\n"
     ]
    },
    {
     "name": "stderr",
     "output_type": "stream",
     "text": [
      "C:\\Users\\y2657\\AppData\\Local\\Temp\\ipykernel_13732\\915870711.py:30: FutureWarning: Pass y=[ 0.05825084  0.05969293  0.05996145 ... -0.01224566 -0.01783018\n",
      " -0.0194435 ], sr=16000 as keyword args. From version 0.10 passing these as positional arguments will result in an error\n",
      "  audio_len = librosa.get_duration(np.array(reform_signal), sr)\n"
     ]
    },
    {
     "name": "stdout",
     "output_type": "stream",
     "text": [
      "[2.512, 3.67, 4.754, 6.249, 7.526, 7.98]\n",
      "[[2.512, 3.67], [4.754, 6.249], [7.526, 7.98]]\n",
      "3.107\n"
     ]
    },
    {
     "name": "stderr",
     "output_type": "stream",
     "text": [
      "C:\\Users\\y2657\\AppData\\Local\\Temp\\ipykernel_13732\\915870711.py:30: FutureWarning: Pass y=[ 0.08316967  0.0893285   0.10322135 ... -0.00234188 -0.01493848\n",
      " -0.00680467], sr=16000 as keyword args. From version 0.10 passing these as positional arguments will result in an error\n",
      "  audio_len = librosa.get_duration(np.array(reform_signal), sr)\n"
     ]
    },
    {
     "name": "stdout",
     "output_type": "stream",
     "text": [
      "[1.171, 5.108]\n",
      "[[1.171, 5.108]]\n",
      "3.937\n"
     ]
    },
    {
     "name": "stderr",
     "output_type": "stream",
     "text": [
      "C:\\Users\\y2657\\AppData\\Local\\Temp\\ipykernel_13732\\915870711.py:30: FutureWarning: Pass y=[-0.13979432 -0.14619899 -0.11738318 ...  0.01748709  0.01071177\n",
      "  0.01169515], sr=16000 as keyword args. From version 0.10 passing these as positional arguments will result in an error\n",
      "  audio_len = librosa.get_duration(np.array(reform_signal), sr)\n"
     ]
    },
    {
     "name": "stdout",
     "output_type": "stream",
     "text": [
      "[2.311, 7.408]\n",
      "[[2.311, 7.408]]\n",
      "5.097\n"
     ]
    },
    {
     "name": "stderr",
     "output_type": "stream",
     "text": [
      "C:\\Users\\y2657\\AppData\\Local\\Temp\\ipykernel_13732\\915870711.py:30: FutureWarning: Pass y=[-0.20245768 -0.2135282  -0.2173461  ... -0.07991049 -0.07545912\n",
      " -0.082696  ], sr=16000 as keyword args. From version 0.10 passing these as positional arguments will result in an error\n",
      "  audio_len = librosa.get_duration(np.array(reform_signal), sr)\n"
     ]
    },
    {
     "name": "stdout",
     "output_type": "stream",
     "text": [
      "[1.155, 6.05, 7.865, 8.973]\n",
      "[[1.155, 6.05], [7.865, 8.973]]\n",
      "6.003\n"
     ]
    },
    {
     "name": "stderr",
     "output_type": "stream",
     "text": [
      "C:\\Users\\y2657\\AppData\\Local\\Temp\\ipykernel_13732\\915870711.py:30: FutureWarning: Pass y=[-0.04529857 -0.08050811 -0.1072616  ...  0.08736995  0.07080591\n",
      "  0.05501694], sr=16000 as keyword args. From version 0.10 passing these as positional arguments will result in an error\n",
      "  audio_len = librosa.get_duration(np.array(reform_signal), sr)\n"
     ]
    },
    {
     "name": "stdout",
     "output_type": "stream",
     "text": [
      "[1.251, 5.589, 6.879, 9.04]\n",
      "[[1.251, 5.589], [6.879, 9.04]]\n",
      "6.499\n"
     ]
    },
    {
     "name": "stderr",
     "output_type": "stream",
     "text": [
      "C:\\Users\\y2657\\AppData\\Local\\Temp\\ipykernel_13732\\915870711.py:30: FutureWarning: Pass y=[-0.03790434 -0.03609313 -0.03298337 ...  0.00856111  0.00670705\n",
      "  0.00284038], sr=16000 as keyword args. From version 0.10 passing these as positional arguments will result in an error\n",
      "  audio_len = librosa.get_duration(np.array(reform_signal), sr)\n"
     ]
    },
    {
     "name": "stdout",
     "output_type": "stream",
     "text": [
      "[1.992, 7.946]\n",
      "[[1.992, 7.946]]\n",
      "5.954\n"
     ]
    },
    {
     "name": "stderr",
     "output_type": "stream",
     "text": [
      "C:\\Users\\y2657\\AppData\\Local\\Temp\\ipykernel_13732\\915870711.py:30: FutureWarning: Pass y=[-0.10866284 -0.11830224 -0.10665323 ...  0.05692786  0.06091563\n",
      "  0.04869457], sr=16000 as keyword args. From version 0.10 passing these as positional arguments will result in an error\n",
      "  audio_len = librosa.get_duration(np.array(reform_signal), sr)\n"
     ]
    },
    {
     "name": "stdout",
     "output_type": "stream",
     "text": [
      "[1.016, 4.896]\n",
      "[[1.016, 4.896]]\n",
      "3.88\n"
     ]
    },
    {
     "name": "stderr",
     "output_type": "stream",
     "text": [
      "C:\\Users\\y2657\\AppData\\Local\\Temp\\ipykernel_13732\\915870711.py:30: FutureWarning: Pass y=[-0.10285746 -0.12877467 -0.15868661 ... -0.02669936 -0.02913051\n",
      " -0.03094246], sr=16000 as keyword args. From version 0.10 passing these as positional arguments will result in an error\n",
      "  audio_len = librosa.get_duration(np.array(reform_signal), sr)\n"
     ]
    },
    {
     "name": "stdout",
     "output_type": "stream",
     "text": [
      "[1.1, 3.308, 4.341, 5.747, 7.456, 8.086]\n",
      "[[1.1, 3.308], [4.341, 5.747], [7.456, 8.086]]\n",
      "4.244\n"
     ]
    },
    {
     "name": "stderr",
     "output_type": "stream",
     "text": [
      "C:\\Users\\y2657\\AppData\\Local\\Temp\\ipykernel_13732\\915870711.py:30: FutureWarning: Pass y=[0.0667469  0.08272372 0.10082289 ... 0.06121881 0.06807081 0.06272886], sr=16000 as keyword args. From version 0.10 passing these as positional arguments will result in an error\n",
      "  audio_len = librosa.get_duration(np.array(reform_signal), sr)\n"
     ]
    },
    {
     "name": "stdout",
     "output_type": "stream",
     "text": [
      "[6.731, 10.022]\n",
      "[[6.731, 10.022]]\n",
      "3.291\n"
     ]
    },
    {
     "name": "stderr",
     "output_type": "stream",
     "text": [
      "C:\\Users\\y2657\\AppData\\Local\\Temp\\ipykernel_13732\\915870711.py:30: FutureWarning: Pass y=[-0.07134281 -0.0905754  -0.09046245 ...  0.12211891  0.04393839\n",
      "  0.00495056], sr=16000 as keyword args. From version 0.10 passing these as positional arguments will result in an error\n",
      "  audio_len = librosa.get_duration(np.array(reform_signal), sr)\n"
     ]
    },
    {
     "name": "stdout",
     "output_type": "stream",
     "text": [
      "[1.315, 7.857]\n",
      "[[1.315, 7.857]]\n",
      "6.542\n"
     ]
    },
    {
     "name": "stderr",
     "output_type": "stream",
     "text": [
      "C:\\Users\\y2657\\AppData\\Local\\Temp\\ipykernel_13732\\915870711.py:30: FutureWarning: Pass y=[ 0.00572838  0.01226386  0.02055381 ... -0.00797436 -0.00136683\n",
      "  0.0029381 ], sr=16000 as keyword args. From version 0.10 passing these as positional arguments will result in an error\n",
      "  audio_len = librosa.get_duration(np.array(reform_signal), sr)\n"
     ]
    },
    {
     "name": "stdout",
     "output_type": "stream",
     "text": [
      "[1.06, 4.479]\n",
      "[[1.06, 4.479]]\n",
      "3.419\n"
     ]
    },
    {
     "name": "stderr",
     "output_type": "stream",
     "text": [
      "C:\\Users\\y2657\\AppData\\Local\\Temp\\ipykernel_13732\\915870711.py:30: FutureWarning: Pass y=[-0.00199347  0.00085874  0.00439358 ... -0.02900523 -0.03038807\n",
      " -0.03167082], sr=16000 as keyword args. From version 0.10 passing these as positional arguments will result in an error\n",
      "  audio_len = librosa.get_duration(np.array(reform_signal), sr)\n"
     ]
    },
    {
     "name": "stdout",
     "output_type": "stream",
     "text": [
      "[5.919, 8.416, 9.459, 10.491]\n",
      "[[5.919, 8.416], [9.459, 10.491]]\n",
      "3.529\n"
     ]
    },
    {
     "name": "stderr",
     "output_type": "stream",
     "text": [
      "C:\\Users\\y2657\\AppData\\Local\\Temp\\ipykernel_13732\\915870711.py:30: FutureWarning: Pass y=[-0.03779376 -0.04099179 -0.04310457 ... -0.01977407 -0.01522164\n",
      " -0.01039312], sr=16000 as keyword args. From version 0.10 passing these as positional arguments will result in an error\n",
      "  audio_len = librosa.get_duration(np.array(reform_signal), sr)\n"
     ]
    },
    {
     "name": "stdout",
     "output_type": "stream",
     "text": [
      "[1.193, 8.36]\n",
      "[[1.193, 8.36]]\n",
      "7.167\n"
     ]
    },
    {
     "name": "stderr",
     "output_type": "stream",
     "text": [
      "C:\\Users\\y2657\\AppData\\Local\\Temp\\ipykernel_13732\\915870711.py:30: FutureWarning: Pass y=[ 0.1296391   0.13822916  0.14609054 ... -0.09776501 -0.05714416\n",
      " -0.01011095], sr=16000 as keyword args. From version 0.10 passing these as positional arguments will result in an error\n",
      "  audio_len = librosa.get_duration(np.array(reform_signal), sr)\n"
     ]
    },
    {
     "name": "stdout",
     "output_type": "stream",
     "text": [
      "[3.603, 5.765, 7.314, 10.348]\n",
      "[[3.603, 5.765], [7.314, 10.348]]\n",
      "5.196\n"
     ]
    },
    {
     "name": "stderr",
     "output_type": "stream",
     "text": [
      "C:\\Users\\y2657\\AppData\\Local\\Temp\\ipykernel_13732\\915870711.py:30: FutureWarning: Pass y=[ 0.00500926  0.004264   -0.02964984 ... -0.02447769 -0.01871512\n",
      " -0.01870282], sr=16000 as keyword args. From version 0.10 passing these as positional arguments will result in an error\n",
      "  audio_len = librosa.get_duration(np.array(reform_signal), sr)\n"
     ]
    },
    {
     "name": "stdout",
     "output_type": "stream",
     "text": [
      "[3.907, 7.451]\n",
      "[[3.907, 7.451]]\n",
      "3.544\n"
     ]
    },
    {
     "name": "stderr",
     "output_type": "stream",
     "text": [
      "C:\\Users\\y2657\\AppData\\Local\\Temp\\ipykernel_13732\\915870711.py:30: FutureWarning: Pass y=[ 0.11820082  0.14046949  0.15311982 ... -0.03083813 -0.0302924\n",
      " -0.02591956], sr=16000 as keyword args. From version 0.10 passing these as positional arguments will result in an error\n",
      "  audio_len = librosa.get_duration(np.array(reform_signal), sr)\n"
     ]
    },
    {
     "name": "stdout",
     "output_type": "stream",
     "text": [
      "[1.797, 10.786]\n",
      "[[1.797, 10.786]]\n",
      "8.989\n"
     ]
    },
    {
     "name": "stderr",
     "output_type": "stream",
     "text": [
      "C:\\Users\\y2657\\AppData\\Local\\Temp\\ipykernel_13732\\915870711.py:30: FutureWarning: Pass y=[-0.0051713  -0.00110909  0.00273048 ...  0.0050381   0.00394803\n",
      "  0.00287303], sr=16000 as keyword args. From version 0.10 passing these as positional arguments will result in an error\n",
      "  audio_len = librosa.get_duration(np.array(reform_signal), sr)\n"
     ]
    },
    {
     "name": "stdout",
     "output_type": "stream",
     "text": [
      "[1.239, 8.94]\n",
      "[[1.239, 8.94]]\n",
      "7.701\n"
     ]
    },
    {
     "name": "stderr",
     "output_type": "stream",
     "text": [
      "C:\\Users\\y2657\\AppData\\Local\\Temp\\ipykernel_13732\\915870711.py:30: FutureWarning: Pass y=[0.0039044  0.00575111 0.00429668 ... 0.00447344 0.00331751 0.00321892], sr=16000 as keyword args. From version 0.10 passing these as positional arguments will result in an error\n",
      "  audio_len = librosa.get_duration(np.array(reform_signal), sr)\n"
     ]
    },
    {
     "name": "stdout",
     "output_type": "stream",
     "text": [
      "[4.544, 11.18]\n",
      "[[4.544, 11.18]]\n",
      "6.636\n"
     ]
    },
    {
     "name": "stderr",
     "output_type": "stream",
     "text": [
      "C:\\Users\\y2657\\AppData\\Local\\Temp\\ipykernel_13732\\915870711.py:30: FutureWarning: Pass y=[ 0.00903787 -0.00654603 -0.02612122 ... -0.03054396 -0.02572674\n",
      " -0.0214807 ], sr=16000 as keyword args. From version 0.10 passing these as positional arguments will result in an error\n",
      "  audio_len = librosa.get_duration(np.array(reform_signal), sr)\n"
     ]
    },
    {
     "name": "stdout",
     "output_type": "stream",
     "text": [
      "[3.002, 5.568, 7.015, 8.289]\n",
      "[[3.002, 5.568], [7.015, 8.289]]\n",
      "3.84\n"
     ]
    },
    {
     "name": "stderr",
     "output_type": "stream",
     "text": [
      "C:\\Users\\y2657\\AppData\\Local\\Temp\\ipykernel_13732\\915870711.py:30: FutureWarning: Pass y=[-0.00617742 -0.00637974  0.00580919 ...  0.01107312  0.01038911\n",
      "  0.00947632], sr=16000 as keyword args. From version 0.10 passing these as positional arguments will result in an error\n",
      "  audio_len = librosa.get_duration(np.array(reform_signal), sr)\n"
     ]
    },
    {
     "name": "stdout",
     "output_type": "stream",
     "text": [
      "[1.204, 8.661]\n",
      "[[1.204, 8.661]]\n",
      "7.457\n"
     ]
    },
    {
     "name": "stderr",
     "output_type": "stream",
     "text": [
      "C:\\Users\\y2657\\AppData\\Local\\Temp\\ipykernel_13732\\915870711.py:30: FutureWarning: Pass y=[0.28487465 0.39250395 0.47932625 ... 0.09776662 0.10593272 0.08776134], sr=16000 as keyword args. From version 0.10 passing these as positional arguments will result in an error\n",
      "  audio_len = librosa.get_duration(np.array(reform_signal), sr)\n"
     ]
    },
    {
     "name": "stdout",
     "output_type": "stream",
     "text": [
      "[1.063, 7.739, 8.932, 11.947]\n",
      "[[1.063, 7.739], [8.932, 11.947]]\n",
      "9.691\n"
     ]
    },
    {
     "name": "stderr",
     "output_type": "stream",
     "text": [
      "C:\\Users\\y2657\\AppData\\Local\\Temp\\ipykernel_13732\\915870711.py:30: FutureWarning: Pass y=[ 0.09186793  0.09736037  0.09958214 ... -0.01925814 -0.0314359\n",
      " -0.04178841], sr=16000 as keyword args. From version 0.10 passing these as positional arguments will result in an error\n",
      "  audio_len = librosa.get_duration(np.array(reform_signal), sr)\n"
     ]
    },
    {
     "name": "stdout",
     "output_type": "stream",
     "text": [
      "[1.079, 2.642, 3.797, 4.681, 6.002, 11.447]\n",
      "[[1.079, 2.642], [3.797, 4.681], [6.002, 11.447]]\n",
      "7.892\n"
     ]
    },
    {
     "name": "stderr",
     "output_type": "stream",
     "text": [
      "C:\\Users\\y2657\\AppData\\Local\\Temp\\ipykernel_13732\\915870711.py:30: FutureWarning: Pass y=[ 0.00072017 -0.00035882 -0.00157995 ...  0.01975156  0.00927629\n",
      " -0.00277777], sr=16000 as keyword args. From version 0.10 passing these as positional arguments will result in an error\n",
      "  audio_len = librosa.get_duration(np.array(reform_signal), sr)\n"
     ]
    },
    {
     "name": "stdout",
     "output_type": "stream",
     "text": [
      "[2.865, 7.407]\n",
      "[[2.865, 7.407]]\n",
      "4.542\n"
     ]
    },
    {
     "name": "stderr",
     "output_type": "stream",
     "text": [
      "C:\\Users\\y2657\\AppData\\Local\\Temp\\ipykernel_13732\\915870711.py:30: FutureWarning: Pass y=[-0.11332161 -0.11059599 -0.09224229 ... -0.07318232 -0.0746825\n",
      " -0.06895762], sr=16000 as keyword args. From version 0.10 passing these as positional arguments will result in an error\n",
      "  audio_len = librosa.get_duration(np.array(reform_signal), sr)\n"
     ]
    },
    {
     "name": "stdout",
     "output_type": "stream",
     "text": [
      "[1.119, 5.817, 7.282, 9.601]\n",
      "[[1.119, 5.817], [7.282, 9.601]]\n",
      "7.017\n"
     ]
    },
    {
     "name": "stderr",
     "output_type": "stream",
     "text": [
      "C:\\Users\\y2657\\AppData\\Local\\Temp\\ipykernel_13732\\915870711.py:30: FutureWarning: Pass y=[-0.03051654 -0.01400018 -0.01219729 ... -0.03372476 -0.03126766\n",
      " -0.03861466], sr=16000 as keyword args. From version 0.10 passing these as positional arguments will result in an error\n",
      "  audio_len = librosa.get_duration(np.array(reform_signal), sr)\n"
     ]
    },
    {
     "name": "stdout",
     "output_type": "stream",
     "text": [
      "[5.572, 11.252]\n",
      "[[5.572, 11.252]]\n",
      "5.68\n"
     ]
    },
    {
     "name": "stderr",
     "output_type": "stream",
     "text": [
      "C:\\Users\\y2657\\AppData\\Local\\Temp\\ipykernel_13732\\915870711.py:30: FutureWarning: Pass y=[-0.05393898 -0.06423794 -0.05299561 ...  0.06531702  0.04847096\n",
      "  0.02517171], sr=16000 as keyword args. From version 0.10 passing these as positional arguments will result in an error\n",
      "  audio_len = librosa.get_duration(np.array(reform_signal), sr)\n"
     ]
    },
    {
     "name": "stdout",
     "output_type": "stream",
     "text": [
      "[5.994, 8.272]\n",
      "[[5.994, 8.272]]\n",
      "2.278\n"
     ]
    },
    {
     "name": "stderr",
     "output_type": "stream",
     "text": [
      "C:\\Users\\y2657\\AppData\\Local\\Temp\\ipykernel_13732\\915870711.py:30: FutureWarning: Pass y=[0.20956323 0.13558187 0.02098263 ... 0.06008626 0.06101885 0.04850086], sr=16000 as keyword args. From version 0.10 passing these as positional arguments will result in an error\n",
      "  audio_len = librosa.get_duration(np.array(reform_signal), sr)\n"
     ]
    },
    {
     "name": "stdout",
     "output_type": "stream",
     "text": [
      "[1.013, 3.946, 5.499, 7.395]\n",
      "[[1.013, 3.946], [5.499, 7.395]]\n",
      "4.8290625\n"
     ]
    },
    {
     "name": "stderr",
     "output_type": "stream",
     "text": [
      "C:\\Users\\y2657\\AppData\\Local\\Temp\\ipykernel_13732\\915870711.py:30: FutureWarning: Pass y=[0.04746505 0.0485157  0.04759771 ... 0.03090047 0.02884701 0.02704374], sr=16000 as keyword args. From version 0.10 passing these as positional arguments will result in an error\n",
      "  audio_len = librosa.get_duration(np.array(reform_signal), sr)\n"
     ]
    },
    {
     "name": "stdout",
     "output_type": "stream",
     "text": [
      "[2.91, 8.368]\n",
      "[[2.91, 8.368]]\n",
      "5.458\n"
     ]
    },
    {
     "name": "stderr",
     "output_type": "stream",
     "text": [
      "C:\\Users\\y2657\\AppData\\Local\\Temp\\ipykernel_13732\\915870711.py:30: FutureWarning: Pass y=[-0.03699654 -0.04160257 -0.04436107 ...  0.01769031  0.02037476\n",
      "  0.02311848], sr=16000 as keyword args. From version 0.10 passing these as positional arguments will result in an error\n",
      "  audio_len = librosa.get_duration(np.array(reform_signal), sr)\n"
     ]
    },
    {
     "name": "stdout",
     "output_type": "stream",
     "text": [
      "[1.599, 5.792, 7.057, 10.488]\n",
      "[[1.599, 5.792], [7.057, 10.488]]\n",
      "7.624\n"
     ]
    },
    {
     "name": "stderr",
     "output_type": "stream",
     "text": [
      "C:\\Users\\y2657\\AppData\\Local\\Temp\\ipykernel_13732\\915870711.py:30: FutureWarning: Pass y=[-0.01563905 -0.01623156 -0.01682199 ...  0.00134607  0.00027128\n",
      " -0.00059379], sr=16000 as keyword args. From version 0.10 passing these as positional arguments will result in an error\n",
      "  audio_len = librosa.get_duration(np.array(reform_signal), sr)\n"
     ]
    },
    {
     "name": "stdout",
     "output_type": "stream",
     "text": [
      "[1.815, 5.351, 6.652, 7.73]\n",
      "[[1.815, 5.351], [6.652, 7.73]]\n",
      "4.614\n"
     ]
    },
    {
     "name": "stderr",
     "output_type": "stream",
     "text": [
      "C:\\Users\\y2657\\AppData\\Local\\Temp\\ipykernel_13732\\915870711.py:30: FutureWarning: Pass y=[-0.05126945 -0.05298611 -0.05367025 ...  0.03268608  0.03072717\n",
      "  0.02801854], sr=16000 as keyword args. From version 0.10 passing these as positional arguments will result in an error\n",
      "  audio_len = librosa.get_duration(np.array(reform_signal), sr)\n"
     ]
    },
    {
     "name": "stdout",
     "output_type": "stream",
     "text": [
      "[5.199, 6.746]\n",
      "[[5.199, 6.746]]\n",
      "1.547\n"
     ]
    },
    {
     "name": "stderr",
     "output_type": "stream",
     "text": [
      "C:\\Users\\y2657\\AppData\\Local\\Temp\\ipykernel_13732\\915870711.py:30: FutureWarning: Pass y=[-0.00136968  0.0269426   0.05778736 ... -0.05072687 -0.04570483\n",
      " -0.03980973], sr=16000 as keyword args. From version 0.10 passing these as positional arguments will result in an error\n",
      "  audio_len = librosa.get_duration(np.array(reform_signal), sr)\n"
     ]
    },
    {
     "name": "stdout",
     "output_type": "stream",
     "text": [
      "[1.245, 8.936, 10.833, 13.242]\n",
      "[[1.245, 8.936], [10.833, 13.242]]\n",
      "10.1\n"
     ]
    },
    {
     "name": "stderr",
     "output_type": "stream",
     "text": [
      "C:\\Users\\y2657\\AppData\\Local\\Temp\\ipykernel_13732\\915870711.py:30: FutureWarning: Pass y=[ 0.02808338  0.02911868  0.02857161 ... -0.01939951 -0.0194881\n",
      " -0.01916396], sr=16000 as keyword args. From version 0.10 passing these as positional arguments will result in an error\n",
      "  audio_len = librosa.get_duration(np.array(reform_signal), sr)\n"
     ]
    },
    {
     "name": "stdout",
     "output_type": "stream",
     "text": [
      "[1.341, 2.041, 4.676, 5.551, 7.147, 8.572, 9.711, 11.736]\n",
      "[[1.341, 2.041], [4.676, 5.551], [7.147, 8.572], [9.711, 11.736]]\n",
      "5.025\n"
     ]
    },
    {
     "name": "stderr",
     "output_type": "stream",
     "text": [
      "C:\\Users\\y2657\\AppData\\Local\\Temp\\ipykernel_13732\\915870711.py:30: FutureWarning: Pass y=[-0.03428771 -0.03032873 -0.02890064 ...  0.00550147 -0.01101819\n",
      " -0.02257899], sr=16000 as keyword args. From version 0.10 passing these as positional arguments will result in an error\n",
      "  audio_len = librosa.get_duration(np.array(reform_signal), sr)\n"
     ]
    },
    {
     "name": "stdout",
     "output_type": "stream",
     "text": [
      "[1.524, 2.558, 3.666, 7.106, 9.274, 10.216]\n",
      "[[1.524, 2.558], [3.666, 7.106], [9.274, 10.216]]\n",
      "5.416\n"
     ]
    },
    {
     "name": "stderr",
     "output_type": "stream",
     "text": [
      "C:\\Users\\y2657\\AppData\\Local\\Temp\\ipykernel_13732\\915870711.py:30: FutureWarning: Pass y=[-0.04711684  0.16015293 -0.16681774 ...  0.06627745  0.06639984\n",
      "  0.06149706], sr=16000 as keyword args. From version 0.10 passing these as positional arguments will result in an error\n",
      "  audio_len = librosa.get_duration(np.array(reform_signal), sr)\n"
     ]
    },
    {
     "name": "stdout",
     "output_type": "stream",
     "text": [
      "[1.653, 6.802]\n",
      "[[1.653, 6.802]]\n",
      "5.149\n"
     ]
    },
    {
     "name": "stderr",
     "output_type": "stream",
     "text": [
      "C:\\Users\\y2657\\AppData\\Local\\Temp\\ipykernel_13732\\915870711.py:30: FutureWarning: Pass y=[-0.09399436 -0.10141988 -0.09233481 ... -0.08013946 -0.09108541\n",
      " -0.08192431], sr=16000 as keyword args. From version 0.10 passing these as positional arguments will result in an error\n",
      "  audio_len = librosa.get_duration(np.array(reform_signal), sr)\n"
     ]
    },
    {
     "name": "stdout",
     "output_type": "stream",
     "text": [
      "[1.996, 3.879]\n",
      "[[1.996, 3.879]]\n",
      "1.883\n"
     ]
    },
    {
     "name": "stderr",
     "output_type": "stream",
     "text": [
      "C:\\Users\\y2657\\AppData\\Local\\Temp\\ipykernel_13732\\915870711.py:30: FutureWarning: Pass y=[ 0.00181122  0.00152224  0.00085809 ...  0.00047591 -0.00151166\n",
      " -0.00122855], sr=16000 as keyword args. From version 0.10 passing these as positional arguments will result in an error\n",
      "  audio_len = librosa.get_duration(np.array(reform_signal), sr)\n"
     ]
    },
    {
     "name": "stdout",
     "output_type": "stream",
     "text": [
      "[4.971, 8.248]\n",
      "[[4.971, 8.248]]\n",
      "3.277\n"
     ]
    },
    {
     "name": "stderr",
     "output_type": "stream",
     "text": [
      "C:\\Users\\y2657\\AppData\\Local\\Temp\\ipykernel_13732\\915870711.py:30: FutureWarning: Pass y=[0.06577567 0.09459719 0.13678564 ... 0.02694056 0.02368734 0.01782695], sr=16000 as keyword args. From version 0.10 passing these as positional arguments will result in an error\n",
      "  audio_len = librosa.get_duration(np.array(reform_signal), sr)\n"
     ]
    },
    {
     "name": "stdout",
     "output_type": "stream",
     "text": [
      "[2.324, 7.14]\n",
      "[[2.324, 7.14]]\n",
      "4.816\n"
     ]
    },
    {
     "name": "stderr",
     "output_type": "stream",
     "text": [
      "C:\\Users\\y2657\\AppData\\Local\\Temp\\ipykernel_13732\\915870711.py:30: FutureWarning: Pass y=[-0.00966455 -0.01031129 -0.01074689 ... -0.08364448 -0.05626518\n",
      " -0.02950697], sr=16000 as keyword args. From version 0.10 passing these as positional arguments will result in an error\n",
      "  audio_len = librosa.get_duration(np.array(reform_signal), sr)\n"
     ]
    },
    {
     "name": "stdout",
     "output_type": "stream",
     "text": [
      "[1.714, 3.349]\n",
      "[[1.714, 3.349]]\n",
      "1.635\n"
     ]
    },
    {
     "name": "stderr",
     "output_type": "stream",
     "text": [
      "C:\\Users\\y2657\\AppData\\Local\\Temp\\ipykernel_13732\\915870711.py:30: FutureWarning: Pass y=[-0.04727178  0.00093785  0.03024283 ...  0.03415727  0.02537932\n",
      "  0.02015023], sr=16000 as keyword args. From version 0.10 passing these as positional arguments will result in an error\n",
      "  audio_len = librosa.get_duration(np.array(reform_signal), sr)\n"
     ]
    },
    {
     "name": "stdout",
     "output_type": "stream",
     "text": [
      "[1.297, 7.984]\n",
      "[[1.297, 7.984]]\n",
      "6.687\n"
     ]
    },
    {
     "name": "stderr",
     "output_type": "stream",
     "text": [
      "C:\\Users\\y2657\\AppData\\Local\\Temp\\ipykernel_13732\\915870711.py:30: FutureWarning: Pass y=[ 0.0114323   0.03695482  0.01112304 ... -0.00637576 -0.0096359\n",
      "  0.02907217], sr=16000 as keyword args. From version 0.10 passing these as positional arguments will result in an error\n",
      "  audio_len = librosa.get_duration(np.array(reform_signal), sr)\n"
     ]
    },
    {
     "name": "stdout",
     "output_type": "stream",
     "text": [
      "[1.397, 4.076]\n",
      "[[1.397, 4.076]]\n",
      "2.6789375\n"
     ]
    },
    {
     "name": "stderr",
     "output_type": "stream",
     "text": [
      "C:\\Users\\y2657\\AppData\\Local\\Temp\\ipykernel_13732\\915870711.py:30: FutureWarning: Pass y=[-0.01154505 -0.00297632  0.01181059 ...  0.03714368  0.03949065\n",
      "  0.04216934], sr=16000 as keyword args. From version 0.10 passing these as positional arguments will result in an error\n",
      "  audio_len = librosa.get_duration(np.array(reform_signal), sr)\n"
     ]
    }
   ],
   "source": [
    "for folder_name in folder_list:\n",
    "    file_path = folder_path + folder_name\n",
    "    file_list = paths.list_files(file_path)\n",
    "    \n",
    "    for file_name in file_list:\n",
    "        myaudio = AudioSegment.from_wav(file_name)\n",
    "        dBFS = myaudio.dBFS\n",
    "        silence_section = silence.detect_silence(myaudio, min_silence_len=1000, silence_thresh=dBFS-16)\n",
    "        silence_section = [((start/1000),(stop/1000)) for start,stop in silence_section]\n",
    "        name = file_name.split('\\\\')[0]\n",
    "        wav = file_name.split('\\\\')[-1]\n",
    "        \n",
    "        signal, sr = librosa.load(file_name, sr = 16000)\n",
    "        section_list = []\n",
    "        for start, end in silence_section:\n",
    "            section_list.extend([start, end])\n",
    "        section_list = section_list[1:-1]\n",
    "        if not section_list:\n",
    "            continue\n",
    "        print(section_list)\n",
    "        new_section = []\n",
    "        for i, section in enumerate(section_list):\n",
    "            if i % 2 == 0:\n",
    "                new_section.append([section, section_list[i+1]])\n",
    "        print(new_section)\n",
    "        reform_signal = []\n",
    "        for start, end in new_section:\n",
    "            reform_signal.extend(signal[int(start*16000):int(end*16000)])\n",
    "        \n",
    "        audio_len = librosa.get_duration(np.array(reform_signal), sr)\n",
    "        print(audio_len)\n",
    "        \n",
    "        sf.write(name+'/silence_cut/'+ wav, reform_signal,sr,'PCM_16')"
   ]
  },
  {
   "cell_type": "code",
   "execution_count": 5,
   "id": "ba62e82f",
   "metadata": {},
   "outputs": [],
   "source": [
    "test = 'data/4차년도/5e2b03965807b852d9e0220d.wav'\n",
    "y, sr = librosa.load(test, sr=16000)"
   ]
  },
  {
   "cell_type": "code",
   "execution_count": 10,
   "id": "6929bf26",
   "metadata": {},
   "outputs": [],
   "source": [
    "myaudio = AudioSegment.from_wav(test)\n",
    "dBFS = myaudio.dBFS"
   ]
  },
  {
   "cell_type": "code",
   "execution_count": 20,
   "id": "d4fc0847",
   "metadata": {},
   "outputs": [],
   "source": [
    "silence_section = silence.detect_silence(myaudio, min_silence_len=1000, silence_thresh=dBFS-16)"
   ]
  },
  {
   "cell_type": "code",
   "execution_count": 26,
   "id": "ecd7b35f",
   "metadata": {},
   "outputs": [
    {
     "data": {
      "text/plain": [
       "[[5365, 7206], [7210, 8235], [10386, 11441]]"
      ]
     },
     "execution_count": 26,
     "metadata": {},
     "output_type": "execute_result"
    }
   ],
   "source": [
    "silence_section_1 = [((start//1000),(stop//1000)) for start,stop in silence_section]\n",
    "silence_section"
   ]
  },
  {
   "cell_type": "code",
   "execution_count": 21,
   "id": "84c928eb",
   "metadata": {},
   "outputs": [],
   "source": [
    "silence_section_1 = silence_section"
   ]
  },
  {
   "cell_type": "code",
   "execution_count": 37,
   "id": "25a5649b",
   "metadata": {},
   "outputs": [
    {
     "data": {
      "text/plain": [
       "[(5.365, 7.206), (7.21, 8.235), (10.386, 11.441)]"
      ]
     },
     "execution_count": 37,
     "metadata": {},
     "output_type": "execute_result"
    }
   ],
   "source": [
    "silence_section = [((start/1000),(stop/1000)) for start,stop in silence_section]\n",
    "silence_section"
   ]
  },
  {
   "cell_type": "code",
   "execution_count": 40,
   "id": "99f8c25a",
   "metadata": {},
   "outputs": [
    {
     "name": "stdout",
     "output_type": "stream",
     "text": [
      "[2, 1, 1]\n"
     ]
    }
   ],
   "source": [
    "a = []\n",
    "for i in silence_section:\n",
    "    sec = i[1]-i[0]\n",
    "    a.append(round(sec))\n",
    "    \n",
    "#     a.append(i[1]-i[0])\n",
    "print(a)"
   ]
  },
  {
   "cell_type": "code",
   "execution_count": 35,
   "id": "2902a15a",
   "metadata": {},
   "outputs": [
    {
     "data": {
      "text/plain": [
       "4"
      ]
     },
     "execution_count": 35,
     "metadata": {},
     "output_type": "execute_result"
    }
   ],
   "source": [
    "sum(a)"
   ]
  },
  {
   "cell_type": "code",
   "execution_count": 41,
   "id": "792ee95f",
   "metadata": {},
   "outputs": [
    {
     "data": {
      "text/plain": [
       "[(5.365, 7.206), (7.21, 8.235), (10.386, 11.441)]"
      ]
     },
     "execution_count": 41,
     "metadata": {},
     "output_type": "execute_result"
    }
   ],
   "source": [
    "silence_section"
   ]
  },
  {
   "cell_type": "code",
   "execution_count": 42,
   "id": "dcdfe37e",
   "metadata": {},
   "outputs": [
    {
     "data": {
      "text/plain": [
       "[2, 1, 1]"
      ]
     },
     "execution_count": 42,
     "metadata": {},
     "output_type": "execute_result"
    }
   ],
   "source": [
    "a"
   ]
  },
  {
   "cell_type": "code",
   "execution_count": 44,
   "id": "cfe809e8",
   "metadata": {},
   "outputs": [
    {
     "data": {
      "text/plain": [
       "-72.50507709862408"
      ]
     },
     "execution_count": 44,
     "metadata": {},
     "output_type": "execute_result"
    }
   ],
   "source": [
    "dBFS-16"
   ]
  },
  {
   "cell_type": "code",
   "execution_count": null,
   "id": "dee6d94e",
   "metadata": {},
   "outputs": [],
   "source": []
  }
 ],
 "metadata": {
  "kernelspec": {
   "display_name": "Python 3 (ipykernel)",
   "language": "python",
   "name": "python3"
  },
  "language_info": {
   "codemirror_mode": {
    "name": "ipython",
    "version": 3
   },
   "file_extension": ".py",
   "mimetype": "text/x-python",
   "name": "python",
   "nbconvert_exporter": "python",
   "pygments_lexer": "ipython3",
   "version": "3.9.12"
  }
 },
 "nbformat": 4,
 "nbformat_minor": 5
}
